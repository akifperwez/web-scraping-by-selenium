{
 "cells": [
  {
   "cell_type": "code",
   "execution_count": 1,
   "metadata": {},
   "outputs": [],
   "source": [
    "import selenium\n",
    "import pandas as pd\n",
    "from selenium import webdriver"
   ]
  },
  {
   "cell_type": "markdown",
   "metadata": {},
   "source": [
    "# Web Scrapping for Data Analyst"
   ]
  },
  {
   "cell_type": "code",
   "execution_count": 39,
   "metadata": {},
   "outputs": [],
   "source": [
    "driver=webdriver.Chrome(\"chromedriver.exe\")"
   ]
  },
  {
   "cell_type": "code",
   "execution_count": 40,
   "metadata": {},
   "outputs": [],
   "source": [
    "url= \"https://www.naukri.com/\"\n",
    "driver.get(url)"
   ]
  },
  {
   "cell_type": "code",
   "execution_count": 41,
   "metadata": {},
   "outputs": [
    {
     "data": {
      "text/plain": [
       "<selenium.webdriver.remote.webelement.WebElement (session=\"59be5c7bbf69a5173721eaec6f6d9365\", element=\"567124bd-7ed4-4076-a00b-03cff1ad4298\")>"
      ]
     },
     "execution_count": 41,
     "metadata": {},
     "output_type": "execute_result"
    }
   ],
   "source": [
    "search_job=driver.find_element_by_id(\"qsb-keyword-sugg\")\n",
    "search_job                                 "
   ]
  },
  {
   "cell_type": "code",
   "execution_count": 42,
   "metadata": {},
   "outputs": [],
   "source": [
    "search_job.send_keys(\"Data Analyst\")"
   ]
  },
  {
   "cell_type": "code",
   "execution_count": 45,
   "metadata": {},
   "outputs": [
    {
     "data": {
      "text/plain": [
       "<selenium.webdriver.remote.webelement.WebElement (session=\"59be5c7bbf69a5173721eaec6f6d9365\", element=\"5bbab748-3bf0-4f8b-ac75-3c349c9e303d\")>"
      ]
     },
     "execution_count": 45,
     "metadata": {},
     "output_type": "execute_result"
    }
   ],
   "source": [
    "search_loc=driver.find_element_by_id(\"qsb-location-sugg\")\n",
    "search_loc "
   ]
  },
  {
   "cell_type": "code",
   "execution_count": 46,
   "metadata": {},
   "outputs": [],
   "source": [
    "search_loc.send_keys(\"Bangalore\")"
   ]
  },
  {
   "cell_type": "code",
   "execution_count": 47,
   "metadata": {},
   "outputs": [],
   "source": [
    "search_btn=driver.find_element_by_xpath(\"//button[@class='btn']\")\n",
    "search_btn.click()"
   ]
  },
  {
   "cell_type": "code",
   "execution_count": 49,
   "metadata": {},
   "outputs": [
    {
     "data": {
      "text/plain": [
       "[<selenium.webdriver.remote.webelement.WebElement (session=\"59be5c7bbf69a5173721eaec6f6d9365\", element=\"cb413792-09c6-42b9-ae9f-853cb91252dd\")>,\n",
       " <selenium.webdriver.remote.webelement.WebElement (session=\"59be5c7bbf69a5173721eaec6f6d9365\", element=\"1fdbdf9c-b449-4cc5-86e7-11fca62bce2d\")>,\n",
       " <selenium.webdriver.remote.webelement.WebElement (session=\"59be5c7bbf69a5173721eaec6f6d9365\", element=\"4b8abd55-79f9-44ac-b169-1db42a1c5a69\")>,\n",
       " <selenium.webdriver.remote.webelement.WebElement (session=\"59be5c7bbf69a5173721eaec6f6d9365\", element=\"4f0a6d94-92a2-4798-8978-ec1bfe45f810\")>,\n",
       " <selenium.webdriver.remote.webelement.WebElement (session=\"59be5c7bbf69a5173721eaec6f6d9365\", element=\"591fb04f-1e0f-4ba1-b9a2-ebc969541014\")>,\n",
       " <selenium.webdriver.remote.webelement.WebElement (session=\"59be5c7bbf69a5173721eaec6f6d9365\", element=\"c538b1af-f186-4f59-bef8-86dae309d2cb\")>,\n",
       " <selenium.webdriver.remote.webelement.WebElement (session=\"59be5c7bbf69a5173721eaec6f6d9365\", element=\"b0d76556-97f6-4a72-bb71-6da59079647f\")>,\n",
       " <selenium.webdriver.remote.webelement.WebElement (session=\"59be5c7bbf69a5173721eaec6f6d9365\", element=\"82d0bd19-759c-4fd7-9124-883b24460200\")>,\n",
       " <selenium.webdriver.remote.webelement.WebElement (session=\"59be5c7bbf69a5173721eaec6f6d9365\", element=\"3765d1b3-977f-4313-b04e-640883d2896a\")>,\n",
       " <selenium.webdriver.remote.webelement.WebElement (session=\"59be5c7bbf69a5173721eaec6f6d9365\", element=\"b19a5d77-3f9d-4dc6-b7c1-bccd8add7086\")>,\n",
       " <selenium.webdriver.remote.webelement.WebElement (session=\"59be5c7bbf69a5173721eaec6f6d9365\", element=\"54441af4-dd18-446d-b32e-1cad01c9dec0\")>,\n",
       " <selenium.webdriver.remote.webelement.WebElement (session=\"59be5c7bbf69a5173721eaec6f6d9365\", element=\"5fdfcfe1-bb37-4f8f-819a-59ecaa4046c0\")>,\n",
       " <selenium.webdriver.remote.webelement.WebElement (session=\"59be5c7bbf69a5173721eaec6f6d9365\", element=\"9d86eeb0-c967-45f5-b377-9d2aa0bf39d2\")>,\n",
       " <selenium.webdriver.remote.webelement.WebElement (session=\"59be5c7bbf69a5173721eaec6f6d9365\", element=\"63a70b1b-c3c5-4a98-b838-c128fd5ded9c\")>,\n",
       " <selenium.webdriver.remote.webelement.WebElement (session=\"59be5c7bbf69a5173721eaec6f6d9365\", element=\"4fb121a3-3da3-42a2-aebe-bc2ab68cf470\")>,\n",
       " <selenium.webdriver.remote.webelement.WebElement (session=\"59be5c7bbf69a5173721eaec6f6d9365\", element=\"1c117b2d-ece0-4bee-95bf-932319ccd6e5\")>,\n",
       " <selenium.webdriver.remote.webelement.WebElement (session=\"59be5c7bbf69a5173721eaec6f6d9365\", element=\"0159086b-5dee-4846-8387-ee609234a426\")>,\n",
       " <selenium.webdriver.remote.webelement.WebElement (session=\"59be5c7bbf69a5173721eaec6f6d9365\", element=\"e8ce89b4-6e85-4bb9-8712-a42b44c61b21\")>,\n",
       " <selenium.webdriver.remote.webelement.WebElement (session=\"59be5c7bbf69a5173721eaec6f6d9365\", element=\"b9b97646-f954-4a05-aeab-d1e275ff193b\")>,\n",
       " <selenium.webdriver.remote.webelement.WebElement (session=\"59be5c7bbf69a5173721eaec6f6d9365\", element=\"8d216d0d-a866-4a2d-8538-9667c647281f\")>]"
      ]
     },
     "execution_count": 49,
     "metadata": {},
     "output_type": "execute_result"
    }
   ],
   "source": [
    "titles=driver.find_elements_by_xpath(\"//a[@class= 'title fw500 ellipsis']\")\n",
    "titles"
   ]
  },
  {
   "cell_type": "code",
   "execution_count": 50,
   "metadata": {},
   "outputs": [
    {
     "data": {
      "text/plain": [
       "['Data Scientist / Data Analyst -Business Analyst',\n",
       " 'Data Analyst',\n",
       " 'Hiring Data Analysts For E commerce Platform || WFH',\n",
       " 'Data Analyst',\n",
       " 'Data Analyst',\n",
       " 'DA - Urgent Opening For Data Analyst BFSI Domain - Pan India',\n",
       " 'Data Analyst',\n",
       " 'Assistant Vice President - MIS & Reporting ( Business Data Analyst)',\n",
       " 'Data Analyst',\n",
       " 'Data Analyst']"
      ]
     },
     "execution_count": 50,
     "metadata": {},
     "output_type": "execute_result"
    }
   ],
   "source": [
    "job_title=[]\n",
    "for i in titles:\n",
    "    job_title.append(i.text)\n",
    "job_title[:10]"
   ]
  },
  {
   "cell_type": "code",
   "execution_count": 53,
   "metadata": {},
   "outputs": [
    {
     "data": {
      "text/plain": [
       "[<selenium.webdriver.remote.webelement.WebElement (session=\"59be5c7bbf69a5173721eaec6f6d9365\", element=\"dc3875bf-b8f8-4dbd-b3d3-d4e73646e37c\")>,\n",
       " <selenium.webdriver.remote.webelement.WebElement (session=\"59be5c7bbf69a5173721eaec6f6d9365\", element=\"7e4a34b4-4ff5-4ef0-8df5-98e575caddad\")>,\n",
       " <selenium.webdriver.remote.webelement.WebElement (session=\"59be5c7bbf69a5173721eaec6f6d9365\", element=\"56068c36-b5ec-4bc0-bbc0-c2ff52313cde\")>,\n",
       " <selenium.webdriver.remote.webelement.WebElement (session=\"59be5c7bbf69a5173721eaec6f6d9365\", element=\"7688e4fc-85ce-4c3c-8c30-e1cfc865a2f6\")>,\n",
       " <selenium.webdriver.remote.webelement.WebElement (session=\"59be5c7bbf69a5173721eaec6f6d9365\", element=\"2dcfd4ac-177c-4a10-bbe5-e71d64eddd02\")>,\n",
       " <selenium.webdriver.remote.webelement.WebElement (session=\"59be5c7bbf69a5173721eaec6f6d9365\", element=\"f528e987-213d-49b5-8b96-d0e266c56b4b\")>,\n",
       " <selenium.webdriver.remote.webelement.WebElement (session=\"59be5c7bbf69a5173721eaec6f6d9365\", element=\"44d6ec67-12f8-4db5-8658-bb31409f7c09\")>,\n",
       " <selenium.webdriver.remote.webelement.WebElement (session=\"59be5c7bbf69a5173721eaec6f6d9365\", element=\"b84b634c-b3ec-4138-b784-6d0266453779\")>,\n",
       " <selenium.webdriver.remote.webelement.WebElement (session=\"59be5c7bbf69a5173721eaec6f6d9365\", element=\"abb2242b-ffd5-4874-9c40-2e772a489543\")>,\n",
       " <selenium.webdriver.remote.webelement.WebElement (session=\"59be5c7bbf69a5173721eaec6f6d9365\", element=\"aeed8485-a14f-4222-8177-f52bf1d3579e\")>]"
      ]
     },
     "execution_count": 53,
     "metadata": {},
     "output_type": "execute_result"
    }
   ],
   "source": [
    "name=driver.find_elements_by_xpath(\"//a[@class= 'subTitle ellipsis fleft']\")\n",
    "name[:10]"
   ]
  },
  {
   "cell_type": "code",
   "execution_count": 54,
   "metadata": {},
   "outputs": [
    {
     "data": {
      "text/plain": [
       "['Inflexion Analytix Private Limited',\n",
       " 'GlaxoSmithKline Pharmaceuticals Limited',\n",
       " 'Allegis Services India Pvt. Ltd.',\n",
       " 'Shell India Markets Private Limited',\n",
       " 'Applied Materials',\n",
       " 'Tata Consultancy Services Ltd.',\n",
       " 'Shell India Markets Private Limited',\n",
       " 'INTERTRUSTVITEOS CORPORATE AND FUND SERVICES PVT. LTD.',\n",
       " 'Myntra Designs Pvt. Ltd.',\n",
       " 'Myntra Designs Pvt. Ltd.']"
      ]
     },
     "execution_count": 54,
     "metadata": {},
     "output_type": "execute_result"
    }
   ],
   "source": [
    "company_name=[]\n",
    "for i in name:\n",
    "    company_name.append(i.text)\n",
    "company_name[:10]"
   ]
  },
  {
   "cell_type": "code",
   "execution_count": 55,
   "metadata": {
    "scrolled": true
   },
   "outputs": [
    {
     "data": {
      "text/plain": [
       "[<selenium.webdriver.remote.webelement.WebElement (session=\"59be5c7bbf69a5173721eaec6f6d9365\", element=\"96cc252f-f71c-4795-b41d-6cabc34d96a9\")>,\n",
       " <selenium.webdriver.remote.webelement.WebElement (session=\"59be5c7bbf69a5173721eaec6f6d9365\", element=\"7153bf8b-d4b8-4568-b066-c81d5370a507\")>,\n",
       " <selenium.webdriver.remote.webelement.WebElement (session=\"59be5c7bbf69a5173721eaec6f6d9365\", element=\"31da4abf-c401-4d49-b6bd-56f1bf09f7b1\")>,\n",
       " <selenium.webdriver.remote.webelement.WebElement (session=\"59be5c7bbf69a5173721eaec6f6d9365\", element=\"71b1d5a0-d910-425f-bc1d-7f034a2d0354\")>,\n",
       " <selenium.webdriver.remote.webelement.WebElement (session=\"59be5c7bbf69a5173721eaec6f6d9365\", element=\"5d1e05e0-34c7-44e6-9bfb-22284d71fb5e\")>,\n",
       " <selenium.webdriver.remote.webelement.WebElement (session=\"59be5c7bbf69a5173721eaec6f6d9365\", element=\"ed0f17ea-985e-4ad2-ad6d-61819e9d2af5\")>,\n",
       " <selenium.webdriver.remote.webelement.WebElement (session=\"59be5c7bbf69a5173721eaec6f6d9365\", element=\"27130f3a-8434-4c53-b9fa-3effac2c3962\")>,\n",
       " <selenium.webdriver.remote.webelement.WebElement (session=\"59be5c7bbf69a5173721eaec6f6d9365\", element=\"419bc1c2-4060-43fb-83a9-5101dac86209\")>,\n",
       " <selenium.webdriver.remote.webelement.WebElement (session=\"59be5c7bbf69a5173721eaec6f6d9365\", element=\"8e04d082-8445-4034-929d-900957139781\")>,\n",
       " <selenium.webdriver.remote.webelement.WebElement (session=\"59be5c7bbf69a5173721eaec6f6d9365\", element=\"5470760b-1c1a-4edd-8950-d792a3bb23a9\")>]"
      ]
     },
     "execution_count": 55,
     "metadata": {},
     "output_type": "execute_result"
    }
   ],
   "source": [
    "location=driver.find_elements_by_xpath(\"//li[@class= 'fleft grey-text br2 placeHolderLi location']//span\")\n",
    "location[:10]"
   ]
  },
  {
   "cell_type": "code",
   "execution_count": 56,
   "metadata": {},
   "outputs": [
    {
     "data": {
      "text/plain": [
       "['Mumbai, Hyderabad/Secunderabad, Pune, Gurgaon/Gurugram, Chennai, Bangalore/Bengaluru',\n",
       " 'Bangalore/Bengaluru',\n",
       " 'Bangalore/Bengaluru',\n",
       " 'Bangalore/Bengaluru',\n",
       " 'Bangalore/Bengaluru',\n",
       " 'Kolkata, Hyderabad/Secunderabad, Pune, Ahmedabad, Chennai, Bangalore/Bengaluru, Delhi / NCR, Mumbai (All Areas)',\n",
       " 'Bangalore/Bengaluru',\n",
       " 'Mumbai, Bangalore/Bengaluru',\n",
       " 'Bangalore/Bengaluru',\n",
       " 'Bangalore/Bengaluru']"
      ]
     },
     "execution_count": 56,
     "metadata": {},
     "output_type": "execute_result"
    }
   ],
   "source": [
    "job_location=[]\n",
    "for i in location:\n",
    "    job_location.append(i.text)\n",
    "job_location[:10]"
   ]
  },
  {
   "cell_type": "code",
   "execution_count": 57,
   "metadata": {},
   "outputs": [
    {
     "name": "stdout",
     "output_type": "stream",
     "text": [
      "20 20 20\n"
     ]
    }
   ],
   "source": [
    "print(len(job_title),len(company_name),len(job_location))"
   ]
  },
  {
   "cell_type": "code",
   "execution_count": 58,
   "metadata": {},
   "outputs": [
    {
     "data": {
      "text/html": [
       "<div>\n",
       "<style scoped>\n",
       "    .dataframe tbody tr th:only-of-type {\n",
       "        vertical-align: middle;\n",
       "    }\n",
       "\n",
       "    .dataframe tbody tr th {\n",
       "        vertical-align: top;\n",
       "    }\n",
       "\n",
       "    .dataframe thead th {\n",
       "        text-align: right;\n",
       "    }\n",
       "</style>\n",
       "<table border=\"1\" class=\"dataframe\">\n",
       "  <thead>\n",
       "    <tr style=\"text-align: right;\">\n",
       "      <th></th>\n",
       "      <th>title</th>\n",
       "      <th>name</th>\n",
       "      <th>location</th>\n",
       "    </tr>\n",
       "  </thead>\n",
       "  <tbody>\n",
       "    <tr>\n",
       "      <th>0</th>\n",
       "      <td>Data Scientist / Data Analyst -Business Analyst</td>\n",
       "      <td>Inflexion Analytix Private Limited</td>\n",
       "      <td>Mumbai, Hyderabad/Secunderabad, Pune, Gurgaon/...</td>\n",
       "    </tr>\n",
       "    <tr>\n",
       "      <th>1</th>\n",
       "      <td>Data Analyst</td>\n",
       "      <td>GlaxoSmithKline Pharmaceuticals Limited</td>\n",
       "      <td>Bangalore/Bengaluru</td>\n",
       "    </tr>\n",
       "    <tr>\n",
       "      <th>2</th>\n",
       "      <td>Hiring Data Analysts For E commerce Platform |...</td>\n",
       "      <td>Allegis Services India Pvt. Ltd.</td>\n",
       "      <td>Bangalore/Bengaluru</td>\n",
       "    </tr>\n",
       "    <tr>\n",
       "      <th>3</th>\n",
       "      <td>Data Analyst</td>\n",
       "      <td>Shell India Markets Private Limited</td>\n",
       "      <td>Bangalore/Bengaluru</td>\n",
       "    </tr>\n",
       "    <tr>\n",
       "      <th>4</th>\n",
       "      <td>Data Analyst</td>\n",
       "      <td>Applied Materials</td>\n",
       "      <td>Bangalore/Bengaluru</td>\n",
       "    </tr>\n",
       "    <tr>\n",
       "      <th>5</th>\n",
       "      <td>DA - Urgent Opening For Data Analyst BFSI Doma...</td>\n",
       "      <td>Tata Consultancy Services Ltd.</td>\n",
       "      <td>Kolkata, Hyderabad/Secunderabad, Pune, Ahmedab...</td>\n",
       "    </tr>\n",
       "    <tr>\n",
       "      <th>6</th>\n",
       "      <td>Data Analyst</td>\n",
       "      <td>Shell India Markets Private Limited</td>\n",
       "      <td>Bangalore/Bengaluru</td>\n",
       "    </tr>\n",
       "    <tr>\n",
       "      <th>7</th>\n",
       "      <td>Assistant Vice President - MIS &amp; Reporting ( B...</td>\n",
       "      <td>INTERTRUSTVITEOS CORPORATE AND FUND SERVICES P...</td>\n",
       "      <td>Mumbai, Bangalore/Bengaluru</td>\n",
       "    </tr>\n",
       "    <tr>\n",
       "      <th>8</th>\n",
       "      <td>Data Analyst</td>\n",
       "      <td>Myntra Designs Pvt. Ltd.</td>\n",
       "      <td>Bangalore/Bengaluru</td>\n",
       "    </tr>\n",
       "    <tr>\n",
       "      <th>9</th>\n",
       "      <td>Data Analyst</td>\n",
       "      <td>Myntra Designs Pvt. Ltd.</td>\n",
       "      <td>Bangalore/Bengaluru</td>\n",
       "    </tr>\n",
       "  </tbody>\n",
       "</table>\n",
       "</div>"
      ],
      "text/plain": [
       "                                               title  \\\n",
       "0    Data Scientist / Data Analyst -Business Analyst   \n",
       "1                                       Data Analyst   \n",
       "2  Hiring Data Analysts For E commerce Platform |...   \n",
       "3                                       Data Analyst   \n",
       "4                                       Data Analyst   \n",
       "5  DA - Urgent Opening For Data Analyst BFSI Doma...   \n",
       "6                                       Data Analyst   \n",
       "7  Assistant Vice President - MIS & Reporting ( B...   \n",
       "8                                       Data Analyst   \n",
       "9                                       Data Analyst   \n",
       "\n",
       "                                                name  \\\n",
       "0                 Inflexion Analytix Private Limited   \n",
       "1            GlaxoSmithKline Pharmaceuticals Limited   \n",
       "2                   Allegis Services India Pvt. Ltd.   \n",
       "3                Shell India Markets Private Limited   \n",
       "4                                  Applied Materials   \n",
       "5                     Tata Consultancy Services Ltd.   \n",
       "6                Shell India Markets Private Limited   \n",
       "7  INTERTRUSTVITEOS CORPORATE AND FUND SERVICES P...   \n",
       "8                           Myntra Designs Pvt. Ltd.   \n",
       "9                           Myntra Designs Pvt. Ltd.   \n",
       "\n",
       "                                            location  \n",
       "0  Mumbai, Hyderabad/Secunderabad, Pune, Gurgaon/...  \n",
       "1                                Bangalore/Bengaluru  \n",
       "2                                Bangalore/Bengaluru  \n",
       "3                                Bangalore/Bengaluru  \n",
       "4                                Bangalore/Bengaluru  \n",
       "5  Kolkata, Hyderabad/Secunderabad, Pune, Ahmedab...  \n",
       "6                                Bangalore/Bengaluru  \n",
       "7                        Mumbai, Bangalore/Bengaluru  \n",
       "8                                Bangalore/Bengaluru  \n",
       "9                                Bangalore/Bengaluru  "
      ]
     },
     "execution_count": 58,
     "metadata": {},
     "output_type": "execute_result"
    }
   ],
   "source": [
    "JOB=pd.DataFrame({})\n",
    "JOB[\"title\"]=job_title\n",
    "JOB[\"name\"]=company_name\n",
    "JOB[\"location\"]=job_location\n",
    "JOB[:10]"
   ]
  },
  {
   "cell_type": "code",
   "execution_count": null,
   "metadata": {},
   "outputs": [],
   "source": []
  },
  {
   "cell_type": "markdown",
   "metadata": {},
   "source": [
    "# Web scrapping for Data Scientist"
   ]
  },
  {
   "cell_type": "code",
   "execution_count": 60,
   "metadata": {},
   "outputs": [],
   "source": [
    "driver=webdriver.Chrome(\"chromedriver.exe\")url= \"https://www.naukri.com/\"\n",
    "driver.get(url)"
   ]
  },
  {
   "cell_type": "code",
   "execution_count": 61,
   "metadata": {},
   "outputs": [],
   "source": [
    "url= \"https://www.naukri.com/\"\n",
    "driver.get(url)"
   ]
  },
  {
   "cell_type": "code",
   "execution_count": 63,
   "metadata": {},
   "outputs": [
    {
     "data": {
      "text/plain": [
       "<selenium.webdriver.remote.webelement.WebElement (session=\"ac92ba876e90758b5ca422402b670e2a\", element=\"1a58f7e6-8ec7-4542-982c-3661d9109793\")>"
      ]
     },
     "execution_count": 63,
     "metadata": {},
     "output_type": "execute_result"
    }
   ],
   "source": [
    "search_job=driver.find_element_by_id(\"qsb-keyword-sugg\")\n",
    "search_job"
   ]
  },
  {
   "cell_type": "code",
   "execution_count": 64,
   "metadata": {},
   "outputs": [],
   "source": [
    "search_job.send_keys(\"Data Scientist\")"
   ]
  },
  {
   "cell_type": "code",
   "execution_count": 66,
   "metadata": {},
   "outputs": [
    {
     "data": {
      "text/plain": [
       "<selenium.webdriver.remote.webelement.WebElement (session=\"ac92ba876e90758b5ca422402b670e2a\", element=\"818f278c-8c82-4dae-8e45-7b126bfca0fc\")>"
      ]
     },
     "execution_count": 66,
     "metadata": {},
     "output_type": "execute_result"
    }
   ],
   "source": [
    "search_loc=driver.find_element_by_id(\"qsb-location-sugg\")\n",
    "search_loc"
   ]
  },
  {
   "cell_type": "code",
   "execution_count": 67,
   "metadata": {},
   "outputs": [],
   "source": [
    "search_loc.send_keys(\"Bangalore\")"
   ]
  },
  {
   "cell_type": "code",
   "execution_count": 69,
   "metadata": {},
   "outputs": [],
   "source": [
    "search_btn=driver.find_element_by_xpath(\"//button[@class='btn']\")\n",
    "search_btn.click()"
   ]
  },
  {
   "cell_type": "code",
   "execution_count": 70,
   "metadata": {},
   "outputs": [
    {
     "data": {
      "text/plain": [
       "[<selenium.webdriver.remote.webelement.WebElement (session=\"ac92ba876e90758b5ca422402b670e2a\", element=\"b1d2e1b9-8f5e-43a2-806e-60de94319748\")>,\n",
       " <selenium.webdriver.remote.webelement.WebElement (session=\"ac92ba876e90758b5ca422402b670e2a\", element=\"de237cca-73ba-4a8e-b91c-df1891f5c20b\")>,\n",
       " <selenium.webdriver.remote.webelement.WebElement (session=\"ac92ba876e90758b5ca422402b670e2a\", element=\"3ee0253f-be78-4471-8a6f-332daf31d4d6\")>,\n",
       " <selenium.webdriver.remote.webelement.WebElement (session=\"ac92ba876e90758b5ca422402b670e2a\", element=\"882c95e2-1b2d-4333-a3d1-676ac259abc6\")>,\n",
       " <selenium.webdriver.remote.webelement.WebElement (session=\"ac92ba876e90758b5ca422402b670e2a\", element=\"74e101ca-0aed-4116-b368-7887a3d73c61\")>,\n",
       " <selenium.webdriver.remote.webelement.WebElement (session=\"ac92ba876e90758b5ca422402b670e2a\", element=\"d85a32a0-3975-445c-83e9-6c1a0a12250a\")>,\n",
       " <selenium.webdriver.remote.webelement.WebElement (session=\"ac92ba876e90758b5ca422402b670e2a\", element=\"95558589-e271-448d-9885-213d6db397f9\")>,\n",
       " <selenium.webdriver.remote.webelement.WebElement (session=\"ac92ba876e90758b5ca422402b670e2a\", element=\"c50df351-12d6-4b23-8428-377d66e3d7be\")>,\n",
       " <selenium.webdriver.remote.webelement.WebElement (session=\"ac92ba876e90758b5ca422402b670e2a\", element=\"5366b6f0-9708-4b1b-aaf3-df62a47dd83f\")>,\n",
       " <selenium.webdriver.remote.webelement.WebElement (session=\"ac92ba876e90758b5ca422402b670e2a\", element=\"76e61b86-2768-4662-b99d-197a6bc9dc1f\")>]"
      ]
     },
     "execution_count": 70,
     "metadata": {},
     "output_type": "execute_result"
    }
   ],
   "source": [
    "titles=driver.find_elements_by_xpath(\"//a[@class= 'title fw500 ellipsis']\")\n",
    "titles[:10]"
   ]
  },
  {
   "cell_type": "code",
   "execution_count": 71,
   "metadata": {},
   "outputs": [
    {
     "data": {
      "text/plain": [
       "['Data Scientist / Data Analyst -Business Analyst',\n",
       " 'Senior / Lead Data Scientist',\n",
       " 'Senior Data Scientist | CES IT LTD | CMMI Level 5',\n",
       " 'Senior Data Scientist | CES IT LTD | CMMI Level 5',\n",
       " 'Analytics & AI Product Mgmt - Sr. Data Scientist',\n",
       " 'Senior Data Scientist',\n",
       " 'Senior Data Scientist, Modeling',\n",
       " 'Data Scientist - IBM Garage',\n",
       " 'Data Scientist',\n",
       " 'Data Scientist']"
      ]
     },
     "execution_count": 71,
     "metadata": {},
     "output_type": "execute_result"
    }
   ],
   "source": [
    "job_titles=[]\n",
    "for i in titles:\n",
    "    job_titles.append(i.text)\n",
    "job_titles[:10]"
   ]
  },
  {
   "cell_type": "code",
   "execution_count": 76,
   "metadata": {},
   "outputs": [
    {
     "data": {
      "text/plain": [
       "[<selenium.webdriver.remote.webelement.WebElement (session=\"ac92ba876e90758b5ca422402b670e2a\", element=\"679786a2-6651-49d4-b5dd-8422f47c3883\")>,\n",
       " <selenium.webdriver.remote.webelement.WebElement (session=\"ac92ba876e90758b5ca422402b670e2a\", element=\"5619575b-3dad-4f3d-87f1-4afc17590e57\")>,\n",
       " <selenium.webdriver.remote.webelement.WebElement (session=\"ac92ba876e90758b5ca422402b670e2a\", element=\"4a230c25-c3cf-4109-8dcd-c6eb4fc9f00e\")>,\n",
       " <selenium.webdriver.remote.webelement.WebElement (session=\"ac92ba876e90758b5ca422402b670e2a\", element=\"ecc05617-c577-405f-8f81-6a6f1796d26c\")>,\n",
       " <selenium.webdriver.remote.webelement.WebElement (session=\"ac92ba876e90758b5ca422402b670e2a\", element=\"26db64f8-c181-4e36-a684-643d42b86c63\")>,\n",
       " <selenium.webdriver.remote.webelement.WebElement (session=\"ac92ba876e90758b5ca422402b670e2a\", element=\"2d2fd24c-d39e-4e69-892f-5503af3de70e\")>,\n",
       " <selenium.webdriver.remote.webelement.WebElement (session=\"ac92ba876e90758b5ca422402b670e2a\", element=\"df44355e-d43c-4426-b3d9-6f0347edad86\")>,\n",
       " <selenium.webdriver.remote.webelement.WebElement (session=\"ac92ba876e90758b5ca422402b670e2a\", element=\"9bf5bca8-251c-4f7d-928e-c7a63404c9e3\")>,\n",
       " <selenium.webdriver.remote.webelement.WebElement (session=\"ac92ba876e90758b5ca422402b670e2a\", element=\"f3ad8d0e-45f0-4d78-9bc1-344830cd4181\")>,\n",
       " <selenium.webdriver.remote.webelement.WebElement (session=\"ac92ba876e90758b5ca422402b670e2a\", element=\"a9f4f33b-7cf7-4f70-b929-701170eadf4a\")>]"
      ]
     },
     "execution_count": 76,
     "metadata": {},
     "output_type": "execute_result"
    }
   ],
   "source": [
    "location=driver.find_elements_by_xpath(\"//li[@class= 'fleft grey-text br2 placeHolderLi location']//span\")\n",
    "location[:10]"
   ]
  },
  {
   "cell_type": "code",
   "execution_count": 77,
   "metadata": {},
   "outputs": [
    {
     "data": {
      "text/plain": [
       "['Mumbai, Hyderabad/Secunderabad, Pune, Gurgaon/Gurugram, Chennai, Bangalore/Bengaluru',\n",
       " 'Pune, Chennai, Bangalore/Bengaluru',\n",
       " 'Kolkata, Mumbai, Hyderabad/Secunderabad, Pune, Chennai, Bangalore/Bengaluru, Delhi / NCR',\n",
       " 'Kolkata, Mumbai, Hyderabad/Secunderabad, Pune, Chennai, Bangalore/Bengaluru, Delhi / NCR',\n",
       " 'Bangalore/Bengaluru',\n",
       " 'Pune, Chennai, Bangalore/Bengaluru',\n",
       " 'Kolkata, Gurgaon/Gurugram, Bangalore/Bengaluru, Vadodara, Mumbai (All Areas)',\n",
       " 'Noida, Hyderabad/Secunderabad, Bangalore/Bengaluru',\n",
       " 'Noida, Hyderabad/Secunderabad, Bangalore/Bengaluru',\n",
       " 'Noida, Hyderabad/Secunderabad, Bangalore/Bengaluru']"
      ]
     },
     "execution_count": 77,
     "metadata": {},
     "output_type": "execute_result"
    }
   ],
   "source": [
    "job_location=[]\n",
    "for i in location:\n",
    "    job_location.append(i.text)\n",
    "job_location[:10]"
   ]
  },
  {
   "cell_type": "code",
   "execution_count": 78,
   "metadata": {},
   "outputs": [
    {
     "data": {
      "text/plain": [
       "[<selenium.webdriver.remote.webelement.WebElement (session=\"ac92ba876e90758b5ca422402b670e2a\", element=\"82fdb8a4-8e0a-40e4-9004-090722831e1c\")>,\n",
       " <selenium.webdriver.remote.webelement.WebElement (session=\"ac92ba876e90758b5ca422402b670e2a\", element=\"10af34ee-e0de-4e30-ae82-60f516986b73\")>,\n",
       " <selenium.webdriver.remote.webelement.WebElement (session=\"ac92ba876e90758b5ca422402b670e2a\", element=\"26e4cf93-8aa0-48b1-a48f-a7ecc2c5fc84\")>,\n",
       " <selenium.webdriver.remote.webelement.WebElement (session=\"ac92ba876e90758b5ca422402b670e2a\", element=\"946b4227-00dc-4758-ae24-605a5f78fe2d\")>,\n",
       " <selenium.webdriver.remote.webelement.WebElement (session=\"ac92ba876e90758b5ca422402b670e2a\", element=\"f0a141b5-b0b8-4da5-a919-770734b368d3\")>,\n",
       " <selenium.webdriver.remote.webelement.WebElement (session=\"ac92ba876e90758b5ca422402b670e2a\", element=\"8559973c-7d95-4ba7-8964-176e25054217\")>,\n",
       " <selenium.webdriver.remote.webelement.WebElement (session=\"ac92ba876e90758b5ca422402b670e2a\", element=\"479c3e81-58e1-4c99-ab64-5892a1766954\")>,\n",
       " <selenium.webdriver.remote.webelement.WebElement (session=\"ac92ba876e90758b5ca422402b670e2a\", element=\"50f3b9a8-1fb5-47d8-bbee-32a108717f3d\")>,\n",
       " <selenium.webdriver.remote.webelement.WebElement (session=\"ac92ba876e90758b5ca422402b670e2a\", element=\"c01c8049-5601-407e-9e72-e455fce07d4d\")>,\n",
       " <selenium.webdriver.remote.webelement.WebElement (session=\"ac92ba876e90758b5ca422402b670e2a\", element=\"a9b1a839-6e19-4a18-9c10-aaabaa8d53c0\")>]"
      ]
     },
     "execution_count": 78,
     "metadata": {},
     "output_type": "execute_result"
    }
   ],
   "source": [
    "name=driver.find_elements_by_xpath(\"//a[@class = 'subTitle ellipsis fleft']\")\n",
    "name[:10]"
   ]
  },
  {
   "cell_type": "code",
   "execution_count": 84,
   "metadata": {},
   "outputs": [
    {
     "data": {
      "text/plain": [
       "['Inflexion Analytix Private Limited',\n",
       " 'TVS CREDIT SERVICES LIMITED',\n",
       " 'CES Ltd.',\n",
       " 'CES Ltd.',\n",
       " 'GlaxoSmithKline Pharmaceuticals Limited',\n",
       " 'Vijaya Management Services',\n",
       " 'Nielsen',\n",
       " 'IBM India Pvt. Limited',\n",
       " 'IBM India Pvt. Limited',\n",
       " 'IBM India Pvt. Limited']"
      ]
     },
     "execution_count": 84,
     "metadata": {},
     "output_type": "execute_result"
    }
   ],
   "source": [
    "company_name=[]\n",
    "for i in name:\n",
    "    company_name.append(i.text)\n",
    "company_name[:10]"
   ]
  },
  {
   "cell_type": "code",
   "execution_count": 80,
   "metadata": {},
   "outputs": [
    {
     "data": {
      "text/plain": [
       "[<selenium.webdriver.remote.webelement.WebElement (session=\"ac92ba876e90758b5ca422402b670e2a\", element=\"e45afb89-2779-40b1-b771-cd292e9e514e\")>,\n",
       " <selenium.webdriver.remote.webelement.WebElement (session=\"ac92ba876e90758b5ca422402b670e2a\", element=\"8835f8e6-4588-4093-82a1-cf8b5cd438d5\")>,\n",
       " <selenium.webdriver.remote.webelement.WebElement (session=\"ac92ba876e90758b5ca422402b670e2a\", element=\"bea8657c-6c73-4fe0-b18f-2f3383624b0c\")>,\n",
       " <selenium.webdriver.remote.webelement.WebElement (session=\"ac92ba876e90758b5ca422402b670e2a\", element=\"6e445e43-985d-4ba5-a28d-138b4ef0add4\")>,\n",
       " <selenium.webdriver.remote.webelement.WebElement (session=\"ac92ba876e90758b5ca422402b670e2a\", element=\"501daaba-a67c-40e6-85fd-0524f0f0eb35\")>,\n",
       " <selenium.webdriver.remote.webelement.WebElement (session=\"ac92ba876e90758b5ca422402b670e2a\", element=\"5650050c-98dc-4c46-9dcb-9443bb8f4e0d\")>,\n",
       " <selenium.webdriver.remote.webelement.WebElement (session=\"ac92ba876e90758b5ca422402b670e2a\", element=\"acd0c624-b739-45e0-bdfd-f98e3c80a4b0\")>,\n",
       " <selenium.webdriver.remote.webelement.WebElement (session=\"ac92ba876e90758b5ca422402b670e2a\", element=\"df87cbe3-ea93-421e-97d6-b00032e158f9\")>,\n",
       " <selenium.webdriver.remote.webelement.WebElement (session=\"ac92ba876e90758b5ca422402b670e2a\", element=\"dfb8d132-4cfe-47a5-99a8-9aad42c768b5\")>,\n",
       " <selenium.webdriver.remote.webelement.WebElement (session=\"ac92ba876e90758b5ca422402b670e2a\", element=\"99154bee-bc04-4c17-9bd6-39401bce9b41\")>]"
      ]
     },
     "execution_count": 80,
     "metadata": {},
     "output_type": "execute_result"
    }
   ],
   "source": [
    "description=driver.find_elements_by_xpath(\"//ul[@class= 'tags has-description']\")\n",
    "description[:10]"
   ]
  },
  {
   "cell_type": "code",
   "execution_count": 81,
   "metadata": {},
   "outputs": [
    {
     "data": {
      "text/plain": [
       "['Business Intelligence\\nArtificial Intelligence\\nBig Data\\nIT\\nMachine Learning\\nStatistics\\nDeep Learning\\nAnalytics',\n",
       " 'Decision Tree\\nHadoop\\nRegression\\nData Mining\\nRandom forest\\nMachine Learning\\nSQL\\nAlgorithms',\n",
       " 'IT Skills\\nPython\\nMachine Learning\\nAWS\\nTensorflow\\nObject Detection\\nAlgorithm Development\\nAnalytical Skills',\n",
       " 'Datastructures\\nAWS Lambda\\nAWS CloudFormation\\nPandas\\nEDA\\nTerraform\\nPCA\\ntroubleshooting',\n",
       " 'Pytorch\\nTensorflow\\nData Science\\nCnn\\nLstm\\nArtificial Intelligence\\nKeras\\nMachine Learning',\n",
       " 'Data Science\\nDeep Learning\\nNLP\\nResearch Development',\n",
       " 'Predictive Modeling\\nSAS\\nSegmentation\\nK-Means\\nStatistics\\nOptimization\\nRandom Forest\\nR',\n",
       " 'IT Skills\\nPython\\nData Science\\nMachine Learning\\nArtificial Intelligence\\nCloud\\nPytorch\\nNeural Networks',\n",
       " 'IT Skills\\nMachine Learning\\nBig Data\\nProduct Development\\nC\\nArtificial Intelligence\\nBusiness Operations\\nDesign Management',\n",
       " 'Analytics\\nArtificial Intelligence\\nData Scientist\\nBig Data\\nDesign Management\\nMachine Learning']"
      ]
     },
     "execution_count": 81,
     "metadata": {},
     "output_type": "execute_result"
    }
   ],
   "source": [
    "full_job_description=[]\n",
    "for i in description:\n",
    "    full_job_description.append(i.text)\n",
    "full_job_description[:10]"
   ]
  },
  {
   "cell_type": "code",
   "execution_count": 85,
   "metadata": {},
   "outputs": [
    {
     "name": "stdout",
     "output_type": "stream",
     "text": [
      "20 20 20 20\n"
     ]
    }
   ],
   "source": [
    "print(len(job_titles),len(job_location),len(company_name),len(full_job_description))"
   ]
  },
  {
   "cell_type": "code",
   "execution_count": 87,
   "metadata": {},
   "outputs": [
    {
     "data": {
      "text/html": [
       "<div>\n",
       "<style scoped>\n",
       "    .dataframe tbody tr th:only-of-type {\n",
       "        vertical-align: middle;\n",
       "    }\n",
       "\n",
       "    .dataframe tbody tr th {\n",
       "        vertical-align: top;\n",
       "    }\n",
       "\n",
       "    .dataframe thead th {\n",
       "        text-align: right;\n",
       "    }\n",
       "</style>\n",
       "<table border=\"1\" class=\"dataframe\">\n",
       "  <thead>\n",
       "    <tr style=\"text-align: right;\">\n",
       "      <th></th>\n",
       "      <th>Job_titles</th>\n",
       "      <th>job_location</th>\n",
       "      <th>comapany_name</th>\n",
       "      <th>full_job_description</th>\n",
       "    </tr>\n",
       "  </thead>\n",
       "  <tbody>\n",
       "    <tr>\n",
       "      <th>0</th>\n",
       "      <td>Data Scientist / Data Analyst -Business Analyst</td>\n",
       "      <td>Mumbai, Hyderabad/Secunderabad, Pune, Gurgaon/...</td>\n",
       "      <td>Inflexion Analytix Private Limited</td>\n",
       "      <td>Business Intelligence\\nArtificial Intelligence...</td>\n",
       "    </tr>\n",
       "    <tr>\n",
       "      <th>1</th>\n",
       "      <td>Senior / Lead Data Scientist</td>\n",
       "      <td>Pune, Chennai, Bangalore/Bengaluru</td>\n",
       "      <td>TVS CREDIT SERVICES LIMITED</td>\n",
       "      <td>Decision Tree\\nHadoop\\nRegression\\nData Mining...</td>\n",
       "    </tr>\n",
       "    <tr>\n",
       "      <th>2</th>\n",
       "      <td>Senior Data Scientist | CES IT LTD | CMMI Level 5</td>\n",
       "      <td>Kolkata, Mumbai, Hyderabad/Secunderabad, Pune,...</td>\n",
       "      <td>CES Ltd.</td>\n",
       "      <td>IT Skills\\nPython\\nMachine Learning\\nAWS\\nTens...</td>\n",
       "    </tr>\n",
       "    <tr>\n",
       "      <th>3</th>\n",
       "      <td>Senior Data Scientist | CES IT LTD | CMMI Level 5</td>\n",
       "      <td>Kolkata, Mumbai, Hyderabad/Secunderabad, Pune,...</td>\n",
       "      <td>CES Ltd.</td>\n",
       "      <td>Datastructures\\nAWS Lambda\\nAWS CloudFormation...</td>\n",
       "    </tr>\n",
       "    <tr>\n",
       "      <th>4</th>\n",
       "      <td>Analytics &amp; AI Product Mgmt - Sr. Data Scientist</td>\n",
       "      <td>Bangalore/Bengaluru</td>\n",
       "      <td>GlaxoSmithKline Pharmaceuticals Limited</td>\n",
       "      <td>Pytorch\\nTensorflow\\nData Science\\nCnn\\nLstm\\n...</td>\n",
       "    </tr>\n",
       "    <tr>\n",
       "      <th>5</th>\n",
       "      <td>Senior Data Scientist</td>\n",
       "      <td>Pune, Chennai, Bangalore/Bengaluru</td>\n",
       "      <td>Vijaya Management Services</td>\n",
       "      <td>Data Science\\nDeep Learning\\nNLP\\nResearch Dev...</td>\n",
       "    </tr>\n",
       "    <tr>\n",
       "      <th>6</th>\n",
       "      <td>Senior Data Scientist, Modeling</td>\n",
       "      <td>Kolkata, Gurgaon/Gurugram, Bangalore/Bengaluru...</td>\n",
       "      <td>Nielsen</td>\n",
       "      <td>Predictive Modeling\\nSAS\\nSegmentation\\nK-Mean...</td>\n",
       "    </tr>\n",
       "    <tr>\n",
       "      <th>7</th>\n",
       "      <td>Data Scientist - IBM Garage</td>\n",
       "      <td>Noida, Hyderabad/Secunderabad, Bangalore/Benga...</td>\n",
       "      <td>IBM India Pvt. Limited</td>\n",
       "      <td>IT Skills\\nPython\\nData Science\\nMachine Learn...</td>\n",
       "    </tr>\n",
       "    <tr>\n",
       "      <th>8</th>\n",
       "      <td>Data Scientist</td>\n",
       "      <td>Noida, Hyderabad/Secunderabad, Bangalore/Benga...</td>\n",
       "      <td>IBM India Pvt. Limited</td>\n",
       "      <td>IT Skills\\nMachine Learning\\nBig Data\\nProduct...</td>\n",
       "    </tr>\n",
       "    <tr>\n",
       "      <th>9</th>\n",
       "      <td>Data Scientist</td>\n",
       "      <td>Noida, Hyderabad/Secunderabad, Bangalore/Benga...</td>\n",
       "      <td>IBM India Pvt. Limited</td>\n",
       "      <td>Analytics\\nArtificial Intelligence\\nData Scien...</td>\n",
       "    </tr>\n",
       "  </tbody>\n",
       "</table>\n",
       "</div>"
      ],
      "text/plain": [
       "                                          Job_titles  \\\n",
       "0    Data Scientist / Data Analyst -Business Analyst   \n",
       "1                       Senior / Lead Data Scientist   \n",
       "2  Senior Data Scientist | CES IT LTD | CMMI Level 5   \n",
       "3  Senior Data Scientist | CES IT LTD | CMMI Level 5   \n",
       "4   Analytics & AI Product Mgmt - Sr. Data Scientist   \n",
       "5                              Senior Data Scientist   \n",
       "6                    Senior Data Scientist, Modeling   \n",
       "7                        Data Scientist - IBM Garage   \n",
       "8                                     Data Scientist   \n",
       "9                                     Data Scientist   \n",
       "\n",
       "                                        job_location  \\\n",
       "0  Mumbai, Hyderabad/Secunderabad, Pune, Gurgaon/...   \n",
       "1                 Pune, Chennai, Bangalore/Bengaluru   \n",
       "2  Kolkata, Mumbai, Hyderabad/Secunderabad, Pune,...   \n",
       "3  Kolkata, Mumbai, Hyderabad/Secunderabad, Pune,...   \n",
       "4                                Bangalore/Bengaluru   \n",
       "5                 Pune, Chennai, Bangalore/Bengaluru   \n",
       "6  Kolkata, Gurgaon/Gurugram, Bangalore/Bengaluru...   \n",
       "7  Noida, Hyderabad/Secunderabad, Bangalore/Benga...   \n",
       "8  Noida, Hyderabad/Secunderabad, Bangalore/Benga...   \n",
       "9  Noida, Hyderabad/Secunderabad, Bangalore/Benga...   \n",
       "\n",
       "                             comapany_name  \\\n",
       "0       Inflexion Analytix Private Limited   \n",
       "1              TVS CREDIT SERVICES LIMITED   \n",
       "2                                 CES Ltd.   \n",
       "3                                 CES Ltd.   \n",
       "4  GlaxoSmithKline Pharmaceuticals Limited   \n",
       "5               Vijaya Management Services   \n",
       "6                                  Nielsen   \n",
       "7                   IBM India Pvt. Limited   \n",
       "8                   IBM India Pvt. Limited   \n",
       "9                   IBM India Pvt. Limited   \n",
       "\n",
       "                                full_job_description  \n",
       "0  Business Intelligence\\nArtificial Intelligence...  \n",
       "1  Decision Tree\\nHadoop\\nRegression\\nData Mining...  \n",
       "2  IT Skills\\nPython\\nMachine Learning\\nAWS\\nTens...  \n",
       "3  Datastructures\\nAWS Lambda\\nAWS CloudFormation...  \n",
       "4  Pytorch\\nTensorflow\\nData Science\\nCnn\\nLstm\\n...  \n",
       "5  Data Science\\nDeep Learning\\nNLP\\nResearch Dev...  \n",
       "6  Predictive Modeling\\nSAS\\nSegmentation\\nK-Mean...  \n",
       "7  IT Skills\\nPython\\nData Science\\nMachine Learn...  \n",
       "8  IT Skills\\nMachine Learning\\nBig Data\\nProduct...  \n",
       "9  Analytics\\nArtificial Intelligence\\nData Scien...  "
      ]
     },
     "execution_count": 87,
     "metadata": {},
     "output_type": "execute_result"
    }
   ],
   "source": [
    "JOB=pd.DataFrame({})\n",
    "JOB[\"Job_titles\"]=job_titles\n",
    "JOB[\"job_location\"]=job_location\n",
    "JOB[\"comapany_name\"]=company_name\n",
    "JOB[\"full_job_description\"]=full_job_description\n",
    "JOB[:10]"
   ]
  },
  {
   "cell_type": "code",
   "execution_count": null,
   "metadata": {},
   "outputs": [],
   "source": []
  },
  {
   "cell_type": "markdown",
   "metadata": {},
   "source": [
    "# Web scrapping for Data Scientist in Delhi/NCR"
   ]
  },
  {
   "cell_type": "code",
   "execution_count": 18,
   "metadata": {},
   "outputs": [],
   "source": [
    "driver=webdriver.Chrome(\"chromedriver.exe\")"
   ]
  },
  {
   "cell_type": "code",
   "execution_count": 19,
   "metadata": {},
   "outputs": [],
   "source": [
    "url= \"https://www.naukri.com/\"\n",
    "driver.get(url)"
   ]
  },
  {
   "cell_type": "code",
   "execution_count": 20,
   "metadata": {},
   "outputs": [
    {
     "data": {
      "text/plain": [
       "<selenium.webdriver.remote.webelement.WebElement (session=\"f94fa24066e43e9fbb085739a9082312\", element=\"5dff0b97-e9db-4ee1-8f81-9910040c49b6\")>"
      ]
     },
     "execution_count": 20,
     "metadata": {},
     "output_type": "execute_result"
    }
   ],
   "source": [
    "search_job=driver.find_element_by_id(\"qsb-keyword-sugg\")\n",
    "search_job"
   ]
  },
  {
   "cell_type": "code",
   "execution_count": 21,
   "metadata": {},
   "outputs": [],
   "source": [
    "search_job.send_keys(\"Data Scientist\")"
   ]
  },
  {
   "cell_type": "code",
   "execution_count": 22,
   "metadata": {},
   "outputs": [
    {
     "data": {
      "text/plain": [
       "<selenium.webdriver.remote.webelement.WebElement (session=\"f94fa24066e43e9fbb085739a9082312\", element=\"768323bd-09ba-4de3-98ef-f8e0f9389fbd\")>"
      ]
     },
     "execution_count": 22,
     "metadata": {},
     "output_type": "execute_result"
    }
   ],
   "source": [
    "search_loc=driver.find_element_by_id(\"qsb-location-sugg\")\n",
    "search_loc"
   ]
  },
  {
   "cell_type": "code",
   "execution_count": 23,
   "metadata": {},
   "outputs": [],
   "source": [
    "search_loc.send_keys(\"Delhi/NCR\")"
   ]
  },
  {
   "cell_type": "code",
   "execution_count": 24,
   "metadata": {},
   "outputs": [],
   "source": [
    "search_btn=driver.find_element_by_xpath(\"//button[@class='btn']\")\n",
    "search_btn.click()"
   ]
  },
  {
   "cell_type": "code",
   "execution_count": 27,
   "metadata": {},
   "outputs": [
    {
     "data": {
      "text/plain": [
       "[<selenium.webdriver.remote.webelement.WebElement (session=\"f94fa24066e43e9fbb085739a9082312\", element=\"4b9d17fa-8a13-40e1-b3d3-2de3ec03c65d\")>,\n",
       " <selenium.webdriver.remote.webelement.WebElement (session=\"f94fa24066e43e9fbb085739a9082312\", element=\"26390498-49c4-4df3-8cfc-08a36d30a432\")>,\n",
       " <selenium.webdriver.remote.webelement.WebElement (session=\"f94fa24066e43e9fbb085739a9082312\", element=\"673de424-f7f8-4d8b-bcdc-c36951e042d2\")>,\n",
       " <selenium.webdriver.remote.webelement.WebElement (session=\"f94fa24066e43e9fbb085739a9082312\", element=\"d9a9b807-c9e4-4ced-aafb-8354f73598a1\")>,\n",
       " <selenium.webdriver.remote.webelement.WebElement (session=\"f94fa24066e43e9fbb085739a9082312\", element=\"daa8a806-439f-46bf-998c-f474bcba8620\")>,\n",
       " <selenium.webdriver.remote.webelement.WebElement (session=\"f94fa24066e43e9fbb085739a9082312\", element=\"c34389d2-4497-4a01-bf48-39f8fa5ce7a9\")>,\n",
       " <selenium.webdriver.remote.webelement.WebElement (session=\"f94fa24066e43e9fbb085739a9082312\", element=\"deacad19-8f8a-4bce-b4ea-80770e87c2f6\")>,\n",
       " <selenium.webdriver.remote.webelement.WebElement (session=\"f94fa24066e43e9fbb085739a9082312\", element=\"0c693c0f-875d-462f-8e5b-5d87aacba9ce\")>,\n",
       " <selenium.webdriver.remote.webelement.WebElement (session=\"f94fa24066e43e9fbb085739a9082312\", element=\"75f9f356-6378-46e8-a1dd-b2bbab13a4b3\")>,\n",
       " <selenium.webdriver.remote.webelement.WebElement (session=\"f94fa24066e43e9fbb085739a9082312\", element=\"d03a9061-b9a7-4346-bde3-c8893c56500f\")>]"
      ]
     },
     "execution_count": 27,
     "metadata": {},
     "output_type": "execute_result"
    }
   ],
   "source": [
    "titles=driver.find_elements_by_xpath(\"//a[@class='title fw500 ellipsis']\")\n",
    "titles[:10]"
   ]
  },
  {
   "cell_type": "code",
   "execution_count": 28,
   "metadata": {},
   "outputs": [
    {
     "data": {
      "text/plain": [
       "['Data Scientist / Data Analyst -Business Analyst',\n",
       " 'Data Scientist',\n",
       " 'Excellent opportunity For Data Scientist',\n",
       " 'Data Scientist',\n",
       " 'DATA Scientist – Gurgaon (Exp 3-6 years)',\n",
       " 'DATA Scientist – Gurgaon (Exp 3-6 years)',\n",
       " 'Data Scientist - Noida',\n",
       " \"Data Scientist - Noida/ B'lore\",\n",
       " 'Data Scientist',\n",
       " 'Data Scientist']"
      ]
     },
     "execution_count": 28,
     "metadata": {},
     "output_type": "execute_result"
    }
   ],
   "source": [
    "job_titles=[]\n",
    "for i in titles:\n",
    "    job_titles.append(i.text)\n",
    "job_titles[:10]"
   ]
  },
  {
   "cell_type": "code",
   "execution_count": 29,
   "metadata": {},
   "outputs": [
    {
     "data": {
      "text/plain": [
       "[<selenium.webdriver.remote.webelement.WebElement (session=\"f94fa24066e43e9fbb085739a9082312\", element=\"a1143e1c-6c2f-41d7-be40-d2494c1b6984\")>,\n",
       " <selenium.webdriver.remote.webelement.WebElement (session=\"f94fa24066e43e9fbb085739a9082312\", element=\"841558ae-e2a0-419f-b691-badfecdedec6\")>,\n",
       " <selenium.webdriver.remote.webelement.WebElement (session=\"f94fa24066e43e9fbb085739a9082312\", element=\"b5d64322-9e63-457c-b041-db3042cd47ab\")>,\n",
       " <selenium.webdriver.remote.webelement.WebElement (session=\"f94fa24066e43e9fbb085739a9082312\", element=\"a6756c8f-efe7-4328-8dc9-8bee68a56179\")>,\n",
       " <selenium.webdriver.remote.webelement.WebElement (session=\"f94fa24066e43e9fbb085739a9082312\", element=\"199ccd8b-7742-4a91-800f-7b5f876b798b\")>,\n",
       " <selenium.webdriver.remote.webelement.WebElement (session=\"f94fa24066e43e9fbb085739a9082312\", element=\"5c988633-0400-4d17-b59a-80dc559bb812\")>,\n",
       " <selenium.webdriver.remote.webelement.WebElement (session=\"f94fa24066e43e9fbb085739a9082312\", element=\"935e1102-ed81-4e69-863a-e61b323c3b35\")>,\n",
       " <selenium.webdriver.remote.webelement.WebElement (session=\"f94fa24066e43e9fbb085739a9082312\", element=\"e084aad5-020c-4401-b299-9c6eb57a45e4\")>,\n",
       " <selenium.webdriver.remote.webelement.WebElement (session=\"f94fa24066e43e9fbb085739a9082312\", element=\"848b8d06-a8a4-46ef-88e8-2fb69b36575b\")>,\n",
       " <selenium.webdriver.remote.webelement.WebElement (session=\"f94fa24066e43e9fbb085739a9082312\", element=\"1794c52d-0ec1-428c-a3a2-4b15c00de397\")>]"
      ]
     },
     "execution_count": 29,
     "metadata": {},
     "output_type": "execute_result"
    }
   ],
   "source": [
    "location=driver.find_elements_by_xpath(\"//li[@class= 'fleft grey-text br2 placeHolderLi location']//span\")\n",
    "location[:10]"
   ]
  },
  {
   "cell_type": "code",
   "execution_count": 31,
   "metadata": {},
   "outputs": [
    {
     "data": {
      "text/plain": [
       "['Mumbai, Hyderabad/Secunderabad, Pune, Gurgaon/Gurugram, Chennai, Bangalore/Bengaluru',\n",
       " 'Noida, Hyderabad/Secunderabad, Bangalore/Bengaluru',\n",
       " 'Noida, Bangalore/Bengaluru',\n",
       " 'New Delhi, Gurgaon/Gurugram, Delhi / NCR',\n",
       " 'Gurgaon/Gurugram, Delhi / NCR',\n",
       " 'Gurgaon/Gurugram, Delhi / NCR',\n",
       " 'Noida',\n",
       " 'Noida, Bangalore/Bengaluru',\n",
       " 'Bangalore/Bengaluru, Delhi / NCR, Mumbai (All Areas)',\n",
       " 'Bharuch, Jaipur, Bhopal, Mumbai, Jhansi, Nagpur, Ghaziabad, Jaunpur, Kanpur, New Delhi, Lucknow, Agra, Gurgaon/Gurugram, Rajkot, Bangalore/Bengaluru']"
      ]
     },
     "execution_count": 31,
     "metadata": {},
     "output_type": "execute_result"
    }
   ],
   "source": [
    "job_location=[]\n",
    "for i in location:\n",
    "    job_location.append(i.text)\n",
    "job_location[:10]"
   ]
  },
  {
   "cell_type": "code",
   "execution_count": 32,
   "metadata": {},
   "outputs": [
    {
     "data": {
      "text/plain": [
       "[<selenium.webdriver.remote.webelement.WebElement (session=\"f94fa24066e43e9fbb085739a9082312\", element=\"725d91e3-6f49-4bde-a743-cd85b5f07ce0\")>,\n",
       " <selenium.webdriver.remote.webelement.WebElement (session=\"f94fa24066e43e9fbb085739a9082312\", element=\"2d5e6f7f-46f6-4a17-848f-52c941d39187\")>,\n",
       " <selenium.webdriver.remote.webelement.WebElement (session=\"f94fa24066e43e9fbb085739a9082312\", element=\"391dd142-06e3-4c46-b661-c4b0df4d92fb\")>,\n",
       " <selenium.webdriver.remote.webelement.WebElement (session=\"f94fa24066e43e9fbb085739a9082312\", element=\"cab38735-39e9-4fdf-bd67-3312242c8153\")>,\n",
       " <selenium.webdriver.remote.webelement.WebElement (session=\"f94fa24066e43e9fbb085739a9082312\", element=\"41d08485-03f6-412b-8b55-c4c87029871b\")>,\n",
       " <selenium.webdriver.remote.webelement.WebElement (session=\"f94fa24066e43e9fbb085739a9082312\", element=\"c6365f9e-39b3-41a7-a6cd-515ba39090fa\")>,\n",
       " <selenium.webdriver.remote.webelement.WebElement (session=\"f94fa24066e43e9fbb085739a9082312\", element=\"45fc1f26-f904-432b-895e-990b15e1d18a\")>,\n",
       " <selenium.webdriver.remote.webelement.WebElement (session=\"f94fa24066e43e9fbb085739a9082312\", element=\"1f165b2a-4f79-4bbc-9193-7dbb30b82e46\")>,\n",
       " <selenium.webdriver.remote.webelement.WebElement (session=\"f94fa24066e43e9fbb085739a9082312\", element=\"dca056ed-a419-4c27-93ad-3acf1f903117\")>,\n",
       " <selenium.webdriver.remote.webelement.WebElement (session=\"f94fa24066e43e9fbb085739a9082312\", element=\"c56b8f93-bf56-4197-b86c-92cc190e54c4\")>]"
      ]
     },
     "execution_count": 32,
     "metadata": {},
     "output_type": "execute_result"
    }
   ],
   "source": [
    "name=driver.find_elements_by_xpath(\"//a[@class= 'subTitle ellipsis fleft']\")\n",
    "name[:10]"
   ]
  },
  {
   "cell_type": "code",
   "execution_count": 33,
   "metadata": {},
   "outputs": [
    {
     "data": {
      "text/plain": [
       "['Inflexion Analytix Private Limited',\n",
       " 'IBM India Pvt. Limited',\n",
       " 'NEC CORPORATION INDIA PRIVATE LIMITED',\n",
       " 'Mobikwik',\n",
       " 'CRESCENDO GLOBAL LEADERSHIP HIRING INDIA PRIVATE L IMITED',\n",
       " 'CRESCENDO GLOBAL LEADERSHIP HIRING INDIA PRIVATE L IMITED',\n",
       " 'Optum Global Solutions (India) Private Limited',\n",
       " 'NEC CORPORATION INDIA PRIVATE LIMITED',\n",
       " 'Cloudstrats Technologies Private Limited',\n",
       " 'Country Veggie']"
      ]
     },
     "execution_count": 33,
     "metadata": {},
     "output_type": "execute_result"
    }
   ],
   "source": [
    "company_name=[]\n",
    "for i in name:\n",
    "    company_name.append(i.text)\n",
    "company_name[:10]"
   ]
  },
  {
   "cell_type": "code",
   "execution_count": 34,
   "metadata": {},
   "outputs": [
    {
     "data": {
      "text/plain": [
       "[<selenium.webdriver.remote.webelement.WebElement (session=\"f94fa24066e43e9fbb085739a9082312\", element=\"4123a61e-fd2a-4a3a-9888-77ed4f8a733d\")>,\n",
       " <selenium.webdriver.remote.webelement.WebElement (session=\"f94fa24066e43e9fbb085739a9082312\", element=\"8b7cd059-5b43-425d-a9ba-18b67789ae6e\")>,\n",
       " <selenium.webdriver.remote.webelement.WebElement (session=\"f94fa24066e43e9fbb085739a9082312\", element=\"793229ff-20d9-419b-8c40-f93080e5bb44\")>,\n",
       " <selenium.webdriver.remote.webelement.WebElement (session=\"f94fa24066e43e9fbb085739a9082312\", element=\"ea1dab93-153a-4f5b-8203-2be4616cf290\")>,\n",
       " <selenium.webdriver.remote.webelement.WebElement (session=\"f94fa24066e43e9fbb085739a9082312\", element=\"2800f976-d175-4e6f-a72e-7273f4285797\")>,\n",
       " <selenium.webdriver.remote.webelement.WebElement (session=\"f94fa24066e43e9fbb085739a9082312\", element=\"736d225d-4780-4c1c-a2a2-dd7e66d1a48a\")>,\n",
       " <selenium.webdriver.remote.webelement.WebElement (session=\"f94fa24066e43e9fbb085739a9082312\", element=\"6ec6921c-9335-4d75-aa98-d4985079368f\")>,\n",
       " <selenium.webdriver.remote.webelement.WebElement (session=\"f94fa24066e43e9fbb085739a9082312\", element=\"021402a1-a962-4a65-b988-df462116a73c\")>,\n",
       " <selenium.webdriver.remote.webelement.WebElement (session=\"f94fa24066e43e9fbb085739a9082312\", element=\"58971a2a-e27e-43ce-8816-1f2bc5e7ed4f\")>,\n",
       " <selenium.webdriver.remote.webelement.WebElement (session=\"f94fa24066e43e9fbb085739a9082312\", element=\"437aa230-c4c4-4ab2-b1eb-5028420dc24e\")>]"
      ]
     },
     "execution_count": 34,
     "metadata": {},
     "output_type": "execute_result"
    }
   ],
   "source": [
    "experience=driver.find_elements_by_xpath(\"//li[@class= 'fleft grey-text br2 placeHolderLi experience']//span\")\n",
    "experience[:10]"
   ]
  },
  {
   "cell_type": "code",
   "execution_count": 35,
   "metadata": {},
   "outputs": [
    {
     "data": {
      "text/plain": [
       "['0-3 Yrs',\n",
       " '4-9 Yrs',\n",
       " '3-7 Yrs',\n",
       " '3-5 Yrs',\n",
       " '3-6 Yrs',\n",
       " '3-6 Yrs',\n",
       " '3-5 Yrs',\n",
       " '3-8 Yrs',\n",
       " '5-8 Yrs',\n",
       " '1-3 Yrs']"
      ]
     },
     "execution_count": 35,
     "metadata": {},
     "output_type": "execute_result"
    }
   ],
   "source": [
    "experience_required=[]\n",
    "for i in experience:\n",
    "    experience_required.append(i.text)\n",
    "experience_required[:10]"
   ]
  },
  {
   "cell_type": "code",
   "execution_count": 36,
   "metadata": {},
   "outputs": [
    {
     "name": "stdout",
     "output_type": "stream",
     "text": [
      "20 20 20 20\n"
     ]
    }
   ],
   "source": [
    "print(len(job_titles),len(job_location),len(company_name),len(experience_required))"
   ]
  },
  {
   "cell_type": "code",
   "execution_count": 37,
   "metadata": {},
   "outputs": [
    {
     "data": {
      "text/html": [
       "<div>\n",
       "<style scoped>\n",
       "    .dataframe tbody tr th:only-of-type {\n",
       "        vertical-align: middle;\n",
       "    }\n",
       "\n",
       "    .dataframe tbody tr th {\n",
       "        vertical-align: top;\n",
       "    }\n",
       "\n",
       "    .dataframe thead th {\n",
       "        text-align: right;\n",
       "    }\n",
       "</style>\n",
       "<table border=\"1\" class=\"dataframe\">\n",
       "  <thead>\n",
       "    <tr style=\"text-align: right;\">\n",
       "      <th></th>\n",
       "      <th>Job_titles</th>\n",
       "      <th>job_location</th>\n",
       "      <th>comapany_name</th>\n",
       "      <th>experience_required</th>\n",
       "    </tr>\n",
       "  </thead>\n",
       "  <tbody>\n",
       "    <tr>\n",
       "      <th>0</th>\n",
       "      <td>Data Scientist / Data Analyst -Business Analyst</td>\n",
       "      <td>Mumbai, Hyderabad/Secunderabad, Pune, Gurgaon/...</td>\n",
       "      <td>Inflexion Analytix Private Limited</td>\n",
       "      <td>0-3 Yrs</td>\n",
       "    </tr>\n",
       "    <tr>\n",
       "      <th>1</th>\n",
       "      <td>Data Scientist</td>\n",
       "      <td>Noida, Hyderabad/Secunderabad, Bangalore/Benga...</td>\n",
       "      <td>IBM India Pvt. Limited</td>\n",
       "      <td>4-9 Yrs</td>\n",
       "    </tr>\n",
       "    <tr>\n",
       "      <th>2</th>\n",
       "      <td>Excellent opportunity For Data Scientist</td>\n",
       "      <td>Noida, Bangalore/Bengaluru</td>\n",
       "      <td>NEC CORPORATION INDIA PRIVATE LIMITED</td>\n",
       "      <td>3-7 Yrs</td>\n",
       "    </tr>\n",
       "    <tr>\n",
       "      <th>3</th>\n",
       "      <td>Data Scientist</td>\n",
       "      <td>New Delhi, Gurgaon/Gurugram, Delhi / NCR</td>\n",
       "      <td>Mobikwik</td>\n",
       "      <td>3-5 Yrs</td>\n",
       "    </tr>\n",
       "    <tr>\n",
       "      <th>4</th>\n",
       "      <td>DATA Scientist – Gurgaon (Exp 3-6 years)</td>\n",
       "      <td>Gurgaon/Gurugram, Delhi / NCR</td>\n",
       "      <td>CRESCENDO GLOBAL LEADERSHIP HIRING INDIA PRIVA...</td>\n",
       "      <td>3-6 Yrs</td>\n",
       "    </tr>\n",
       "    <tr>\n",
       "      <th>5</th>\n",
       "      <td>DATA Scientist – Gurgaon (Exp 3-6 years)</td>\n",
       "      <td>Gurgaon/Gurugram, Delhi / NCR</td>\n",
       "      <td>CRESCENDO GLOBAL LEADERSHIP HIRING INDIA PRIVA...</td>\n",
       "      <td>3-6 Yrs</td>\n",
       "    </tr>\n",
       "    <tr>\n",
       "      <th>6</th>\n",
       "      <td>Data Scientist - Noida</td>\n",
       "      <td>Noida</td>\n",
       "      <td>Optum Global Solutions (India) Private Limited</td>\n",
       "      <td>3-5 Yrs</td>\n",
       "    </tr>\n",
       "    <tr>\n",
       "      <th>7</th>\n",
       "      <td>Data Scientist - Noida/ B'lore</td>\n",
       "      <td>Noida, Bangalore/Bengaluru</td>\n",
       "      <td>NEC CORPORATION INDIA PRIVATE LIMITED</td>\n",
       "      <td>3-8 Yrs</td>\n",
       "    </tr>\n",
       "    <tr>\n",
       "      <th>8</th>\n",
       "      <td>Data Scientist</td>\n",
       "      <td>Bangalore/Bengaluru, Delhi / NCR, Mumbai (All ...</td>\n",
       "      <td>Cloudstrats Technologies Private Limited</td>\n",
       "      <td>5-8 Yrs</td>\n",
       "    </tr>\n",
       "    <tr>\n",
       "      <th>9</th>\n",
       "      <td>Data Scientist</td>\n",
       "      <td>Bharuch, Jaipur, Bhopal, Mumbai, Jhansi, Nagpu...</td>\n",
       "      <td>Country Veggie</td>\n",
       "      <td>1-3 Yrs</td>\n",
       "    </tr>\n",
       "  </tbody>\n",
       "</table>\n",
       "</div>"
      ],
      "text/plain": [
       "                                        Job_titles  \\\n",
       "0  Data Scientist / Data Analyst -Business Analyst   \n",
       "1                                   Data Scientist   \n",
       "2         Excellent opportunity For Data Scientist   \n",
       "3                                   Data Scientist   \n",
       "4         DATA Scientist – Gurgaon (Exp 3-6 years)   \n",
       "5         DATA Scientist – Gurgaon (Exp 3-6 years)   \n",
       "6                           Data Scientist - Noida   \n",
       "7                   Data Scientist - Noida/ B'lore   \n",
       "8                                   Data Scientist   \n",
       "9                                   Data Scientist   \n",
       "\n",
       "                                        job_location  \\\n",
       "0  Mumbai, Hyderabad/Secunderabad, Pune, Gurgaon/...   \n",
       "1  Noida, Hyderabad/Secunderabad, Bangalore/Benga...   \n",
       "2                         Noida, Bangalore/Bengaluru   \n",
       "3           New Delhi, Gurgaon/Gurugram, Delhi / NCR   \n",
       "4                      Gurgaon/Gurugram, Delhi / NCR   \n",
       "5                      Gurgaon/Gurugram, Delhi / NCR   \n",
       "6                                              Noida   \n",
       "7                         Noida, Bangalore/Bengaluru   \n",
       "8  Bangalore/Bengaluru, Delhi / NCR, Mumbai (All ...   \n",
       "9  Bharuch, Jaipur, Bhopal, Mumbai, Jhansi, Nagpu...   \n",
       "\n",
       "                                       comapany_name experience_required  \n",
       "0                 Inflexion Analytix Private Limited             0-3 Yrs  \n",
       "1                             IBM India Pvt. Limited             4-9 Yrs  \n",
       "2              NEC CORPORATION INDIA PRIVATE LIMITED             3-7 Yrs  \n",
       "3                                           Mobikwik             3-5 Yrs  \n",
       "4  CRESCENDO GLOBAL LEADERSHIP HIRING INDIA PRIVA...             3-6 Yrs  \n",
       "5  CRESCENDO GLOBAL LEADERSHIP HIRING INDIA PRIVA...             3-6 Yrs  \n",
       "6     Optum Global Solutions (India) Private Limited             3-5 Yrs  \n",
       "7              NEC CORPORATION INDIA PRIVATE LIMITED             3-8 Yrs  \n",
       "8           Cloudstrats Technologies Private Limited             5-8 Yrs  \n",
       "9                                     Country Veggie             1-3 Yrs  "
      ]
     },
     "execution_count": 37,
     "metadata": {},
     "output_type": "execute_result"
    }
   ],
   "source": [
    "JOB=pd.DataFrame({})\n",
    "JOB[\"Job_titles\"]=job_titles\n",
    "JOB[\"job_location\"]=job_location\n",
    "JOB[\"comapany_name\"]=company_name\n",
    "JOB[\"experience_required\"]=experience_required\n",
    "JOB[:10]"
   ]
  },
  {
   "cell_type": "code",
   "execution_count": null,
   "metadata": {},
   "outputs": [],
   "source": []
  },
  {
   "cell_type": "markdown",
   "metadata": {},
   "source": [
    "# Web Scrapping for Data Scientist from Glassdoor"
   ]
  },
  {
   "cell_type": "code",
   "execution_count": 1,
   "metadata": {},
   "outputs": [],
   "source": [
    "import selenium\n",
    "import pandas as pd\n",
    "from selenium import webdriver"
   ]
  },
  {
   "cell_type": "code",
   "execution_count": 177,
   "metadata": {},
   "outputs": [],
   "source": [
    "driver=webdriver.Chrome(\"chromedriver.exe\")"
   ]
  },
  {
   "cell_type": "code",
   "execution_count": 178,
   "metadata": {},
   "outputs": [],
   "source": [
    "url= \"https://www.glassdoor.co.in/index.htm\"\n",
    "driver.get(url)"
   ]
  },
  {
   "cell_type": "code",
   "execution_count": 184,
   "metadata": {},
   "outputs": [
    {
     "data": {
      "text/plain": [
       "<selenium.webdriver.remote.webelement.WebElement (session=\"13ba2abf5d8514ae2bef2b8a382d0e97\", element=\"6f17a96d-888c-4aaa-8664-389d176ae3b1\")>"
      ]
     },
     "execution_count": 184,
     "metadata": {},
     "output_type": "execute_result"
    }
   ],
   "source": [
    "search_job=driver.find_element_by_id(\"scKeyword\")\n",
    "search_job"
   ]
  },
  {
   "cell_type": "code",
   "execution_count": 185,
   "metadata": {},
   "outputs": [],
   "source": [
    "search_job.send_keys(\"Data Scientist\")"
   ]
  },
  {
   "cell_type": "code",
   "execution_count": 192,
   "metadata": {},
   "outputs": [
    {
     "data": {
      "text/plain": [
       "<selenium.webdriver.remote.webelement.WebElement (session=\"13ba2abf5d8514ae2bef2b8a382d0e97\", element=\"0f214c24-6155-40b4-b790-47063450052a\")>"
      ]
     },
     "execution_count": 192,
     "metadata": {},
     "output_type": "execute_result"
    }
   ],
   "source": [
    "search_loc=driver.find_element_by_id(\"scLocation\")\n",
    "search_loc"
   ]
  },
  {
   "cell_type": "code",
   "execution_count": 193,
   "metadata": {},
   "outputs": [],
   "source": [
    "search_loc.send_keys(\"Noida\")"
   ]
  },
  {
   "cell_type": "code",
   "execution_count": 194,
   "metadata": {},
   "outputs": [],
   "source": [
    "search_btn=driver.find_element_by_id(\"prefix__icon-arrow-1\")\n",
    "search_btn.click()"
   ]
  },
  {
   "cell_type": "code",
   "execution_count": 174,
   "metadata": {},
   "outputs": [],
   "source": [
    "company_name=[]\n",
    "No_of_days_ago=[]\n",
    "Rating_of_the_company=[]"
   ]
  },
  {
   "cell_type": "code",
   "execution_count": 202,
   "metadata": {},
   "outputs": [
    {
     "data": {
      "text/plain": [
       "[<selenium.webdriver.remote.webelement.WebElement (session=\"13ba2abf5d8514ae2bef2b8a382d0e97\", element=\"116842e6-b5ec-45c6-a49e-e1efd3d8891a\")>,\n",
       " <selenium.webdriver.remote.webelement.WebElement (session=\"13ba2abf5d8514ae2bef2b8a382d0e97\", element=\"7f23ee8f-8081-429a-9914-557b548abd3f\")>,\n",
       " <selenium.webdriver.remote.webelement.WebElement (session=\"13ba2abf5d8514ae2bef2b8a382d0e97\", element=\"2a29c9f7-977c-465d-a705-58b6f75ee578\")>,\n",
       " <selenium.webdriver.remote.webelement.WebElement (session=\"13ba2abf5d8514ae2bef2b8a382d0e97\", element=\"eed5f786-b390-453e-b0b2-0dac342e6648\")>,\n",
       " <selenium.webdriver.remote.webelement.WebElement (session=\"13ba2abf5d8514ae2bef2b8a382d0e97\", element=\"630fdf68-08f8-4ed1-8dda-0963adfa233b\")>,\n",
       " <selenium.webdriver.remote.webelement.WebElement (session=\"13ba2abf5d8514ae2bef2b8a382d0e97\", element=\"11f953a7-73cf-4181-aec8-f72c029323c6\")>,\n",
       " <selenium.webdriver.remote.webelement.WebElement (session=\"13ba2abf5d8514ae2bef2b8a382d0e97\", element=\"82812d79-400f-4807-845d-463d195853ca\")>,\n",
       " <selenium.webdriver.remote.webelement.WebElement (session=\"13ba2abf5d8514ae2bef2b8a382d0e97\", element=\"b024de0e-993b-4d7d-9e11-c299ed8bc832\")>,\n",
       " <selenium.webdriver.remote.webelement.WebElement (session=\"13ba2abf5d8514ae2bef2b8a382d0e97\", element=\"41121e9c-83f6-4776-98f6-55b9ecf2f828\")>,\n",
       " <selenium.webdriver.remote.webelement.WebElement (session=\"13ba2abf5d8514ae2bef2b8a382d0e97\", element=\"4054f0a9-8c5c-4357-9df0-bd20893fcf78\")>]"
      ]
     },
     "execution_count": 202,
     "metadata": {},
     "output_type": "execute_result"
    }
   ],
   "source": [
    "name=driver.find_elements_by_xpath(\"//a[@class=' css-l2wjgv e1n63ojh0 jobLink']\")\n",
    "name[:10]"
   ]
  },
  {
   "cell_type": "code",
   "execution_count": 203,
   "metadata": {},
   "outputs": [
    {
     "data": {
      "text/plain": [
       "['Biz2Credit Inc',\n",
       " 'UnitedHealth Group',\n",
       " 'Adobe',\n",
       " 'Salasar New Age Technologies',\n",
       " 'CRMNEXT',\n",
       " 'Adobe',\n",
       " 'Ericsson',\n",
       " 'WishFin',\n",
       " 'xtLytics',\n",
       " 'dunnhumby']"
      ]
     },
     "execution_count": 203,
     "metadata": {},
     "output_type": "execute_result"
    }
   ],
   "source": [
    "for i in name:\n",
    "    company_name.append(i.text)\n",
    "company_name[:10]"
   ]
  },
  {
   "cell_type": "code",
   "execution_count": 204,
   "metadata": {},
   "outputs": [
    {
     "data": {
      "text/plain": [
       "[<selenium.webdriver.remote.webelement.WebElement (session=\"13ba2abf5d8514ae2bef2b8a382d0e97\", element=\"87a3394a-98e1-498e-b220-ab1ecae4f922\")>,\n",
       " <selenium.webdriver.remote.webelement.WebElement (session=\"13ba2abf5d8514ae2bef2b8a382d0e97\", element=\"1648822d-3245-41c2-89cb-0d5f785edeab\")>,\n",
       " <selenium.webdriver.remote.webelement.WebElement (session=\"13ba2abf5d8514ae2bef2b8a382d0e97\", element=\"ca81c4ba-646c-47c3-b2b4-af2ff5931739\")>,\n",
       " <selenium.webdriver.remote.webelement.WebElement (session=\"13ba2abf5d8514ae2bef2b8a382d0e97\", element=\"a21c4875-c6fe-4d63-b17c-0eb98a40058d\")>,\n",
       " <selenium.webdriver.remote.webelement.WebElement (session=\"13ba2abf5d8514ae2bef2b8a382d0e97\", element=\"99d2ba03-7d08-4313-a557-908dcd27d138\")>,\n",
       " <selenium.webdriver.remote.webelement.WebElement (session=\"13ba2abf5d8514ae2bef2b8a382d0e97\", element=\"a6eeea55-cb59-4a63-b3c8-459ade3d86f6\")>,\n",
       " <selenium.webdriver.remote.webelement.WebElement (session=\"13ba2abf5d8514ae2bef2b8a382d0e97\", element=\"72261383-3f0d-4c5e-9e9c-7b7da82dc9be\")>,\n",
       " <selenium.webdriver.remote.webelement.WebElement (session=\"13ba2abf5d8514ae2bef2b8a382d0e97\", element=\"f8adb60f-3bc6-455f-89c7-38243ebf35ac\")>,\n",
       " <selenium.webdriver.remote.webelement.WebElement (session=\"13ba2abf5d8514ae2bef2b8a382d0e97\", element=\"1ec95931-a701-4c97-8d57-3e614bb35821\")>,\n",
       " <selenium.webdriver.remote.webelement.WebElement (session=\"13ba2abf5d8514ae2bef2b8a382d0e97\", element=\"2d1d43de-2b1a-43ab-a733-355c3f568646\")>]"
      ]
     },
     "execution_count": 204,
     "metadata": {},
     "output_type": "execute_result"
    }
   ],
   "source": [
    "days=driver.find_elements_by_xpath(\"//div[@class= 'd-flex align-items-end pl-std css-mi55ob']\")\n",
    "days[:10]"
   ]
  },
  {
   "cell_type": "code",
   "execution_count": 205,
   "metadata": {},
   "outputs": [
    {
     "data": {
      "text/plain": [
       "['30d+', '30d+', '24h', '30d+', '6d', '18d', '7d', '30d+', '30d+', '6d']"
      ]
     },
     "execution_count": 205,
     "metadata": {},
     "output_type": "execute_result"
    }
   ],
   "source": [
    "for i in days:\n",
    "    No_of_days_ago.append(i.text)\n",
    "No_of_days_ago[:10]"
   ]
  },
  {
   "cell_type": "code",
   "execution_count": 206,
   "metadata": {},
   "outputs": [
    {
     "data": {
      "text/plain": [
       "['3.8', '3.6', '4.4', '3.6', '4.4', '4.1', '3.8', '3.0', '4.1', '5.0']"
      ]
     },
     "execution_count": 206,
     "metadata": {},
     "output_type": "execute_result"
    }
   ],
   "source": [
    "for j in driver.find_elements_by_xpath(\"//span[@class= 'css-19pjha7 e1cjmv6j1']\"):\n",
    "        Rating_of_the_company.append(j.text)\n",
    "Rating_of_the_company[:10]"
   ]
  },
  {
   "cell_type": "code",
   "execution_count": 215,
   "metadata": {},
   "outputs": [
    {
     "name": "stdout",
     "output_type": "stream",
     "text": [
      "10 10 10\n"
     ]
    }
   ],
   "source": [
    "print(len(company_name[:10]),len(No_of_days_ago[:10]),len(Rating_of_the_company[:10]))"
   ]
  },
  {
   "cell_type": "code",
   "execution_count": 217,
   "metadata": {},
   "outputs": [
    {
     "data": {
      "text/html": [
       "<div>\n",
       "<style scoped>\n",
       "    .dataframe tbody tr th:only-of-type {\n",
       "        vertical-align: middle;\n",
       "    }\n",
       "\n",
       "    .dataframe tbody tr th {\n",
       "        vertical-align: top;\n",
       "    }\n",
       "\n",
       "    .dataframe thead th {\n",
       "        text-align: right;\n",
       "    }\n",
       "</style>\n",
       "<table border=\"1\" class=\"dataframe\">\n",
       "  <thead>\n",
       "    <tr style=\"text-align: right;\">\n",
       "      <th></th>\n",
       "      <th>company_name</th>\n",
       "      <th>No_of_days_ago</th>\n",
       "      <th>Rating_of_the_company</th>\n",
       "    </tr>\n",
       "  </thead>\n",
       "  <tbody>\n",
       "    <tr>\n",
       "      <th>0</th>\n",
       "      <td>Biz2Credit Inc</td>\n",
       "      <td>30d+</td>\n",
       "      <td>3.8</td>\n",
       "    </tr>\n",
       "    <tr>\n",
       "      <th>1</th>\n",
       "      <td>UnitedHealth Group</td>\n",
       "      <td>30d+</td>\n",
       "      <td>3.6</td>\n",
       "    </tr>\n",
       "    <tr>\n",
       "      <th>2</th>\n",
       "      <td>Adobe</td>\n",
       "      <td>24h</td>\n",
       "      <td>4.4</td>\n",
       "    </tr>\n",
       "    <tr>\n",
       "      <th>3</th>\n",
       "      <td>Salasar New Age Technologies</td>\n",
       "      <td>30d+</td>\n",
       "      <td>3.6</td>\n",
       "    </tr>\n",
       "    <tr>\n",
       "      <th>4</th>\n",
       "      <td>CRMNEXT</td>\n",
       "      <td>6d</td>\n",
       "      <td>4.4</td>\n",
       "    </tr>\n",
       "    <tr>\n",
       "      <th>5</th>\n",
       "      <td>Adobe</td>\n",
       "      <td>18d</td>\n",
       "      <td>4.1</td>\n",
       "    </tr>\n",
       "    <tr>\n",
       "      <th>6</th>\n",
       "      <td>Ericsson</td>\n",
       "      <td>7d</td>\n",
       "      <td>3.8</td>\n",
       "    </tr>\n",
       "    <tr>\n",
       "      <th>7</th>\n",
       "      <td>WishFin</td>\n",
       "      <td>30d+</td>\n",
       "      <td>3.0</td>\n",
       "    </tr>\n",
       "    <tr>\n",
       "      <th>8</th>\n",
       "      <td>xtLytics</td>\n",
       "      <td>30d+</td>\n",
       "      <td>4.1</td>\n",
       "    </tr>\n",
       "    <tr>\n",
       "      <th>9</th>\n",
       "      <td>dunnhumby</td>\n",
       "      <td>6d</td>\n",
       "      <td>5.0</td>\n",
       "    </tr>\n",
       "  </tbody>\n",
       "</table>\n",
       "</div>"
      ],
      "text/plain": [
       "                   company_name No_of_days_ago Rating_of_the_company\n",
       "0                Biz2Credit Inc           30d+                   3.8\n",
       "1            UnitedHealth Group           30d+                   3.6\n",
       "2                         Adobe            24h                   4.4\n",
       "3  Salasar New Age Technologies           30d+                   3.6\n",
       "4                       CRMNEXT             6d                   4.4\n",
       "5                         Adobe            18d                   4.1\n",
       "6                      Ericsson             7d                   3.8\n",
       "7                       WishFin           30d+                   3.0\n",
       "8                      xtLytics           30d+                   4.1\n",
       "9                     dunnhumby             6d                   5.0"
      ]
     },
     "execution_count": 217,
     "metadata": {},
     "output_type": "execute_result"
    }
   ],
   "source": [
    "JOB=pd.DataFrame({})\n",
    "JOB[\"company_name\"]=company_name[:10]\n",
    "JOB[\"No_of_days_ago\"]=No_of_days_ago[:10]\n",
    "JOB[\"Rating_of_the_company\"]=Rating_of_the_company[:10]\n",
    "JOB[:10]"
   ]
  },
  {
   "cell_type": "code",
   "execution_count": null,
   "metadata": {},
   "outputs": [],
   "source": []
  },
  {
   "cell_type": "code",
   "execution_count": 46,
   "metadata": {},
   "outputs": [],
   "source": [
    "driver=webdriver.Chrome(\"chromedriver.exe\")"
   ]
  },
  {
   "cell_type": "code",
   "execution_count": 47,
   "metadata": {},
   "outputs": [],
   "source": [
    "url= \"https://www.glassdoor.co.in/Salaries/index.htm\"\n",
    "driver.get(url)"
   ]
  },
  {
   "cell_type": "code",
   "execution_count": 60,
   "metadata": {},
   "outputs": [],
   "source": [
    "Number_of_salaries=[]\n",
    "Average_salary=[]\n",
    "max_salary=[]\n",
    "min_salary=[]"
   ]
  },
  {
   "cell_type": "code",
   "execution_count": 57,
   "metadata": {
    "scrolled": true
   },
   "outputs": [
    {
     "data": {
      "text/plain": [
       "[<selenium.webdriver.remote.webelement.WebElement (session=\"bb7c928d8a2516d26ae779fe6210a7ad\", element=\"f0a10e05-076f-44dc-b045-43a8e3f2ebc3\")>,\n",
       " <selenium.webdriver.remote.webelement.WebElement (session=\"bb7c928d8a2516d26ae779fe6210a7ad\", element=\"22daec7a-cad5-4390-8353-7fdadbb303b8\")>,\n",
       " <selenium.webdriver.remote.webelement.WebElement (session=\"bb7c928d8a2516d26ae779fe6210a7ad\", element=\"c82c9a27-5e65-44c6-999a-64d0252ad5e8\")>,\n",
       " <selenium.webdriver.remote.webelement.WebElement (session=\"bb7c928d8a2516d26ae779fe6210a7ad\", element=\"3abd285c-85bb-4b27-a257-b9488e3b6a6d\")>,\n",
       " <selenium.webdriver.remote.webelement.WebElement (session=\"bb7c928d8a2516d26ae779fe6210a7ad\", element=\"1beb6e0f-5662-4b57-a4cc-d06b7c4d5c3a\")>,\n",
       " <selenium.webdriver.remote.webelement.WebElement (session=\"bb7c928d8a2516d26ae779fe6210a7ad\", element=\"3b2ad3dc-781f-4b43-ac23-be0f16348423\")>,\n",
       " <selenium.webdriver.remote.webelement.WebElement (session=\"bb7c928d8a2516d26ae779fe6210a7ad\", element=\"d34906c9-2768-437b-bed3-5a23a1860f54\")>,\n",
       " <selenium.webdriver.remote.webelement.WebElement (session=\"bb7c928d8a2516d26ae779fe6210a7ad\", element=\"ebd8462d-2311-4eca-9304-8b2ae15bb1de\")>,\n",
       " <selenium.webdriver.remote.webelement.WebElement (session=\"bb7c928d8a2516d26ae779fe6210a7ad\", element=\"744ad5fd-b3bc-4a7d-9ce8-93f42927e777\")>,\n",
       " <selenium.webdriver.remote.webelement.WebElement (session=\"bb7c928d8a2516d26ae779fe6210a7ad\", element=\"8dc59195-d93f-473a-bc2b-0d8fd3ec310a\")>]"
      ]
     },
     "execution_count": 57,
     "metadata": {},
     "output_type": "execute_result"
    }
   ],
   "source": [
    "salaries=driver.find_elements_by_xpath(\"//p[@class= 'css-1uyte9r css-1kuy7z7 m-0 ']\")\n",
    "salaries[:10]"
   ]
  },
  {
   "cell_type": "code",
   "execution_count": 58,
   "metadata": {},
   "outputs": [
    {
     "data": {
      "text/plain": [
       "['18 salaries',\n",
       " '14 salaries',\n",
       " '14 salaries',\n",
       " '14 salaries',\n",
       " '13 salaries',\n",
       " '11 salaries',\n",
       " '9 salaries',\n",
       " '8 salaries',\n",
       " '8 salaries',\n",
       " '8 salaries']"
      ]
     },
     "execution_count": 58,
     "metadata": {},
     "output_type": "execute_result"
    }
   ],
   "source": [
    "for i in salaries:\n",
    "    Number_of_salaries.append(i.text)\n",
    "Number_of_salaries[:10]"
   ]
  },
  {
   "cell_type": "code",
   "execution_count": 59,
   "metadata": {
    "scrolled": true
   },
   "outputs": [
    {
     "data": {
      "text/plain": [
       "[<selenium.webdriver.remote.webelement.WebElement (session=\"bb7c928d8a2516d26ae779fe6210a7ad\", element=\"19eea91c-f6d8-48ca-b1f2-f92cc34d64bc\")>,\n",
       " <selenium.webdriver.remote.webelement.WebElement (session=\"bb7c928d8a2516d26ae779fe6210a7ad\", element=\"82023afe-9774-494e-a9dc-610a9abfbc0b\")>,\n",
       " <selenium.webdriver.remote.webelement.WebElement (session=\"bb7c928d8a2516d26ae779fe6210a7ad\", element=\"fd19e99e-06af-4474-a685-7901fb84460e\")>,\n",
       " <selenium.webdriver.remote.webelement.WebElement (session=\"bb7c928d8a2516d26ae779fe6210a7ad\", element=\"85158636-2899-41f2-ab0e-478947ca7dbe\")>,\n",
       " <selenium.webdriver.remote.webelement.WebElement (session=\"bb7c928d8a2516d26ae779fe6210a7ad\", element=\"2bcc39a8-d23d-4492-ac3a-ce56533aaa8e\")>,\n",
       " <selenium.webdriver.remote.webelement.WebElement (session=\"bb7c928d8a2516d26ae779fe6210a7ad\", element=\"b76d61b4-d430-42e8-9765-fa56a636d396\")>,\n",
       " <selenium.webdriver.remote.webelement.WebElement (session=\"bb7c928d8a2516d26ae779fe6210a7ad\", element=\"ef689022-4974-4f6a-9b4f-015f605838cd\")>,\n",
       " <selenium.webdriver.remote.webelement.WebElement (session=\"bb7c928d8a2516d26ae779fe6210a7ad\", element=\"b6dd3c51-8984-4adb-8531-e993d61741f0\")>,\n",
       " <selenium.webdriver.remote.webelement.WebElement (session=\"bb7c928d8a2516d26ae779fe6210a7ad\", element=\"871557f0-60af-4365-80e5-45421eb79863\")>,\n",
       " <selenium.webdriver.remote.webelement.WebElement (session=\"bb7c928d8a2516d26ae779fe6210a7ad\", element=\"f740f555-72bb-4351-aeb8-62de5beecba4\")>]"
      ]
     },
     "execution_count": 59,
     "metadata": {},
     "output_type": "execute_result"
    }
   ],
   "source": [
    "avg_salary=driver.find_elements_by_xpath(\"//p[@class= 'd-block d-md-none m-0']\")\n",
    "avg_salary[:10]"
   ]
  },
  {
   "cell_type": "code",
   "execution_count": 62,
   "metadata": {},
   "outputs": [
    {
     "data": {
      "text/plain": [
       "['₹ 6,00,000/yr',\n",
       " '₹ 8,79,486/yr',\n",
       " '₹ 7,15,984/yr',\n",
       " '₹ 12,12,741/yr',\n",
       " '₹ 10,97,744/yr',\n",
       " '₹ 12,96,182/yr',\n",
       " '₹ 7,90,812/yr',\n",
       " '₹ 11,19,962/yr',\n",
       " '₹ 11,10,022/yr',\n",
       " '₹ 13,93,451/yr']"
      ]
     },
     "execution_count": 62,
     "metadata": {},
     "output_type": "execute_result"
    }
   ],
   "source": [
    "for i in avg_salary:\n",
    "    Average_salary.append(i.text)\n",
    "Average_salary[:10]"
   ]
  },
  {
   "cell_type": "code",
   "execution_count": 75,
   "metadata": {},
   "outputs": [
    {
     "data": {
      "text/plain": [
       "[<selenium.webdriver.remote.webelement.WebElement (session=\"bb7c928d8a2516d26ae779fe6210a7ad\", element=\"89dd2015-c506-432a-8db3-dc73292a45e9\")>,\n",
       " <selenium.webdriver.remote.webelement.WebElement (session=\"bb7c928d8a2516d26ae779fe6210a7ad\", element=\"ef07cb5f-16d6-4f16-9ff1-e400df491a2f\")>,\n",
       " <selenium.webdriver.remote.webelement.WebElement (session=\"bb7c928d8a2516d26ae779fe6210a7ad\", element=\"f920b90c-8fd1-453f-9487-bad18942af1a\")>,\n",
       " <selenium.webdriver.remote.webelement.WebElement (session=\"bb7c928d8a2516d26ae779fe6210a7ad\", element=\"dd678a8e-d87a-4b2a-98a1-372927a6c4ef\")>,\n",
       " <selenium.webdriver.remote.webelement.WebElement (session=\"bb7c928d8a2516d26ae779fe6210a7ad\", element=\"2aceb28f-422b-4c33-abf0-25ed91d04795\")>,\n",
       " <selenium.webdriver.remote.webelement.WebElement (session=\"bb7c928d8a2516d26ae779fe6210a7ad\", element=\"f612ee5d-62a3-4ce7-82e1-27b4373f0b3f\")>,\n",
       " <selenium.webdriver.remote.webelement.WebElement (session=\"bb7c928d8a2516d26ae779fe6210a7ad\", element=\"b2e1cf20-55c6-4e4a-b25c-8de031405d16\")>,\n",
       " <selenium.webdriver.remote.webelement.WebElement (session=\"bb7c928d8a2516d26ae779fe6210a7ad\", element=\"fedbde3d-87e6-48a5-b9a4-f5679f91df4e\")>,\n",
       " <selenium.webdriver.remote.webelement.WebElement (session=\"bb7c928d8a2516d26ae779fe6210a7ad\", element=\"54bfc5d7-1ba2-4952-989b-728a09f34f04\")>,\n",
       " <selenium.webdriver.remote.webelement.WebElement (session=\"bb7c928d8a2516d26ae779fe6210a7ad\", element=\"eec7d4c1-394c-400e-8678-00f65e1fab0a\")>]"
      ]
     },
     "execution_count": 75,
     "metadata": {},
     "output_type": "execute_result"
    }
   ],
   "source": [
    "mx_salary=driver.find_elements_by_xpath(\"//div[@class= 'common__RangeBarStyle__rangeBar undefined undefined ']//span\")\n",
    "mx_salary[:10]"
   ]
  },
  {
   "cell_type": "code",
   "execution_count": 76,
   "metadata": {},
   "outputs": [
    {
     "data": {
      "text/plain": [
       "[<selenium.webdriver.remote.webelement.WebElement (session=\"bb7c928d8a2516d26ae779fe6210a7ad\", element=\"6cbc34a4-ac25-458a-b415-60e80af7ebc0\")>,\n",
       " <selenium.webdriver.remote.webelement.WebElement (session=\"bb7c928d8a2516d26ae779fe6210a7ad\", element=\"fb040ee4-de24-469a-ad41-cde7e0e17b6c\")>,\n",
       " <selenium.webdriver.remote.webelement.WebElement (session=\"bb7c928d8a2516d26ae779fe6210a7ad\", element=\"9e2b3b1c-49e0-4889-9ca1-0c7e6c9c37a6\")>,\n",
       " <selenium.webdriver.remote.webelement.WebElement (session=\"bb7c928d8a2516d26ae779fe6210a7ad\", element=\"8347efbc-909e-4b13-8d2c-783e29d62406\")>,\n",
       " <selenium.webdriver.remote.webelement.WebElement (session=\"bb7c928d8a2516d26ae779fe6210a7ad\", element=\"0e65d95b-81b6-43ed-90d8-3b69767dd8a3\")>,\n",
       " <selenium.webdriver.remote.webelement.WebElement (session=\"bb7c928d8a2516d26ae779fe6210a7ad\", element=\"eb49b0db-12f7-4298-961e-37068d7ef89d\")>,\n",
       " <selenium.webdriver.remote.webelement.WebElement (session=\"bb7c928d8a2516d26ae779fe6210a7ad\", element=\"ee18f047-4df3-4316-ad84-14b293984750\")>,\n",
       " <selenium.webdriver.remote.webelement.WebElement (session=\"bb7c928d8a2516d26ae779fe6210a7ad\", element=\"e6275632-012e-4e37-808c-b7e95d4a247c\")>,\n",
       " <selenium.webdriver.remote.webelement.WebElement (session=\"bb7c928d8a2516d26ae779fe6210a7ad\", element=\"f2845df9-4040-4094-9b3d-4252f13f99ae\")>,\n",
       " <selenium.webdriver.remote.webelement.WebElement (session=\"bb7c928d8a2516d26ae779fe6210a7ad\", element=\"99350166-855f-4d90-a7a9-d115077c493b\")>]"
      ]
     },
     "execution_count": 76,
     "metadata": {},
     "output_type": "execute_result"
    }
   ],
   "source": [
    "for i in mx_salary:\n",
    "    max_salary.append(i.text)\n",
    "max_salary[:10]"
   ]
  },
  {
   "cell_type": "code",
   "execution_count": null,
   "metadata": {},
   "outputs": [],
   "source": []
  },
  {
   "cell_type": "code",
   "execution_count": null,
   "metadata": {},
   "outputs": [],
   "source": []
  },
  {
   "cell_type": "code",
   "execution_count": null,
   "metadata": {},
   "outputs": [],
   "source": []
  },
  {
   "cell_type": "code",
   "execution_count": null,
   "metadata": {},
   "outputs": [],
   "source": []
  },
  {
   "cell_type": "markdown",
   "metadata": {},
   "source": [
    "# Scrapping 100 sunglasses from flipkart"
   ]
  },
  {
   "cell_type": "code",
   "execution_count": 77,
   "metadata": {},
   "outputs": [],
   "source": [
    "driver=webdriver.Chrome(\"chromedriver.exe\")"
   ]
  },
  {
   "cell_type": "code",
   "execution_count": 78,
   "metadata": {},
   "outputs": [],
   "source": [
    "url= \"https://www.flipkart.com/\"\n",
    "driver.get(url)"
   ]
  },
  {
   "cell_type": "code",
   "execution_count": 101,
   "metadata": {},
   "outputs": [],
   "source": [
    "Brand=[]\n",
    "Price=[]\n",
    "Discount=[]"
   ]
  },
  {
   "cell_type": "code",
   "execution_count": 85,
   "metadata": {},
   "outputs": [
    {
     "data": {
      "text/plain": [
       "[<selenium.webdriver.remote.webelement.WebElement (session=\"5e9f61972ea369798abb7ce44e3169a6\", element=\"76b92304-9b6f-4dfe-bdef-d30e1e94a90d\")>,\n",
       " <selenium.webdriver.remote.webelement.WebElement (session=\"5e9f61972ea369798abb7ce44e3169a6\", element=\"fd6fdf16-af62-435b-ac4e-6e7a0df80435\")>,\n",
       " <selenium.webdriver.remote.webelement.WebElement (session=\"5e9f61972ea369798abb7ce44e3169a6\", element=\"41979010-9baf-445b-be97-86734b51c4aa\")>,\n",
       " <selenium.webdriver.remote.webelement.WebElement (session=\"5e9f61972ea369798abb7ce44e3169a6\", element=\"ac1b3d45-d765-4cf8-8608-5d5167d39af0\")>,\n",
       " <selenium.webdriver.remote.webelement.WebElement (session=\"5e9f61972ea369798abb7ce44e3169a6\", element=\"a121d2c3-e692-43d5-b50f-e0afa909231f\")>,\n",
       " <selenium.webdriver.remote.webelement.WebElement (session=\"5e9f61972ea369798abb7ce44e3169a6\", element=\"13171854-4412-487f-8a70-8b59661c8ed9\")>,\n",
       " <selenium.webdriver.remote.webelement.WebElement (session=\"5e9f61972ea369798abb7ce44e3169a6\", element=\"be1b6990-f2a8-4e9a-8c42-0b363953e114\")>,\n",
       " <selenium.webdriver.remote.webelement.WebElement (session=\"5e9f61972ea369798abb7ce44e3169a6\", element=\"85781374-64b2-4af3-8cc6-e9fb475b6895\")>,\n",
       " <selenium.webdriver.remote.webelement.WebElement (session=\"5e9f61972ea369798abb7ce44e3169a6\", element=\"cd236aab-daa1-45a2-ba78-8e7cfc90dab4\")>,\n",
       " <selenium.webdriver.remote.webelement.WebElement (session=\"5e9f61972ea369798abb7ce44e3169a6\", element=\"89558fa2-de6c-49ba-ab1e-33ab24a823b4\")>]"
      ]
     },
     "execution_count": 85,
     "metadata": {},
     "output_type": "execute_result"
    }
   ],
   "source": [
    "brand=driver.find_elements_by_xpath(\"//div[@class= '_2WkVRV']\")\n",
    "brand[:10]"
   ]
  },
  {
   "cell_type": "code",
   "execution_count": 109,
   "metadata": {},
   "outputs": [
    {
     "data": {
      "text/plain": [
       "[<selenium.webdriver.remote.webelement.WebElement (session=\"5e9f61972ea369798abb7ce44e3169a6\", element=\"97ac8a1f-15ea-4a7b-b0e3-c3988b28a705\")>,\n",
       " <selenium.webdriver.remote.webelement.WebElement (session=\"5e9f61972ea369798abb7ce44e3169a6\", element=\"6fad907e-2441-49d5-9e9b-5d8131fa6533\")>,\n",
       " <selenium.webdriver.remote.webelement.WebElement (session=\"5e9f61972ea369798abb7ce44e3169a6\", element=\"1ec8b672-acb8-433f-b1f7-6dd561478051\")>,\n",
       " <selenium.webdriver.remote.webelement.WebElement (session=\"5e9f61972ea369798abb7ce44e3169a6\", element=\"e56a3502-8dda-4d76-a054-71146505d486\")>,\n",
       " <selenium.webdriver.remote.webelement.WebElement (session=\"5e9f61972ea369798abb7ce44e3169a6\", element=\"38a472b0-c83b-4be9-aaec-94c3351307e7\")>,\n",
       " <selenium.webdriver.remote.webelement.WebElement (session=\"5e9f61972ea369798abb7ce44e3169a6\", element=\"6518bfe4-f25b-4a23-bd81-7504259b59d0\")>,\n",
       " <selenium.webdriver.remote.webelement.WebElement (session=\"5e9f61972ea369798abb7ce44e3169a6\", element=\"f5613429-d18d-4ff5-ae1e-f3aa8b8c2597\")>,\n",
       " <selenium.webdriver.remote.webelement.WebElement (session=\"5e9f61972ea369798abb7ce44e3169a6\", element=\"ab1603df-2584-45f2-ba1a-e8dbfc0f4e19\")>,\n",
       " <selenium.webdriver.remote.webelement.WebElement (session=\"5e9f61972ea369798abb7ce44e3169a6\", element=\"f1a4b90d-33e3-4219-a49e-b4a8140dced0\")>,\n",
       " <selenium.webdriver.remote.webelement.WebElement (session=\"5e9f61972ea369798abb7ce44e3169a6\", element=\"e9b07bd6-46f9-41dd-92dc-1ff0d15a02dc\")>,\n",
       " <selenium.webdriver.remote.webelement.WebElement (session=\"5e9f61972ea369798abb7ce44e3169a6\", element=\"3a6f159b-d3ec-414e-b946-dbe0902bd0db\")>,\n",
       " <selenium.webdriver.remote.webelement.WebElement (session=\"5e9f61972ea369798abb7ce44e3169a6\", element=\"71eec3c7-977b-45dc-8784-1808adf8f6f7\")>,\n",
       " <selenium.webdriver.remote.webelement.WebElement (session=\"5e9f61972ea369798abb7ce44e3169a6\", element=\"a40b50c9-af85-4963-8146-3f0a296cd8b2\")>,\n",
       " <selenium.webdriver.remote.webelement.WebElement (session=\"5e9f61972ea369798abb7ce44e3169a6\", element=\"14f7f399-6ffa-468b-9d25-81962909db32\")>,\n",
       " <selenium.webdriver.remote.webelement.WebElement (session=\"5e9f61972ea369798abb7ce44e3169a6\", element=\"7d470395-6265-43bd-b74f-ddb2ea79cfa3\")>,\n",
       " <selenium.webdriver.remote.webelement.WebElement (session=\"5e9f61972ea369798abb7ce44e3169a6\", element=\"05941d49-8477-45fe-85b7-6a67e89fbac1\")>,\n",
       " <selenium.webdriver.remote.webelement.WebElement (session=\"5e9f61972ea369798abb7ce44e3169a6\", element=\"7b8bb4aa-da5c-4a7b-8cf1-ae6a73ea8b9a\")>,\n",
       " <selenium.webdriver.remote.webelement.WebElement (session=\"5e9f61972ea369798abb7ce44e3169a6\", element=\"48aeaef3-076e-4078-b5d8-0d76af8c3de5\")>,\n",
       " <selenium.webdriver.remote.webelement.WebElement (session=\"5e9f61972ea369798abb7ce44e3169a6\", element=\"b718189b-2ee2-4eb9-aec5-98de3e1be169\")>,\n",
       " <selenium.webdriver.remote.webelement.WebElement (session=\"5e9f61972ea369798abb7ce44e3169a6\", element=\"986e714e-7f79-4b7e-9374-9bfd2a20c200\")>,\n",
       " <selenium.webdriver.remote.webelement.WebElement (session=\"5e9f61972ea369798abb7ce44e3169a6\", element=\"123ef9da-2f80-49f1-9337-69e551c3c208\")>,\n",
       " <selenium.webdriver.remote.webelement.WebElement (session=\"5e9f61972ea369798abb7ce44e3169a6\", element=\"78addbe8-6b85-4b97-9d23-60cef98d705a\")>,\n",
       " <selenium.webdriver.remote.webelement.WebElement (session=\"5e9f61972ea369798abb7ce44e3169a6\", element=\"29e1958a-e7e9-43ef-a34d-0433f0700584\")>,\n",
       " <selenium.webdriver.remote.webelement.WebElement (session=\"5e9f61972ea369798abb7ce44e3169a6\", element=\"b695f97b-7ed5-41a2-b88f-990dcbffe7ff\")>,\n",
       " <selenium.webdriver.remote.webelement.WebElement (session=\"5e9f61972ea369798abb7ce44e3169a6\", element=\"e5611dfd-defc-45fe-b9f5-9ee79d8b043d\")>,\n",
       " <selenium.webdriver.remote.webelement.WebElement (session=\"5e9f61972ea369798abb7ce44e3169a6\", element=\"009ac726-9360-4127-911c-4d511a0236b4\")>,\n",
       " <selenium.webdriver.remote.webelement.WebElement (session=\"5e9f61972ea369798abb7ce44e3169a6\", element=\"58351f0e-9026-43b1-b968-db4b9410a1aa\")>,\n",
       " <selenium.webdriver.remote.webelement.WebElement (session=\"5e9f61972ea369798abb7ce44e3169a6\", element=\"eb1279b4-0db7-436a-9eae-f5ca0432f390\")>,\n",
       " <selenium.webdriver.remote.webelement.WebElement (session=\"5e9f61972ea369798abb7ce44e3169a6\", element=\"bf1a70a7-b2d2-4821-b1b2-0ff530afd909\")>,\n",
       " <selenium.webdriver.remote.webelement.WebElement (session=\"5e9f61972ea369798abb7ce44e3169a6\", element=\"c79435dd-e855-46d3-ba05-09317430e3b4\")>,\n",
       " <selenium.webdriver.remote.webelement.WebElement (session=\"5e9f61972ea369798abb7ce44e3169a6\", element=\"fab72867-652f-4f24-a014-da0eeed543c7\")>,\n",
       " <selenium.webdriver.remote.webelement.WebElement (session=\"5e9f61972ea369798abb7ce44e3169a6\", element=\"89a9e1ff-fd3a-4d99-8c7b-863739198949\")>,\n",
       " <selenium.webdriver.remote.webelement.WebElement (session=\"5e9f61972ea369798abb7ce44e3169a6\", element=\"9b0d04b0-2ce9-424e-a176-0ec50231f200\")>,\n",
       " <selenium.webdriver.remote.webelement.WebElement (session=\"5e9f61972ea369798abb7ce44e3169a6\", element=\"8260216a-3437-4a43-a27d-4f12dc5c2519\")>,\n",
       " <selenium.webdriver.remote.webelement.WebElement (session=\"5e9f61972ea369798abb7ce44e3169a6\", element=\"fbf2ac95-29f2-4c17-ac8a-c71a0a1cd74a\")>,\n",
       " <selenium.webdriver.remote.webelement.WebElement (session=\"5e9f61972ea369798abb7ce44e3169a6\", element=\"0a5f75ec-a3bc-4155-87a4-506fd7038885\")>,\n",
       " <selenium.webdriver.remote.webelement.WebElement (session=\"5e9f61972ea369798abb7ce44e3169a6\", element=\"88660f04-af2a-43e1-816f-e64d9ac37e39\")>,\n",
       " <selenium.webdriver.remote.webelement.WebElement (session=\"5e9f61972ea369798abb7ce44e3169a6\", element=\"71a22745-5568-461b-a53d-8ce2bc826af6\")>,\n",
       " <selenium.webdriver.remote.webelement.WebElement (session=\"5e9f61972ea369798abb7ce44e3169a6\", element=\"c7a617b8-0148-4984-b663-51d17cc6c662\")>,\n",
       " <selenium.webdriver.remote.webelement.WebElement (session=\"5e9f61972ea369798abb7ce44e3169a6\", element=\"20899886-f103-4a24-b14a-9cdf39e8700d\")>]"
      ]
     },
     "execution_count": 109,
     "metadata": {},
     "output_type": "execute_result"
    }
   ],
   "source": [
    "brand=driver.find_elements_by_xpath(\"//div[@class= '_2WkVRV']\")\n",
    "brand"
   ]
  },
  {
   "cell_type": "code",
   "execution_count": 115,
   "metadata": {},
   "outputs": [
    {
     "data": {
      "text/plain": [
       "[<selenium.webdriver.remote.webelement.WebElement (session=\"5e9f61972ea369798abb7ce44e3169a6\", element=\"97ac8a1f-15ea-4a7b-b0e3-c3988b28a705\")>,\n",
       " <selenium.webdriver.remote.webelement.WebElement (session=\"5e9f61972ea369798abb7ce44e3169a6\", element=\"6fad907e-2441-49d5-9e9b-5d8131fa6533\")>,\n",
       " <selenium.webdriver.remote.webelement.WebElement (session=\"5e9f61972ea369798abb7ce44e3169a6\", element=\"1ec8b672-acb8-433f-b1f7-6dd561478051\")>,\n",
       " <selenium.webdriver.remote.webelement.WebElement (session=\"5e9f61972ea369798abb7ce44e3169a6\", element=\"e56a3502-8dda-4d76-a054-71146505d486\")>,\n",
       " <selenium.webdriver.remote.webelement.WebElement (session=\"5e9f61972ea369798abb7ce44e3169a6\", element=\"38a472b0-c83b-4be9-aaec-94c3351307e7\")>,\n",
       " <selenium.webdriver.remote.webelement.WebElement (session=\"5e9f61972ea369798abb7ce44e3169a6\", element=\"6518bfe4-f25b-4a23-bd81-7504259b59d0\")>,\n",
       " <selenium.webdriver.remote.webelement.WebElement (session=\"5e9f61972ea369798abb7ce44e3169a6\", element=\"f5613429-d18d-4ff5-ae1e-f3aa8b8c2597\")>,\n",
       " <selenium.webdriver.remote.webelement.WebElement (session=\"5e9f61972ea369798abb7ce44e3169a6\", element=\"ab1603df-2584-45f2-ba1a-e8dbfc0f4e19\")>,\n",
       " <selenium.webdriver.remote.webelement.WebElement (session=\"5e9f61972ea369798abb7ce44e3169a6\", element=\"f1a4b90d-33e3-4219-a49e-b4a8140dced0\")>,\n",
       " <selenium.webdriver.remote.webelement.WebElement (session=\"5e9f61972ea369798abb7ce44e3169a6\", element=\"e9b07bd6-46f9-41dd-92dc-1ff0d15a02dc\")>,\n",
       " <selenium.webdriver.remote.webelement.WebElement (session=\"5e9f61972ea369798abb7ce44e3169a6\", element=\"3a6f159b-d3ec-414e-b946-dbe0902bd0db\")>,\n",
       " <selenium.webdriver.remote.webelement.WebElement (session=\"5e9f61972ea369798abb7ce44e3169a6\", element=\"71eec3c7-977b-45dc-8784-1808adf8f6f7\")>,\n",
       " <selenium.webdriver.remote.webelement.WebElement (session=\"5e9f61972ea369798abb7ce44e3169a6\", element=\"a40b50c9-af85-4963-8146-3f0a296cd8b2\")>,\n",
       " <selenium.webdriver.remote.webelement.WebElement (session=\"5e9f61972ea369798abb7ce44e3169a6\", element=\"14f7f399-6ffa-468b-9d25-81962909db32\")>,\n",
       " <selenium.webdriver.remote.webelement.WebElement (session=\"5e9f61972ea369798abb7ce44e3169a6\", element=\"7d470395-6265-43bd-b74f-ddb2ea79cfa3\")>,\n",
       " <selenium.webdriver.remote.webelement.WebElement (session=\"5e9f61972ea369798abb7ce44e3169a6\", element=\"05941d49-8477-45fe-85b7-6a67e89fbac1\")>,\n",
       " <selenium.webdriver.remote.webelement.WebElement (session=\"5e9f61972ea369798abb7ce44e3169a6\", element=\"7b8bb4aa-da5c-4a7b-8cf1-ae6a73ea8b9a\")>,\n",
       " <selenium.webdriver.remote.webelement.WebElement (session=\"5e9f61972ea369798abb7ce44e3169a6\", element=\"48aeaef3-076e-4078-b5d8-0d76af8c3de5\")>,\n",
       " <selenium.webdriver.remote.webelement.WebElement (session=\"5e9f61972ea369798abb7ce44e3169a6\", element=\"b718189b-2ee2-4eb9-aec5-98de3e1be169\")>,\n",
       " <selenium.webdriver.remote.webelement.WebElement (session=\"5e9f61972ea369798abb7ce44e3169a6\", element=\"986e714e-7f79-4b7e-9374-9bfd2a20c200\")>,\n",
       " <selenium.webdriver.remote.webelement.WebElement (session=\"5e9f61972ea369798abb7ce44e3169a6\", element=\"123ef9da-2f80-49f1-9337-69e551c3c208\")>,\n",
       " <selenium.webdriver.remote.webelement.WebElement (session=\"5e9f61972ea369798abb7ce44e3169a6\", element=\"78addbe8-6b85-4b97-9d23-60cef98d705a\")>,\n",
       " <selenium.webdriver.remote.webelement.WebElement (session=\"5e9f61972ea369798abb7ce44e3169a6\", element=\"29e1958a-e7e9-43ef-a34d-0433f0700584\")>,\n",
       " <selenium.webdriver.remote.webelement.WebElement (session=\"5e9f61972ea369798abb7ce44e3169a6\", element=\"b695f97b-7ed5-41a2-b88f-990dcbffe7ff\")>,\n",
       " <selenium.webdriver.remote.webelement.WebElement (session=\"5e9f61972ea369798abb7ce44e3169a6\", element=\"e5611dfd-defc-45fe-b9f5-9ee79d8b043d\")>,\n",
       " <selenium.webdriver.remote.webelement.WebElement (session=\"5e9f61972ea369798abb7ce44e3169a6\", element=\"009ac726-9360-4127-911c-4d511a0236b4\")>,\n",
       " <selenium.webdriver.remote.webelement.WebElement (session=\"5e9f61972ea369798abb7ce44e3169a6\", element=\"58351f0e-9026-43b1-b968-db4b9410a1aa\")>,\n",
       " <selenium.webdriver.remote.webelement.WebElement (session=\"5e9f61972ea369798abb7ce44e3169a6\", element=\"eb1279b4-0db7-436a-9eae-f5ca0432f390\")>,\n",
       " <selenium.webdriver.remote.webelement.WebElement (session=\"5e9f61972ea369798abb7ce44e3169a6\", element=\"bf1a70a7-b2d2-4821-b1b2-0ff530afd909\")>,\n",
       " <selenium.webdriver.remote.webelement.WebElement (session=\"5e9f61972ea369798abb7ce44e3169a6\", element=\"c79435dd-e855-46d3-ba05-09317430e3b4\")>,\n",
       " <selenium.webdriver.remote.webelement.WebElement (session=\"5e9f61972ea369798abb7ce44e3169a6\", element=\"fab72867-652f-4f24-a014-da0eeed543c7\")>,\n",
       " <selenium.webdriver.remote.webelement.WebElement (session=\"5e9f61972ea369798abb7ce44e3169a6\", element=\"89a9e1ff-fd3a-4d99-8c7b-863739198949\")>,\n",
       " <selenium.webdriver.remote.webelement.WebElement (session=\"5e9f61972ea369798abb7ce44e3169a6\", element=\"9b0d04b0-2ce9-424e-a176-0ec50231f200\")>,\n",
       " <selenium.webdriver.remote.webelement.WebElement (session=\"5e9f61972ea369798abb7ce44e3169a6\", element=\"8260216a-3437-4a43-a27d-4f12dc5c2519\")>,\n",
       " <selenium.webdriver.remote.webelement.WebElement (session=\"5e9f61972ea369798abb7ce44e3169a6\", element=\"fbf2ac95-29f2-4c17-ac8a-c71a0a1cd74a\")>,\n",
       " <selenium.webdriver.remote.webelement.WebElement (session=\"5e9f61972ea369798abb7ce44e3169a6\", element=\"0a5f75ec-a3bc-4155-87a4-506fd7038885\")>,\n",
       " <selenium.webdriver.remote.webelement.WebElement (session=\"5e9f61972ea369798abb7ce44e3169a6\", element=\"88660f04-af2a-43e1-816f-e64d9ac37e39\")>,\n",
       " <selenium.webdriver.remote.webelement.WebElement (session=\"5e9f61972ea369798abb7ce44e3169a6\", element=\"71a22745-5568-461b-a53d-8ce2bc826af6\")>,\n",
       " <selenium.webdriver.remote.webelement.WebElement (session=\"5e9f61972ea369798abb7ce44e3169a6\", element=\"c7a617b8-0148-4984-b663-51d17cc6c662\")>,\n",
       " <selenium.webdriver.remote.webelement.WebElement (session=\"5e9f61972ea369798abb7ce44e3169a6\", element=\"20899886-f103-4a24-b14a-9cdf39e8700d\")>]"
      ]
     },
     "execution_count": 115,
     "metadata": {},
     "output_type": "execute_result"
    }
   ],
   "source": [
    "brand=driver.find_elements_by_xpath(\"//div[@class= '_2WkVRV']\")\n",
    "brand"
   ]
  },
  {
   "cell_type": "code",
   "execution_count": 116,
   "metadata": {},
   "outputs": [
    {
     "data": {
      "text/plain": [
       "['Villain',\n",
       " 'aferelle',\n",
       " 'Fastrack',\n",
       " 'Fastrack',\n",
       " 'PIRASO',\n",
       " 'PHENOMENAL',\n",
       " 'ROZZETTA CRAFT',\n",
       " 'Silver Kartz',\n",
       " 'PIRASO',\n",
       " 'Singco India',\n",
       " 'Fastrack',\n",
       " 'Singco India',\n",
       " 'Fastrack',\n",
       " 'Ferretti',\n",
       " 'HIPPON',\n",
       " 'ROYAL SON',\n",
       " 'Singco India',\n",
       " 'GANSTA',\n",
       " 'PIRASO',\n",
       " 'john jacobs',\n",
       " 'NuVew',\n",
       " 'ROZZETTA CRAFT',\n",
       " 'Fastrack',\n",
       " 'EYEWEARLABS',\n",
       " 'DEIXELS',\n",
       " 'Fastrack',\n",
       " 'ROZZETTA CRAFT',\n",
       " 'PHENOMENAL',\n",
       " 'Fastrack',\n",
       " 'EYEWEARLABS',\n",
       " 'Silver Kartz',\n",
       " 'DEIXELS',\n",
       " 'Fastrack',\n",
       " 'EYEWEARLABS',\n",
       " 'ROZZETTA CRAFT',\n",
       " 'Fastrack',\n",
       " 'DEIXELS',\n",
       " 'PHENOMENAL',\n",
       " 'PHENOMENAL',\n",
       " 'EYEWEARLABS',\n",
       " 'Singco India',\n",
       " 'DEIXELS',\n",
       " 'Fastrack',\n",
       " 'Villain',\n",
       " 'ROYAL SON',\n",
       " 'ROYAL SON',\n",
       " 'Fastrack',\n",
       " 'PHENOMENAL',\n",
       " 'GANSTA',\n",
       " 'ZOSTAL',\n",
       " 'PHENOMENAL',\n",
       " 'Fastrack',\n",
       " 'Fastrack',\n",
       " 'ZOSTAL',\n",
       " 'hipe',\n",
       " 'Fastrack',\n",
       " 'ROZZETTA CRAFT',\n",
       " 'ROYAL SON',\n",
       " 'GANSTA',\n",
       " 'Ferretti',\n",
       " 'Fastrack',\n",
       " 'Fastrack',\n",
       " 'PIRASO',\n",
       " 'GANSTA',\n",
       " 'Singco India',\n",
       " 'ROYAL SON',\n",
       " 'Flizz',\n",
       " 'Fastrack',\n",
       " 'AISLIN',\n",
       " 'GANSTA',\n",
       " 'GANSTA',\n",
       " 'elegante',\n",
       " 'ROZZETTA CRAFT',\n",
       " 'GANSTA',\n",
       " 'ROYAL SON',\n",
       " 'elegante',\n",
       " 'FOSSIL',\n",
       " 'hipe',\n",
       " 'ROZZETTA CRAFT',\n",
       " 'GANSTA',\n",
       " 'Singco India',\n",
       " 'DEIXELS',\n",
       " 'Fastrack',\n",
       " 'Villain',\n",
       " 'ROYAL SON',\n",
       " 'ROYAL SON',\n",
       " 'Fastrack',\n",
       " 'PHENOMENAL',\n",
       " 'GANSTA',\n",
       " 'ZOSTAL',\n",
       " 'PHENOMENAL',\n",
       " 'Fastrack',\n",
       " 'Fastrack',\n",
       " 'ZOSTAL',\n",
       " 'hipe',\n",
       " 'Fastrack',\n",
       " 'ROZZETTA CRAFT',\n",
       " 'ROYAL SON',\n",
       " 'GANSTA',\n",
       " 'Ferretti']"
      ]
     },
     "execution_count": 116,
     "metadata": {},
     "output_type": "execute_result"
    }
   ],
   "source": [
    "for i in brand:\n",
    "    Brand.append(i.text)\n",
    "Brand[:100]"
   ]
  },
  {
   "cell_type": "code",
   "execution_count": 102,
   "metadata": {},
   "outputs": [
    {
     "data": {
      "text/plain": [
       "[<selenium.webdriver.remote.webelement.WebElement (session=\"5e9f61972ea369798abb7ce44e3169a6\", element=\"a576a259-1464-4ffe-b637-8830eb92bd8e\")>,\n",
       " <selenium.webdriver.remote.webelement.WebElement (session=\"5e9f61972ea369798abb7ce44e3169a6\", element=\"847c8651-5aec-4ad3-bdee-0b5d5b52f118\")>,\n",
       " <selenium.webdriver.remote.webelement.WebElement (session=\"5e9f61972ea369798abb7ce44e3169a6\", element=\"ed48bc1a-5994-4e63-a06e-e7d2b0b85ff2\")>,\n",
       " <selenium.webdriver.remote.webelement.WebElement (session=\"5e9f61972ea369798abb7ce44e3169a6\", element=\"d747b3bf-8f29-4108-9138-20f8a9ae7aa8\")>,\n",
       " <selenium.webdriver.remote.webelement.WebElement (session=\"5e9f61972ea369798abb7ce44e3169a6\", element=\"0244b149-decd-4fd6-8d2e-d33f29d0929d\")>,\n",
       " <selenium.webdriver.remote.webelement.WebElement (session=\"5e9f61972ea369798abb7ce44e3169a6\", element=\"72fb86f1-7f50-4428-b89c-75f1a932bf39\")>,\n",
       " <selenium.webdriver.remote.webelement.WebElement (session=\"5e9f61972ea369798abb7ce44e3169a6\", element=\"3eb3f2d3-0bc5-452a-aa3a-c94f46308b29\")>,\n",
       " <selenium.webdriver.remote.webelement.WebElement (session=\"5e9f61972ea369798abb7ce44e3169a6\", element=\"06c52b63-7fee-4ccf-b724-2a169adf4a91\")>,\n",
       " <selenium.webdriver.remote.webelement.WebElement (session=\"5e9f61972ea369798abb7ce44e3169a6\", element=\"2f8e9493-a40e-418b-95ec-6851f56855c5\")>,\n",
       " <selenium.webdriver.remote.webelement.WebElement (session=\"5e9f61972ea369798abb7ce44e3169a6\", element=\"a7ad316b-ad66-420f-a368-15aa4167a0ed\")>]"
      ]
     },
     "execution_count": 102,
     "metadata": {},
     "output_type": "execute_result"
    }
   ],
   "source": [
    "price=driver.find_elements_by_xpath(\"//div[@class= '_30jeq3']\")\n",
    "price[:10]"
   ]
  },
  {
   "cell_type": "code",
   "execution_count": 117,
   "metadata": {},
   "outputs": [
    {
     "data": {
      "text/plain": [
       "[<selenium.webdriver.remote.webelement.WebElement (session=\"5e9f61972ea369798abb7ce44e3169a6\", element=\"1dfd270d-61f9-43c5-b954-237acff2806b\")>,\n",
       " <selenium.webdriver.remote.webelement.WebElement (session=\"5e9f61972ea369798abb7ce44e3169a6\", element=\"5bffa595-2a38-4e2d-91be-127a7ffbfb2d\")>,\n",
       " <selenium.webdriver.remote.webelement.WebElement (session=\"5e9f61972ea369798abb7ce44e3169a6\", element=\"a6de68d5-f3aa-472b-8700-f6d9c4f7978a\")>,\n",
       " <selenium.webdriver.remote.webelement.WebElement (session=\"5e9f61972ea369798abb7ce44e3169a6\", element=\"7399551a-4721-4c9b-b7d5-2a8a12029f7f\")>,\n",
       " <selenium.webdriver.remote.webelement.WebElement (session=\"5e9f61972ea369798abb7ce44e3169a6\", element=\"0aedc1e0-b0e6-42a4-8e18-d43f9b7c2b2c\")>,\n",
       " <selenium.webdriver.remote.webelement.WebElement (session=\"5e9f61972ea369798abb7ce44e3169a6\", element=\"ffec8dbe-2375-4b76-98e9-502cdb3060ed\")>,\n",
       " <selenium.webdriver.remote.webelement.WebElement (session=\"5e9f61972ea369798abb7ce44e3169a6\", element=\"dc33628a-d92b-4a43-b128-5d7e38003b78\")>,\n",
       " <selenium.webdriver.remote.webelement.WebElement (session=\"5e9f61972ea369798abb7ce44e3169a6\", element=\"3f14e28b-240e-4dd6-8b60-f75f2243938f\")>,\n",
       " <selenium.webdriver.remote.webelement.WebElement (session=\"5e9f61972ea369798abb7ce44e3169a6\", element=\"37ef68f2-30a9-405e-964f-0201ac9bbe8b\")>,\n",
       " <selenium.webdriver.remote.webelement.WebElement (session=\"5e9f61972ea369798abb7ce44e3169a6\", element=\"0d690ba4-3b2c-4131-a8da-4759116792dd\")>]"
      ]
     },
     "execution_count": 117,
     "metadata": {},
     "output_type": "execute_result"
    }
   ],
   "source": [
    "price=driver.find_elements_by_xpath(\"//div[@class= '_30jeq3']\")\n",
    "price[:10]"
   ]
  },
  {
   "cell_type": "code",
   "execution_count": 118,
   "metadata": {},
   "outputs": [
    {
     "data": {
      "text/plain": [
       "['₹599',\n",
       " '₹499',\n",
       " '₹630',\n",
       " '₹758',\n",
       " '₹250',\n",
       " '₹399',\n",
       " '₹499',\n",
       " '₹246',\n",
       " '₹349',\n",
       " '₹209',\n",
       " '₹674',\n",
       " '₹249',\n",
       " '₹733',\n",
       " '₹218',\n",
       " '₹251',\n",
       " '₹217',\n",
       " '₹339',\n",
       " '₹281',\n",
       " '₹250',\n",
       " '₹3,000',\n",
       " '₹215',\n",
       " '₹404',\n",
       " '₹759',\n",
       " '₹1,598',\n",
       " '₹209',\n",
       " '₹1,123',\n",
       " '₹449',\n",
       " '₹399',\n",
       " '₹1,085',\n",
       " '₹1,598',\n",
       " '₹284',\n",
       " '₹211',\n",
       " '₹621',\n",
       " '₹1,598',\n",
       " '₹499',\n",
       " '₹749',\n",
       " '₹213',\n",
       " '₹399',\n",
       " '₹399',\n",
       " '₹1,498',\n",
       " '₹599',\n",
       " '₹499',\n",
       " '₹630',\n",
       " '₹758',\n",
       " '₹250',\n",
       " '₹399',\n",
       " '₹499',\n",
       " '₹246',\n",
       " '₹349',\n",
       " '₹209',\n",
       " '₹674',\n",
       " '₹249',\n",
       " '₹733',\n",
       " '₹218',\n",
       " '₹251',\n",
       " '₹217',\n",
       " '₹339',\n",
       " '₹281',\n",
       " '₹250',\n",
       " '₹3,000',\n",
       " '₹215',\n",
       " '₹404',\n",
       " '₹759',\n",
       " '₹1,598',\n",
       " '₹209',\n",
       " '₹1,123',\n",
       " '₹449',\n",
       " '₹399',\n",
       " '₹1,085',\n",
       " '₹1,598',\n",
       " '₹284',\n",
       " '₹211',\n",
       " '₹621',\n",
       " '₹1,598',\n",
       " '₹499',\n",
       " '₹749',\n",
       " '₹213',\n",
       " '₹399',\n",
       " '₹399',\n",
       " '₹1,498',\n",
       " '₹205',\n",
       " '₹249',\n",
       " '₹1,115',\n",
       " '₹599',\n",
       " '₹265',\n",
       " '₹711',\n",
       " '₹844',\n",
       " '₹319',\n",
       " '₹260',\n",
       " '₹228',\n",
       " '₹319',\n",
       " '₹777',\n",
       " '₹758',\n",
       " '₹208',\n",
       " '₹319',\n",
       " '₹759',\n",
       " '₹499',\n",
       " '₹599',\n",
       " '₹281',\n",
       " '₹218']"
      ]
     },
     "execution_count": 118,
     "metadata": {},
     "output_type": "execute_result"
    }
   ],
   "source": [
    "for i in price:\n",
    "    Price.append(i.text)\n",
    "Price[:100]"
   ]
  },
  {
   "cell_type": "code",
   "execution_count": 106,
   "metadata": {},
   "outputs": [
    {
     "data": {
      "text/plain": [
       "[<selenium.webdriver.remote.webelement.WebElement (session=\"5e9f61972ea369798abb7ce44e3169a6\", element=\"df7dc3c9-4276-46ee-92c3-3b98ce69cb44\")>,\n",
       " <selenium.webdriver.remote.webelement.WebElement (session=\"5e9f61972ea369798abb7ce44e3169a6\", element=\"b415e5fc-2721-4063-b698-fb2946ad979c\")>,\n",
       " <selenium.webdriver.remote.webelement.WebElement (session=\"5e9f61972ea369798abb7ce44e3169a6\", element=\"85d6884a-ab21-41a1-921f-379012db39ca\")>,\n",
       " <selenium.webdriver.remote.webelement.WebElement (session=\"5e9f61972ea369798abb7ce44e3169a6\", element=\"bafbff6b-d84e-4b9e-90ab-a8e9e4bf6b20\")>,\n",
       " <selenium.webdriver.remote.webelement.WebElement (session=\"5e9f61972ea369798abb7ce44e3169a6\", element=\"2ccd1715-6eff-4d0e-b694-996351b821d7\")>,\n",
       " <selenium.webdriver.remote.webelement.WebElement (session=\"5e9f61972ea369798abb7ce44e3169a6\", element=\"29d6be64-57d0-4a01-9d07-48f5188c5549\")>,\n",
       " <selenium.webdriver.remote.webelement.WebElement (session=\"5e9f61972ea369798abb7ce44e3169a6\", element=\"7b9308ce-6da3-4d5c-b826-c333d3c631e0\")>,\n",
       " <selenium.webdriver.remote.webelement.WebElement (session=\"5e9f61972ea369798abb7ce44e3169a6\", element=\"dffe1dc7-9e5b-4bc1-af8a-3672b75ca8b4\")>,\n",
       " <selenium.webdriver.remote.webelement.WebElement (session=\"5e9f61972ea369798abb7ce44e3169a6\", element=\"5024bbaf-57ed-488d-ad7c-4f40bd16c20d\")>,\n",
       " <selenium.webdriver.remote.webelement.WebElement (session=\"5e9f61972ea369798abb7ce44e3169a6\", element=\"d5d764b5-db5e-47bd-a8ef-59be69022cf2\")>]"
      ]
     },
     "execution_count": 106,
     "metadata": {},
     "output_type": "execute_result"
    }
   ],
   "source": [
    "discount=driver.find_elements_by_xpath(\"//div[@class= '_3Ay6Sb']\")\n",
    "discount[:10]"
   ]
  },
  {
   "cell_type": "code",
   "execution_count": 112,
   "metadata": {},
   "outputs": [
    {
     "data": {
      "text/plain": [
       "[<selenium.webdriver.remote.webelement.WebElement (session=\"5e9f61972ea369798abb7ce44e3169a6\", element=\"1866c18b-0091-47d6-8fa9-9580c163431e\")>,\n",
       " <selenium.webdriver.remote.webelement.WebElement (session=\"5e9f61972ea369798abb7ce44e3169a6\", element=\"789a6c90-5f4b-4851-b16d-43e1f0eda953\")>,\n",
       " <selenium.webdriver.remote.webelement.WebElement (session=\"5e9f61972ea369798abb7ce44e3169a6\", element=\"ee14011f-e596-4398-8b4b-2f8f9d19e61e\")>,\n",
       " <selenium.webdriver.remote.webelement.WebElement (session=\"5e9f61972ea369798abb7ce44e3169a6\", element=\"c88ee855-4bb4-46ac-bd13-c523a332bf3e\")>,\n",
       " <selenium.webdriver.remote.webelement.WebElement (session=\"5e9f61972ea369798abb7ce44e3169a6\", element=\"306f201e-c276-469e-a32a-35730468a149\")>,\n",
       " <selenium.webdriver.remote.webelement.WebElement (session=\"5e9f61972ea369798abb7ce44e3169a6\", element=\"75a8ace5-cc91-4d7d-a795-1ddb6c34fcde\")>,\n",
       " <selenium.webdriver.remote.webelement.WebElement (session=\"5e9f61972ea369798abb7ce44e3169a6\", element=\"3331dc61-49e5-4838-920e-4d600f78d5e3\")>,\n",
       " <selenium.webdriver.remote.webelement.WebElement (session=\"5e9f61972ea369798abb7ce44e3169a6\", element=\"3fcbd225-1657-414d-ac5b-ecaf8bbc541a\")>,\n",
       " <selenium.webdriver.remote.webelement.WebElement (session=\"5e9f61972ea369798abb7ce44e3169a6\", element=\"f8fe0428-1622-4c3d-ba90-e3195403d816\")>,\n",
       " <selenium.webdriver.remote.webelement.WebElement (session=\"5e9f61972ea369798abb7ce44e3169a6\", element=\"44032072-eadf-4a64-81a1-32d927a82f3c\")>,\n",
       " <selenium.webdriver.remote.webelement.WebElement (session=\"5e9f61972ea369798abb7ce44e3169a6\", element=\"54003e28-3598-4434-a5b4-7fa666e9caa8\")>,\n",
       " <selenium.webdriver.remote.webelement.WebElement (session=\"5e9f61972ea369798abb7ce44e3169a6\", element=\"ccbc2685-0e6d-4cd1-9b15-133e6519efcb\")>,\n",
       " <selenium.webdriver.remote.webelement.WebElement (session=\"5e9f61972ea369798abb7ce44e3169a6\", element=\"7ce9c048-dce5-4994-b68a-d2bae82dd045\")>,\n",
       " <selenium.webdriver.remote.webelement.WebElement (session=\"5e9f61972ea369798abb7ce44e3169a6\", element=\"b3cd5d3c-5d9f-4351-a010-c9d31330789a\")>,\n",
       " <selenium.webdriver.remote.webelement.WebElement (session=\"5e9f61972ea369798abb7ce44e3169a6\", element=\"a9572441-7552-445a-8af5-b855bff86543\")>,\n",
       " <selenium.webdriver.remote.webelement.WebElement (session=\"5e9f61972ea369798abb7ce44e3169a6\", element=\"27ea634a-826d-444f-8471-084d24086b73\")>,\n",
       " <selenium.webdriver.remote.webelement.WebElement (session=\"5e9f61972ea369798abb7ce44e3169a6\", element=\"527e30bd-42bb-40b9-8407-a564d0958f92\")>,\n",
       " <selenium.webdriver.remote.webelement.WebElement (session=\"5e9f61972ea369798abb7ce44e3169a6\", element=\"5ba4a546-2458-468d-9952-a29b9a7dc9a2\")>,\n",
       " <selenium.webdriver.remote.webelement.WebElement (session=\"5e9f61972ea369798abb7ce44e3169a6\", element=\"6d959fd6-008d-4cac-940d-70882ec80337\")>,\n",
       " <selenium.webdriver.remote.webelement.WebElement (session=\"5e9f61972ea369798abb7ce44e3169a6\", element=\"b75ac675-aa62-4151-9f89-9fa8b0913b6d\")>,\n",
       " <selenium.webdriver.remote.webelement.WebElement (session=\"5e9f61972ea369798abb7ce44e3169a6\", element=\"4bc04d36-e180-4e45-b13b-67251a316050\")>,\n",
       " <selenium.webdriver.remote.webelement.WebElement (session=\"5e9f61972ea369798abb7ce44e3169a6\", element=\"75667c56-6cc3-4866-8621-3c79aaeeb94e\")>,\n",
       " <selenium.webdriver.remote.webelement.WebElement (session=\"5e9f61972ea369798abb7ce44e3169a6\", element=\"598b557c-74af-425c-9872-376080503bb1\")>,\n",
       " <selenium.webdriver.remote.webelement.WebElement (session=\"5e9f61972ea369798abb7ce44e3169a6\", element=\"ca3ff6e9-9b81-4b69-bf18-0ee1afcb3c8d\")>,\n",
       " <selenium.webdriver.remote.webelement.WebElement (session=\"5e9f61972ea369798abb7ce44e3169a6\", element=\"5599ad1e-7677-431f-b0d9-a1073fa0cc3d\")>,\n",
       " <selenium.webdriver.remote.webelement.WebElement (session=\"5e9f61972ea369798abb7ce44e3169a6\", element=\"8f1f3548-0c38-4bc5-aaf5-c90846bc0db5\")>,\n",
       " <selenium.webdriver.remote.webelement.WebElement (session=\"5e9f61972ea369798abb7ce44e3169a6\", element=\"1e85ed88-9302-4e62-8928-04020d11326c\")>,\n",
       " <selenium.webdriver.remote.webelement.WebElement (session=\"5e9f61972ea369798abb7ce44e3169a6\", element=\"b3acb9d0-b80a-4234-b794-726860b9f718\")>,\n",
       " <selenium.webdriver.remote.webelement.WebElement (session=\"5e9f61972ea369798abb7ce44e3169a6\", element=\"bb53e3be-073e-4f8d-8aea-3fe7d3831d8a\")>,\n",
       " <selenium.webdriver.remote.webelement.WebElement (session=\"5e9f61972ea369798abb7ce44e3169a6\", element=\"0ed2c822-d357-4c14-8b1e-1c577035d0c2\")>,\n",
       " <selenium.webdriver.remote.webelement.WebElement (session=\"5e9f61972ea369798abb7ce44e3169a6\", element=\"18b65736-7313-4e6d-932b-d5e3d1b42426\")>,\n",
       " <selenium.webdriver.remote.webelement.WebElement (session=\"5e9f61972ea369798abb7ce44e3169a6\", element=\"f7a7fabc-f464-4740-bfd0-9c188bf0819a\")>,\n",
       " <selenium.webdriver.remote.webelement.WebElement (session=\"5e9f61972ea369798abb7ce44e3169a6\", element=\"c9f364be-6338-45c3-b16d-e40e30bfc790\")>,\n",
       " <selenium.webdriver.remote.webelement.WebElement (session=\"5e9f61972ea369798abb7ce44e3169a6\", element=\"5b4a15ee-1784-44b9-b049-b18469676b75\")>,\n",
       " <selenium.webdriver.remote.webelement.WebElement (session=\"5e9f61972ea369798abb7ce44e3169a6\", element=\"992c1b73-5a45-4d4e-9091-3ca419aad0a7\")>,\n",
       " <selenium.webdriver.remote.webelement.WebElement (session=\"5e9f61972ea369798abb7ce44e3169a6\", element=\"acb5a67d-a4ea-45db-93f0-cc9f9a06a9b5\")>,\n",
       " <selenium.webdriver.remote.webelement.WebElement (session=\"5e9f61972ea369798abb7ce44e3169a6\", element=\"28597fdf-bd17-4720-9204-47cc3ed7fc41\")>,\n",
       " <selenium.webdriver.remote.webelement.WebElement (session=\"5e9f61972ea369798abb7ce44e3169a6\", element=\"a078ed19-df9b-4cb8-913a-7f3824e6a9f0\")>,\n",
       " <selenium.webdriver.remote.webelement.WebElement (session=\"5e9f61972ea369798abb7ce44e3169a6\", element=\"b15ea476-de05-4377-8400-d4fc1fe4862c\")>,\n",
       " <selenium.webdriver.remote.webelement.WebElement (session=\"5e9f61972ea369798abb7ce44e3169a6\", element=\"d29782ac-e9ba-45f9-95a0-92acb00f2246\")>]"
      ]
     },
     "execution_count": 112,
     "metadata": {},
     "output_type": "execute_result"
    }
   ],
   "source": [
    "discount=driver.find_elements_by_xpath(\"//div[@class= '_3Ay6Sb']\")\n",
    "discount"
   ]
  },
  {
   "cell_type": "code",
   "execution_count": 119,
   "metadata": {},
   "outputs": [
    {
     "data": {
      "text/plain": [
       "[<selenium.webdriver.remote.webelement.WebElement (session=\"5e9f61972ea369798abb7ce44e3169a6\", element=\"1866c18b-0091-47d6-8fa9-9580c163431e\")>,\n",
       " <selenium.webdriver.remote.webelement.WebElement (session=\"5e9f61972ea369798abb7ce44e3169a6\", element=\"789a6c90-5f4b-4851-b16d-43e1f0eda953\")>,\n",
       " <selenium.webdriver.remote.webelement.WebElement (session=\"5e9f61972ea369798abb7ce44e3169a6\", element=\"ee14011f-e596-4398-8b4b-2f8f9d19e61e\")>,\n",
       " <selenium.webdriver.remote.webelement.WebElement (session=\"5e9f61972ea369798abb7ce44e3169a6\", element=\"c88ee855-4bb4-46ac-bd13-c523a332bf3e\")>,\n",
       " <selenium.webdriver.remote.webelement.WebElement (session=\"5e9f61972ea369798abb7ce44e3169a6\", element=\"306f201e-c276-469e-a32a-35730468a149\")>,\n",
       " <selenium.webdriver.remote.webelement.WebElement (session=\"5e9f61972ea369798abb7ce44e3169a6\", element=\"75a8ace5-cc91-4d7d-a795-1ddb6c34fcde\")>,\n",
       " <selenium.webdriver.remote.webelement.WebElement (session=\"5e9f61972ea369798abb7ce44e3169a6\", element=\"3331dc61-49e5-4838-920e-4d600f78d5e3\")>,\n",
       " <selenium.webdriver.remote.webelement.WebElement (session=\"5e9f61972ea369798abb7ce44e3169a6\", element=\"3fcbd225-1657-414d-ac5b-ecaf8bbc541a\")>,\n",
       " <selenium.webdriver.remote.webelement.WebElement (session=\"5e9f61972ea369798abb7ce44e3169a6\", element=\"f8fe0428-1622-4c3d-ba90-e3195403d816\")>,\n",
       " <selenium.webdriver.remote.webelement.WebElement (session=\"5e9f61972ea369798abb7ce44e3169a6\", element=\"44032072-eadf-4a64-81a1-32d927a82f3c\")>]"
      ]
     },
     "execution_count": 119,
     "metadata": {},
     "output_type": "execute_result"
    }
   ],
   "source": [
    "discount=driver.find_elements_by_xpath(\"//div[@class= '_3Ay6Sb']\")\n",
    "discount[:10]"
   ]
  },
  {
   "cell_type": "code",
   "execution_count": 120,
   "metadata": {},
   "outputs": [
    {
     "data": {
      "text/plain": [
       "['20% off',\n",
       " '80% off',\n",
       " '21% off',\n",
       " '15% off',\n",
       " '84% off',\n",
       " '80% off',\n",
       " '77% off',\n",
       " '83% off',\n",
       " '78% off',\n",
       " '70% off',\n",
       " '25% off',\n",
       " '83% off',\n",
       " '18% off',\n",
       " '63% off',\n",
       " '79% off',\n",
       " '78% off',\n",
       " '71% off',\n",
       " '85% off',\n",
       " '84% off',\n",
       " '45% off',\n",
       " '72% off',\n",
       " '79% off',\n",
       " '15% off',\n",
       " '36% off',\n",
       " '73% off',\n",
       " '13% off',\n",
       " '79% off',\n",
       " '80% off',\n",
       " '16% off',\n",
       " '36% off',\n",
       " '76% off',\n",
       " '57% off',\n",
       " '22% off',\n",
       " '36% off',\n",
       " '77% off',\n",
       " '6% off',\n",
       " '82% off',\n",
       " '80% off',\n",
       " '80% off',\n",
       " '57% off',\n",
       " '79% off',\n",
       " '58% off',\n",
       " '14% off',\n",
       " '20% off',\n",
       " '79% off',\n",
       " '64% off',\n",
       " '6% off',\n",
       " '84% off',\n",
       " '86% off',\n",
       " '77% off',\n",
       " '84% off',\n",
       " '22% off',\n",
       " '15% off',\n",
       " '79% off',\n",
       " '83% off',\n",
       " '15% off',\n",
       " '77% off',\n",
       " '70% off',\n",
       " '85% off',\n",
       " '63% off',\n",
       " '20% off',\n",
       " '21% off',\n",
       " '86% off',\n",
       " '85% off',\n",
       " '84% off',\n",
       " '68% off',\n",
       " '81% off',\n",
       " '11% off',\n",
       " '67% off',\n",
       " '81% off',\n",
       " '85% off',\n",
       " '80% off',\n",
       " '77% off',\n",
       " '85% off',\n",
       " '74% off',\n",
       " '80% off',\n",
       " '40% off',\n",
       " '83% off',\n",
       " '77% off',\n",
       " '83% off',\n",
       " '79% off',\n",
       " '58% off',\n",
       " '14% off',\n",
       " '20% off',\n",
       " '79% off',\n",
       " '64% off',\n",
       " '6% off',\n",
       " '84% off',\n",
       " '86% off',\n",
       " '77% off',\n",
       " '84% off',\n",
       " '22% off',\n",
       " '15% off',\n",
       " '79% off',\n",
       " '83% off',\n",
       " '15% off',\n",
       " '77% off',\n",
       " '70% off',\n",
       " '85% off',\n",
       " '63% off']"
      ]
     },
     "execution_count": 120,
     "metadata": {},
     "output_type": "execute_result"
    }
   ],
   "source": [
    "for i in discount:\n",
    "    Discount.append(i.text)\n",
    "Discount[:100]"
   ]
  },
  {
   "cell_type": "code",
   "execution_count": 121,
   "metadata": {},
   "outputs": [
    {
     "name": "stdout",
     "output_type": "stream",
     "text": [
      "120 120 120\n"
     ]
    }
   ],
   "source": [
    "print(len(Brand),len(Price),len(Discount))"
   ]
  },
  {
   "cell_type": "code",
   "execution_count": 122,
   "metadata": {},
   "outputs": [
    {
     "data": {
      "text/html": [
       "<div>\n",
       "<style scoped>\n",
       "    .dataframe tbody tr th:only-of-type {\n",
       "        vertical-align: middle;\n",
       "    }\n",
       "\n",
       "    .dataframe tbody tr th {\n",
       "        vertical-align: top;\n",
       "    }\n",
       "\n",
       "    .dataframe thead th {\n",
       "        text-align: right;\n",
       "    }\n",
       "</style>\n",
       "<table border=\"1\" class=\"dataframe\">\n",
       "  <thead>\n",
       "    <tr style=\"text-align: right;\">\n",
       "      <th></th>\n",
       "      <th>Brand</th>\n",
       "      <th>Price</th>\n",
       "      <th>Discount</th>\n",
       "    </tr>\n",
       "  </thead>\n",
       "  <tbody>\n",
       "    <tr>\n",
       "      <th>0</th>\n",
       "      <td>Villain</td>\n",
       "      <td>₹599</td>\n",
       "      <td>20% off</td>\n",
       "    </tr>\n",
       "    <tr>\n",
       "      <th>1</th>\n",
       "      <td>aferelle</td>\n",
       "      <td>₹499</td>\n",
       "      <td>80% off</td>\n",
       "    </tr>\n",
       "    <tr>\n",
       "      <th>2</th>\n",
       "      <td>Fastrack</td>\n",
       "      <td>₹630</td>\n",
       "      <td>21% off</td>\n",
       "    </tr>\n",
       "    <tr>\n",
       "      <th>3</th>\n",
       "      <td>Fastrack</td>\n",
       "      <td>₹758</td>\n",
       "      <td>15% off</td>\n",
       "    </tr>\n",
       "    <tr>\n",
       "      <th>4</th>\n",
       "      <td>PIRASO</td>\n",
       "      <td>₹250</td>\n",
       "      <td>84% off</td>\n",
       "    </tr>\n",
       "    <tr>\n",
       "      <th>...</th>\n",
       "      <td>...</td>\n",
       "      <td>...</td>\n",
       "      <td>...</td>\n",
       "    </tr>\n",
       "    <tr>\n",
       "      <th>95</th>\n",
       "      <td>Fastrack</td>\n",
       "      <td>₹759</td>\n",
       "      <td>15% off</td>\n",
       "    </tr>\n",
       "    <tr>\n",
       "      <th>96</th>\n",
       "      <td>ROZZETTA CRAFT</td>\n",
       "      <td>₹499</td>\n",
       "      <td>77% off</td>\n",
       "    </tr>\n",
       "    <tr>\n",
       "      <th>97</th>\n",
       "      <td>ROYAL SON</td>\n",
       "      <td>₹599</td>\n",
       "      <td>70% off</td>\n",
       "    </tr>\n",
       "    <tr>\n",
       "      <th>98</th>\n",
       "      <td>GANSTA</td>\n",
       "      <td>₹281</td>\n",
       "      <td>85% off</td>\n",
       "    </tr>\n",
       "    <tr>\n",
       "      <th>99</th>\n",
       "      <td>Ferretti</td>\n",
       "      <td>₹218</td>\n",
       "      <td>63% off</td>\n",
       "    </tr>\n",
       "  </tbody>\n",
       "</table>\n",
       "<p>100 rows × 3 columns</p>\n",
       "</div>"
      ],
      "text/plain": [
       "             Brand Price Discount\n",
       "0          Villain  ₹599  20% off\n",
       "1         aferelle  ₹499  80% off\n",
       "2         Fastrack  ₹630  21% off\n",
       "3         Fastrack  ₹758  15% off\n",
       "4           PIRASO  ₹250  84% off\n",
       "..             ...   ...      ...\n",
       "95        Fastrack  ₹759  15% off\n",
       "96  ROZZETTA CRAFT  ₹499  77% off\n",
       "97       ROYAL SON  ₹599  70% off\n",
       "98          GANSTA  ₹281  85% off\n",
       "99        Ferretti  ₹218  63% off\n",
       "\n",
       "[100 rows x 3 columns]"
      ]
     },
     "execution_count": 122,
     "metadata": {},
     "output_type": "execute_result"
    }
   ],
   "source": [
    "import pandas as pd\n",
    "Sunglass=pd.DataFrame({})\n",
    "Sunglass[\"Brand\"]=Brand\n",
    "Sunglass[\"Price\"]=Price\n",
    "Sunglass[\"Discount\"]=Discount\n",
    "Sunglass[:100]"
   ]
  },
  {
   "cell_type": "markdown",
   "metadata": {},
   "source": [
    "# Scrapping iphone 11 from flipkart"
   ]
  },
  {
   "cell_type": "code",
   "execution_count": 1,
   "metadata": {},
   "outputs": [],
   "source": [
    "import selenium\n",
    "import pandas as pd\n",
    "from selenium import webdriver"
   ]
  },
  {
   "cell_type": "code",
   "execution_count": 4,
   "metadata": {},
   "outputs": [],
   "source": [
    "driver=webdriver.Chrome(\"chromedriver.exe\")"
   ]
  },
  {
   "cell_type": "code",
   "execution_count": 5,
   "metadata": {},
   "outputs": [],
   "source": [
    "url= \"https://www.flipkart.com/apple-iphone-11-black-64-gb-includes\u0002earpods-power\u0002adapter/p/itm0f37c2240b217?pid=MOBFKCTSVZAXUHGR&lid=LSTMOBFKC\"\n",
    "driver.get(url)"
   ]
  },
  {
   "cell_type": "code",
   "execution_count": 27,
   "metadata": {},
   "outputs": [],
   "source": [
    "Ratings=[]\n",
    "Review_summary=[]\n",
    "Full_review=[]"
   ]
  },
  {
   "cell_type": "code",
   "execution_count": 28,
   "metadata": {},
   "outputs": [
    {
     "data": {
      "text/plain": [
       "['5', '5', '5', '', '', '', '', '', '', '']"
      ]
     },
     "execution_count": 28,
     "metadata": {},
     "output_type": "execute_result"
    }
   ],
   "source": [
    "for i in range(0,25):\n",
    "    for j in driver.find_elements_by_xpath(\"//div[@class= '_3LWZlK _1BLPMq']\"):\n",
    "        Ratings.append(j.text)\n",
    "Ratings[:10]"
   ]
  },
  {
   "cell_type": "code",
   "execution_count": 29,
   "metadata": {},
   "outputs": [
    {
     "data": {
      "text/plain": [
       "['Brilliant', 'Perfect product!', 'Great product', '', '', '', '', '', '', '']"
      ]
     },
     "execution_count": 29,
     "metadata": {},
     "output_type": "execute_result"
    }
   ],
   "source": [
    "for i in range(0,25):\n",
    "    for j in driver.find_elements_by_xpath(\"//p[@class= '_2-N8zT']\"):\n",
    "        Review_summary.append(j.text)\n",
    "Review_summary[:10]"
   ]
  },
  {
   "cell_type": "code",
   "execution_count": 30,
   "metadata": {},
   "outputs": [
    {
     "data": {
      "text/plain": [
       "['The Best Phone for the Money\\n\\nThe iPhone 11 offers superb cameras, a more durable design and excellent battery life for an affordable price.\\n\\nCompelling ultra-wide camera\\nNew Night mode is excellent\\nLong battery life',\n",
       " 'Amazing phone with great cameras and better battery which gives you the best performance. I just love the camera .',\n",
       " 'Amazing Powerful and Durable Gadget.\\n\\nI’m am very happy with the camera picture quality, Amazing face id unlocked in dark room, Strong battery with perfect screen size as you can carry easily in pocket. This is my third iPhone.\\n\\nI shifted from android Samsung Note series to iPhone because of the strong build quality and peace of mind for next 3-4 years.\\n\\nDon’t think to much just go for it and I suggest you to go for minimum 128gb variant or more 256gb.\\n\\nI’ve attached my puppy pics and no fi...\\nREAD MORE',\n",
       " '',\n",
       " '',\n",
       " '',\n",
       " '',\n",
       " '',\n",
       " '',\n",
       " '']"
      ]
     },
     "execution_count": 30,
     "metadata": {},
     "output_type": "execute_result"
    }
   ],
   "source": [
    "for i in range(0,25):\n",
    "    for j in driver.find_elements_by_xpath(\"//div[@class= 't-ZTKy']\"):\n",
    "        Full_review.append(j.text)\n",
    "Full_review[:10]"
   ]
  },
  {
   "cell_type": "code",
   "execution_count": 31,
   "metadata": {},
   "outputs": [
    {
     "name": "stdout",
     "output_type": "stream",
     "text": [
      "250 250 250\n"
     ]
    }
   ],
   "source": [
    "print(len(Ratings),len(Review_summary),len(Full_review))"
   ]
  },
  {
   "cell_type": "code",
   "execution_count": 33,
   "metadata": {},
   "outputs": [
    {
     "data": {
      "text/html": [
       "<div>\n",
       "<style scoped>\n",
       "    .dataframe tbody tr th:only-of-type {\n",
       "        vertical-align: middle;\n",
       "    }\n",
       "\n",
       "    .dataframe tbody tr th {\n",
       "        vertical-align: top;\n",
       "    }\n",
       "\n",
       "    .dataframe thead th {\n",
       "        text-align: right;\n",
       "    }\n",
       "</style>\n",
       "<table border=\"1\" class=\"dataframe\">\n",
       "  <thead>\n",
       "    <tr style=\"text-align: right;\">\n",
       "      <th></th>\n",
       "      <th>Ratings</th>\n",
       "      <th>Review_summary</th>\n",
       "      <th>Full_review</th>\n",
       "    </tr>\n",
       "  </thead>\n",
       "  <tbody>\n",
       "    <tr>\n",
       "      <th>0</th>\n",
       "      <td>5</td>\n",
       "      <td>Brilliant</td>\n",
       "      <td>The Best Phone for the Money\\n\\nThe iPhone 11 ...</td>\n",
       "    </tr>\n",
       "    <tr>\n",
       "      <th>1</th>\n",
       "      <td>5</td>\n",
       "      <td>Perfect product!</td>\n",
       "      <td>Amazing phone with great cameras and better ba...</td>\n",
       "    </tr>\n",
       "    <tr>\n",
       "      <th>2</th>\n",
       "      <td>5</td>\n",
       "      <td>Great product</td>\n",
       "      <td>Amazing Powerful and Durable Gadget.\\n\\nI’m am...</td>\n",
       "    </tr>\n",
       "    <tr>\n",
       "      <th>3</th>\n",
       "      <td></td>\n",
       "      <td></td>\n",
       "      <td></td>\n",
       "    </tr>\n",
       "    <tr>\n",
       "      <th>4</th>\n",
       "      <td></td>\n",
       "      <td></td>\n",
       "      <td></td>\n",
       "    </tr>\n",
       "    <tr>\n",
       "      <th>...</th>\n",
       "      <td>...</td>\n",
       "      <td>...</td>\n",
       "      <td>...</td>\n",
       "    </tr>\n",
       "    <tr>\n",
       "      <th>95</th>\n",
       "      <td></td>\n",
       "      <td></td>\n",
       "      <td></td>\n",
       "    </tr>\n",
       "    <tr>\n",
       "      <th>96</th>\n",
       "      <td></td>\n",
       "      <td></td>\n",
       "      <td></td>\n",
       "    </tr>\n",
       "    <tr>\n",
       "      <th>97</th>\n",
       "      <td></td>\n",
       "      <td></td>\n",
       "      <td></td>\n",
       "    </tr>\n",
       "    <tr>\n",
       "      <th>98</th>\n",
       "      <td></td>\n",
       "      <td></td>\n",
       "      <td></td>\n",
       "    </tr>\n",
       "    <tr>\n",
       "      <th>99</th>\n",
       "      <td></td>\n",
       "      <td></td>\n",
       "      <td></td>\n",
       "    </tr>\n",
       "  </tbody>\n",
       "</table>\n",
       "<p>100 rows × 3 columns</p>\n",
       "</div>"
      ],
      "text/plain": [
       "   Ratings    Review_summary  \\\n",
       "0        5         Brilliant   \n",
       "1        5  Perfect product!   \n",
       "2        5     Great product   \n",
       "3                              \n",
       "4                              \n",
       "..     ...               ...   \n",
       "95                             \n",
       "96                             \n",
       "97                             \n",
       "98                             \n",
       "99                             \n",
       "\n",
       "                                          Full_review  \n",
       "0   The Best Phone for the Money\\n\\nThe iPhone 11 ...  \n",
       "1   Amazing phone with great cameras and better ba...  \n",
       "2   Amazing Powerful and Durable Gadget.\\n\\nI’m am...  \n",
       "3                                                      \n",
       "4                                                      \n",
       "..                                                ...  \n",
       "95                                                     \n",
       "96                                                     \n",
       "97                                                     \n",
       "98                                                     \n",
       "99                                                     \n",
       "\n",
       "[100 rows x 3 columns]"
      ]
     },
     "execution_count": 33,
     "metadata": {},
     "output_type": "execute_result"
    }
   ],
   "source": [
    "Iphone=pd.DataFrame({})\n",
    "Iphone[\"Ratings\"]=Ratings\n",
    "Iphone[\"Review_summary\"]=Review_summary\n",
    "Iphone[\"Full_review\"]=Full_review\n",
    "Iphone[:100]"
   ]
  },
  {
   "cell_type": "code",
   "execution_count": null,
   "metadata": {},
   "outputs": [],
   "source": []
  },
  {
   "cell_type": "markdown",
   "metadata": {},
   "source": [
    "# Scarping 100 sneakers from Flipkart"
   ]
  },
  {
   "cell_type": "code",
   "execution_count": 39,
   "metadata": {},
   "outputs": [],
   "source": [
    "driver=webdriver.Chrome(\"chromedriver.exe\")"
   ]
  },
  {
   "cell_type": "code",
   "execution_count": 131,
   "metadata": {},
   "outputs": [],
   "source": [
    "url= \"https://www.flipkart.com/\"\n",
    "driver.get(url)"
   ]
  },
  {
   "cell_type": "code",
   "execution_count": 122,
   "metadata": {},
   "outputs": [],
   "source": [
    "Brand=[]\n",
    "Price=[]\n",
    "Discount=[]"
   ]
  },
  {
   "cell_type": "code",
   "execution_count": 123,
   "metadata": {},
   "outputs": [
    {
     "data": {
      "text/plain": [
       "['Robbie jones',\n",
       " 'aadi',\n",
       " 'Numenzo',\n",
       " 'ORICUM',\n",
       " 'Shoes Bank',\n",
       " 'BRUTON',\n",
       " '\"trend\"',\n",
       " 'HOTSTYLE',\n",
       " 'Robbie jones',\n",
       " 'Numenzo']"
      ]
     },
     "execution_count": 123,
     "metadata": {},
     "output_type": "execute_result"
    }
   ],
   "source": [
    "for i in range(0,3):\n",
    "    for j in driver.find_elements_by_xpath(\"//div[@class= '_2WkVRV']\"):\n",
    "        Brand.append(j.text)\n",
    "Brand[:10]"
   ]
  },
  {
   "cell_type": "code",
   "execution_count": 124,
   "metadata": {},
   "outputs": [
    {
     "data": {
      "text/plain": [
       "['₹399',\n",
       " '₹298',\n",
       " '₹429',\n",
       " '₹398',\n",
       " '₹349',\n",
       " '₹499',\n",
       " '₹449',\n",
       " '₹299',\n",
       " '₹474',\n",
       " '₹539']"
      ]
     },
     "execution_count": 124,
     "metadata": {},
     "output_type": "execute_result"
    }
   ],
   "source": [
    "for i in range(0,3):\n",
    "    for j in driver.find_elements_by_xpath(\"//div[@class= '_30jeq3']\"):\n",
    "        Price.append(j.text)\n",
    "Price[:10]"
   ]
  },
  {
   "cell_type": "code",
   "execution_count": 125,
   "metadata": {},
   "outputs": [
    {
     "data": {
      "text/plain": [
       "['60% off',\n",
       " '70% off',\n",
       " '57% off',\n",
       " '60% off',\n",
       " '65% off',\n",
       " '85% off',\n",
       " '77% off',\n",
       " '40% off',\n",
       " '52% off',\n",
       " '46% off']"
      ]
     },
     "execution_count": 125,
     "metadata": {},
     "output_type": "execute_result"
    }
   ],
   "source": [
    "for i in range(0,3):\n",
    "    for j in driver.find_elements_by_xpath(\"//div[@class= '_3Ay6Sb']\"):\n",
    "        Discount.append(j.text)\n",
    "Discount[:10]"
   ]
  },
  {
   "cell_type": "code",
   "execution_count": 129,
   "metadata": {},
   "outputs": [
    {
     "name": "stdout",
     "output_type": "stream",
     "text": [
      "120 120 120\n"
     ]
    }
   ],
   "source": [
    "print(len(Brand),len(Price),len(Discount))"
   ]
  },
  {
   "cell_type": "code",
   "execution_count": 128,
   "metadata": {},
   "outputs": [
    {
     "data": {
      "text/html": [
       "<div>\n",
       "<style scoped>\n",
       "    .dataframe tbody tr th:only-of-type {\n",
       "        vertical-align: middle;\n",
       "    }\n",
       "\n",
       "    .dataframe tbody tr th {\n",
       "        vertical-align: top;\n",
       "    }\n",
       "\n",
       "    .dataframe thead th {\n",
       "        text-align: right;\n",
       "    }\n",
       "</style>\n",
       "<table border=\"1\" class=\"dataframe\">\n",
       "  <thead>\n",
       "    <tr style=\"text-align: right;\">\n",
       "      <th></th>\n",
       "      <th>Brand</th>\n",
       "      <th>Price</th>\n",
       "      <th>Discount</th>\n",
       "    </tr>\n",
       "  </thead>\n",
       "  <tbody>\n",
       "    <tr>\n",
       "      <th>0</th>\n",
       "      <td>Robbie jones</td>\n",
       "      <td>₹399</td>\n",
       "      <td>60% off</td>\n",
       "    </tr>\n",
       "    <tr>\n",
       "      <th>1</th>\n",
       "      <td>aadi</td>\n",
       "      <td>₹298</td>\n",
       "      <td>70% off</td>\n",
       "    </tr>\n",
       "    <tr>\n",
       "      <th>2</th>\n",
       "      <td>Numenzo</td>\n",
       "      <td>₹429</td>\n",
       "      <td>57% off</td>\n",
       "    </tr>\n",
       "    <tr>\n",
       "      <th>3</th>\n",
       "      <td>ORICUM</td>\n",
       "      <td>₹398</td>\n",
       "      <td>60% off</td>\n",
       "    </tr>\n",
       "    <tr>\n",
       "      <th>4</th>\n",
       "      <td>Shoes Bank</td>\n",
       "      <td>₹349</td>\n",
       "      <td>65% off</td>\n",
       "    </tr>\n",
       "    <tr>\n",
       "      <th>...</th>\n",
       "      <td>...</td>\n",
       "      <td>...</td>\n",
       "      <td>...</td>\n",
       "    </tr>\n",
       "    <tr>\n",
       "      <th>95</th>\n",
       "      <td>Robbie jones</td>\n",
       "      <td>₹428</td>\n",
       "      <td>57% off</td>\n",
       "    </tr>\n",
       "    <tr>\n",
       "      <th>96</th>\n",
       "      <td>believe</td>\n",
       "      <td>₹446</td>\n",
       "      <td>55% off</td>\n",
       "    </tr>\n",
       "    <tr>\n",
       "      <th>97</th>\n",
       "      <td>Birde</td>\n",
       "      <td>₹842</td>\n",
       "      <td>57% off</td>\n",
       "    </tr>\n",
       "    <tr>\n",
       "      <th>98</th>\n",
       "      <td>Stefano Rads</td>\n",
       "      <td>₹242</td>\n",
       "      <td>65% off</td>\n",
       "    </tr>\n",
       "    <tr>\n",
       "      <th>99</th>\n",
       "      <td>SCATCHITE</td>\n",
       "      <td>₹398</td>\n",
       "      <td>60% off</td>\n",
       "    </tr>\n",
       "  </tbody>\n",
       "</table>\n",
       "<p>100 rows × 3 columns</p>\n",
       "</div>"
      ],
      "text/plain": [
       "           Brand Price Discount\n",
       "0   Robbie jones  ₹399  60% off\n",
       "1           aadi  ₹298  70% off\n",
       "2        Numenzo  ₹429  57% off\n",
       "3         ORICUM  ₹398  60% off\n",
       "4     Shoes Bank  ₹349  65% off\n",
       "..           ...   ...      ...\n",
       "95  Robbie jones  ₹428  57% off\n",
       "96       believe  ₹446  55% off\n",
       "97         Birde  ₹842  57% off\n",
       "98  Stefano Rads  ₹242  65% off\n",
       "99     SCATCHITE  ₹398  60% off\n",
       "\n",
       "[100 rows x 3 columns]"
      ]
     },
     "execution_count": 128,
     "metadata": {},
     "output_type": "execute_result"
    }
   ],
   "source": [
    "import pandas as pd\n",
    "Sneakers=pd.DataFrame({})\n",
    "Sneakers[\"Brand\"]=Brand\n",
    "Sneakers[\"Price\"]=Price\n",
    "Sneakers[\"Discount\"]=Discount\n",
    "Sneakers[:100]"
   ]
  },
  {
   "cell_type": "markdown",
   "metadata": {},
   "source": [
    "# Scarping 100 sneakers from Myntra"
   ]
  },
  {
   "cell_type": "code",
   "execution_count": 304,
   "metadata": {},
   "outputs": [],
   "source": [
    "driver=webdriver.Chrome(\"chromedriver.exe\")"
   ]
  },
  {
   "cell_type": "code",
   "execution_count": 305,
   "metadata": {},
   "outputs": [],
   "source": [
    "url= \"https://www.myntra.com/shoes\"\n",
    "driver.get(url)"
   ]
  },
  {
   "cell_type": "code",
   "execution_count": null,
   "metadata": {},
   "outputs": [],
   "source": [
    "search_btn=driver.find_element_by_id(\"nav-search-submit-button\")\n",
    "search_btn.click()"
   ]
  },
  {
   "cell_type": "code",
   "execution_count": 306,
   "metadata": {},
   "outputs": [
    {
     "data": {
      "text/plain": [
       "<selenium.webdriver.remote.webelement.WebElement (session=\"79ea4e32d16cee2bc80a6fa25b9475da\", element=\"31e083f6-9590-427c-b5b3-20259cdae0d8\")>"
      ]
     },
     "execution_count": 306,
     "metadata": {},
     "output_type": "execute_result"
    }
   ],
   "source": [
    "search_btn=driver.find_element_by_xpath(\"//div[@class='common-checkboxIndicator']\")\n",
    "search_btn"
   ]
  },
  {
   "cell_type": "code",
   "execution_count": 307,
   "metadata": {},
   "outputs": [],
   "source": [
    "Brand=[]\n",
    "Price=[]"
   ]
  },
  {
   "cell_type": "code",
   "execution_count": 308,
   "metadata": {},
   "outputs": [
    {
     "data": {
      "text/plain": [
       "['Skechers',\n",
       " 'ALDO',\n",
       " 'Nike',\n",
       " 'Puma',\n",
       " 'Nike',\n",
       " 'Puma',\n",
       " 'Cole Haan',\n",
       " 'Puma',\n",
       " 'Onitsuka Tiger',\n",
       " 'UNDER ARMOUR']"
      ]
     },
     "execution_count": 308,
     "metadata": {},
     "output_type": "execute_result"
    }
   ],
   "source": [
    "for i in range(0,3):\n",
    "    for j in driver.find_elements_by_xpath(\"//h3[@class= 'product-brand']\"):\n",
    "        Brand.append(j.text)\n",
    "Brand[:10]"
   ]
  },
  {
   "cell_type": "code",
   "execution_count": 309,
   "metadata": {},
   "outputs": [
    {
     "data": {
      "text/plain": [
       "['Rs. 6999',\n",
       " 'Rs. 9999',\n",
       " 'Rs. 7436Rs. 9295(20% OFF)',\n",
       " 'Rs. 9999',\n",
       " 'Rs. 10995',\n",
       " 'Rs. 8499Rs. 9999(15% OFF)',\n",
       " 'Rs. 10999',\n",
       " 'Rs. 9999',\n",
       " 'Rs. 6999',\n",
       " 'Rs. 8999']"
      ]
     },
     "execution_count": 309,
     "metadata": {},
     "output_type": "execute_result"
    }
   ],
   "source": [
    "for i in range(0,3):\n",
    "    for j in driver.find_elements_by_xpath(\"//div[@class= 'product-price']\"):\n",
    "        Price.append(j.text)\n",
    "Price[:10]"
   ]
  },
  {
   "cell_type": "code",
   "execution_count": 310,
   "metadata": {},
   "outputs": [
    {
     "name": "stdout",
     "output_type": "stream",
     "text": [
      "150 150\n"
     ]
    }
   ],
   "source": [
    "print(len(Brand),len(Price))"
   ]
  },
  {
   "cell_type": "code",
   "execution_count": 312,
   "metadata": {},
   "outputs": [
    {
     "data": {
      "text/html": [
       "<div>\n",
       "<style scoped>\n",
       "    .dataframe tbody tr th:only-of-type {\n",
       "        vertical-align: middle;\n",
       "    }\n",
       "\n",
       "    .dataframe tbody tr th {\n",
       "        vertical-align: top;\n",
       "    }\n",
       "\n",
       "    .dataframe thead th {\n",
       "        text-align: right;\n",
       "    }\n",
       "</style>\n",
       "<table border=\"1\" class=\"dataframe\">\n",
       "  <thead>\n",
       "    <tr style=\"text-align: right;\">\n",
       "      <th></th>\n",
       "      <th>Brand</th>\n",
       "      <th>Price</th>\n",
       "    </tr>\n",
       "  </thead>\n",
       "  <tbody>\n",
       "    <tr>\n",
       "      <th>0</th>\n",
       "      <td>Skechers</td>\n",
       "      <td>Rs. 6999</td>\n",
       "    </tr>\n",
       "    <tr>\n",
       "      <th>1</th>\n",
       "      <td>ALDO</td>\n",
       "      <td>Rs. 9999</td>\n",
       "    </tr>\n",
       "    <tr>\n",
       "      <th>2</th>\n",
       "      <td>Nike</td>\n",
       "      <td>Rs. 7436Rs. 9295(20% OFF)</td>\n",
       "    </tr>\n",
       "    <tr>\n",
       "      <th>3</th>\n",
       "      <td>Puma</td>\n",
       "      <td>Rs. 9999</td>\n",
       "    </tr>\n",
       "    <tr>\n",
       "      <th>4</th>\n",
       "      <td>Nike</td>\n",
       "      <td>Rs. 10995</td>\n",
       "    </tr>\n",
       "    <tr>\n",
       "      <th>...</th>\n",
       "      <td>...</td>\n",
       "      <td>...</td>\n",
       "    </tr>\n",
       "    <tr>\n",
       "      <th>95</th>\n",
       "      <td>ADIDAS Originals</td>\n",
       "      <td>Rs. 7309Rs. 8599(15% OFF)</td>\n",
       "    </tr>\n",
       "    <tr>\n",
       "      <th>96</th>\n",
       "      <td>Onitsuka Tiger</td>\n",
       "      <td>Rs. 9999</td>\n",
       "    </tr>\n",
       "    <tr>\n",
       "      <th>97</th>\n",
       "      <td>ALDO</td>\n",
       "      <td>Rs. 9999</td>\n",
       "    </tr>\n",
       "    <tr>\n",
       "      <th>98</th>\n",
       "      <td>ALDO</td>\n",
       "      <td>Rs. 11999</td>\n",
       "    </tr>\n",
       "    <tr>\n",
       "      <th>99</th>\n",
       "      <td>ADIDAS Originals</td>\n",
       "      <td>Rs. 9749Rs. 12999(25% OFF)</td>\n",
       "    </tr>\n",
       "  </tbody>\n",
       "</table>\n",
       "<p>100 rows × 2 columns</p>\n",
       "</div>"
      ],
      "text/plain": [
       "               Brand                       Price\n",
       "0           Skechers                    Rs. 6999\n",
       "1               ALDO                    Rs. 9999\n",
       "2               Nike   Rs. 7436Rs. 9295(20% OFF)\n",
       "3               Puma                    Rs. 9999\n",
       "4               Nike                   Rs. 10995\n",
       "..               ...                         ...\n",
       "95  ADIDAS Originals   Rs. 7309Rs. 8599(15% OFF)\n",
       "96    Onitsuka Tiger                    Rs. 9999\n",
       "97              ALDO                    Rs. 9999\n",
       "98              ALDO                   Rs. 11999\n",
       "99  ADIDAS Originals  Rs. 9749Rs. 12999(25% OFF)\n",
       "\n",
       "[100 rows x 2 columns]"
      ]
     },
     "execution_count": 312,
     "metadata": {},
     "output_type": "execute_result"
    }
   ],
   "source": [
    "Sneakers=pd.DataFrame({})\n",
    "Sneakers[\"Brand\"]=Brand\n",
    "Sneakers[\"Price\"]=Price\n",
    "Sneakers[:100]"
   ]
  },
  {
   "cell_type": "code",
   "execution_count": null,
   "metadata": {},
   "outputs": [],
   "source": []
  },
  {
   "cell_type": "markdown",
   "metadata": {},
   "source": [
    "# Scraping laptop from Amazon i7"
   ]
  },
  {
   "cell_type": "code",
   "execution_count": 246,
   "metadata": {},
   "outputs": [],
   "source": [
    "driver=webdriver.Chrome(\"chromedriver.exe\")"
   ]
  },
  {
   "cell_type": "code",
   "execution_count": 247,
   "metadata": {},
   "outputs": [
    {
     "name": "stdout",
     "output_type": "stream",
     "text": [
      "Enter the product you want to search:Laptop i7\n"
     ]
    }
   ],
   "source": [
    "url= \"https://www.amazon.in/\"\n",
    "driver.get(url)\n",
    "user_inp=input(\"Enter the product you want to search:\")"
   ]
  },
  {
   "cell_type": "code",
   "execution_count": 248,
   "metadata": {},
   "outputs": [],
   "source": [
    "search_bar=driver.find_element_by_id(\"twotabsearchtextbox\")\n",
    "search_bar.clear()\n",
    "search_bar.send_keys(user_inp)"
   ]
  },
  {
   "cell_type": "code",
   "execution_count": 249,
   "metadata": {},
   "outputs": [],
   "source": [
    "search_btn=driver.find_element_by_id(\"nav-search-submit-button\")\n",
    "search_btn.click()"
   ]
  },
  {
   "cell_type": "code",
   "execution_count": 250,
   "metadata": {},
   "outputs": [],
   "source": [
    "Title=[]\n",
    "Ratings=[]\n",
    "Price=[]"
   ]
  },
  {
   "cell_type": "code",
   "execution_count": 251,
   "metadata": {},
   "outputs": [
    {
     "data": {
      "text/plain": [
       "['Lenovo ThinkPad E15 (2021) Intel Core i7 11th Gen 15.6\" FHD IPS Thin and Light Laptop (16GB RAM/512GB SSD/Windows 10/MS Office/Fingerprint Reader/Black/Aluminium Surface/ 1.7 kg), 20TDS0A100',\n",
       " 'Lenovo ThinkPad X390 Intel Core i7 10th Gen 13.3\" FHD (1920x1080) IPS Thin and Light Laptop (8GB RAM / 512GB SSD/ Windows 10 Professional 64/ Black/ 1.29Kg), 20SCS01J00',\n",
       " 'HP 14 10th Gen Intel Core i5 Processor 14\" (35.56cms) FHD Laptop with Built-in 4G LTE (8GB/256GB SSD + 1TB HDD/Windows 10/MS Office 2019/Natural Silver/1.51kg) 14s-er0003TU',\n",
       " 'Acer Travelmate TMP214-52 14-inch Laptop (10th Gen Core i5-10210U/8GB/1TB HDD + 256GB SSD/Window 10 Home 64Bit/Intel UHD Graphics), Black',\n",
       " '',\n",
       " 'Acer Nitro 5 Intel Core i7-11th Generation 144 Hz Refresh Rate 15.6-inch (39.62 cms) Gaming Laptop (8GB Ram/1TB SSD/Win10/GTX 1650 Graphics/Obsidian Black/2.2 Kgs), AN515-56 + Xbox Game Pass for PC',\n",
       " 'HP Pavilion x360 (2021) 14\" (35.56cms) FHD Touchscreen Laptop, 11th Gen Core i7, 8 GB RAM, 512GB SSD, 2-in-1 Convertible, Windows 10, MS Office, Finger Print Reader (14-dw1040TU)',\n",
       " 'Lenovo ThinkPad X13 (2021) Intel Core i7 10th Gen 13.3-inch Full HD Laptop (16GB RAM/ 512GB SSD/ Windows 10 Professional/ Black/ 1.29 kg), 20T2S0TR00',\n",
       " 'HP Pavilion x360 Touchscreen 2-in-1 FHD 14\" (35.56cms) Laptop (10th Gen Core i7-10510U/8GB/512GB SSD/Windows 10 Home/MS Office/Mineral Silver/1.58 kg), 14-dh1180tu',\n",
       " 'Mi Notebook Horizon Edition 14 Intel Core i7-10510U 10th Gen 14-inch (35.56 cms) Thin and Light Laptop(8GB/512GB SSD/Windows 10/Nvidia MX350 2GB Graphics/Grey/1.35Kg), XMA1904-AF+Webcam']"
      ]
     },
     "execution_count": 251,
     "metadata": {},
     "output_type": "execute_result"
    }
   ],
   "source": [
    "for j in driver.find_elements_by_xpath(\"//h2[@class= 'a-size-mini a-spacing-none a-color-base s-line-clamp-2']\"):\n",
    "        Title.append(j.text)\n",
    "Title[:10]"
   ]
  },
  {
   "cell_type": "code",
   "execution_count": 253,
   "metadata": {},
   "outputs": [
    {
     "data": {
      "text/plain": [
       "['3', '723', '153', '7', '', '1', '14', '115', '723', '3']"
      ]
     },
     "execution_count": 253,
     "metadata": {},
     "output_type": "execute_result"
    }
   ],
   "source": [
    "for j in driver.find_elements_by_xpath(\"//span[@class= 'a-size-base']\"):\n",
    "        Ratings.append(j.text)\n",
    "Ratings[:10]"
   ]
  },
  {
   "cell_type": "code",
   "execution_count": 254,
   "metadata": {},
   "outputs": [
    {
     "data": {
      "text/plain": [
       "['84,990',\n",
       " '1,29,803',\n",
       " '59,999',\n",
       " '61,990',\n",
       " '56,710',\n",
       " '',\n",
       " '84,990',\n",
       " '77,878',\n",
       " '1,53,097',\n",
       " '69,990']"
      ]
     },
     "execution_count": 254,
     "metadata": {},
     "output_type": "execute_result"
    }
   ],
   "source": [
    "for j in driver.find_elements_by_xpath(\"//span[@class= 'a-price-whole']\"):\n",
    "        Price.append(j.text)\n",
    "Price[:10]"
   ]
  },
  {
   "cell_type": "code",
   "execution_count": 255,
   "metadata": {},
   "outputs": [
    {
     "name": "stdout",
     "output_type": "stream",
     "text": [
      "25 44 25\n"
     ]
    }
   ],
   "source": [
    "print(len(Title),len(Ratings),len(Price))"
   ]
  },
  {
   "cell_type": "code",
   "execution_count": 256,
   "metadata": {},
   "outputs": [
    {
     "data": {
      "text/html": [
       "<div>\n",
       "<style scoped>\n",
       "    .dataframe tbody tr th:only-of-type {\n",
       "        vertical-align: middle;\n",
       "    }\n",
       "\n",
       "    .dataframe tbody tr th {\n",
       "        vertical-align: top;\n",
       "    }\n",
       "\n",
       "    .dataframe thead th {\n",
       "        text-align: right;\n",
       "    }\n",
       "</style>\n",
       "<table border=\"1\" class=\"dataframe\">\n",
       "  <thead>\n",
       "    <tr style=\"text-align: right;\">\n",
       "      <th></th>\n",
       "      <th>Title</th>\n",
       "      <th>Ratings</th>\n",
       "      <th>Price</th>\n",
       "    </tr>\n",
       "  </thead>\n",
       "  <tbody>\n",
       "    <tr>\n",
       "      <th>0</th>\n",
       "      <td>Lenovo ThinkPad E15 (2021) Intel Core i7 11th ...</td>\n",
       "      <td>3</td>\n",
       "      <td>84,990</td>\n",
       "    </tr>\n",
       "    <tr>\n",
       "      <th>1</th>\n",
       "      <td>Lenovo ThinkPad X390 Intel Core i7 10th Gen 13...</td>\n",
       "      <td>723</td>\n",
       "      <td>1,29,803</td>\n",
       "    </tr>\n",
       "    <tr>\n",
       "      <th>2</th>\n",
       "      <td>HP 14 10th Gen Intel Core i5 Processor 14\" (35...</td>\n",
       "      <td>153</td>\n",
       "      <td>59,999</td>\n",
       "    </tr>\n",
       "    <tr>\n",
       "      <th>3</th>\n",
       "      <td>Acer Travelmate TMP214-52 14-inch Laptop (10th...</td>\n",
       "      <td>7</td>\n",
       "      <td>61,990</td>\n",
       "    </tr>\n",
       "    <tr>\n",
       "      <th>4</th>\n",
       "      <td></td>\n",
       "      <td></td>\n",
       "      <td>56,710</td>\n",
       "    </tr>\n",
       "    <tr>\n",
       "      <th>5</th>\n",
       "      <td>Acer Nitro 5 Intel Core i7-11th Generation 144...</td>\n",
       "      <td>1</td>\n",
       "      <td></td>\n",
       "    </tr>\n",
       "    <tr>\n",
       "      <th>6</th>\n",
       "      <td>HP Pavilion x360 (2021) 14\" (35.56cms) FHD Tou...</td>\n",
       "      <td>14</td>\n",
       "      <td>84,990</td>\n",
       "    </tr>\n",
       "    <tr>\n",
       "      <th>7</th>\n",
       "      <td>Lenovo ThinkPad X13 (2021) Intel Core i7 10th ...</td>\n",
       "      <td>115</td>\n",
       "      <td>77,878</td>\n",
       "    </tr>\n",
       "    <tr>\n",
       "      <th>8</th>\n",
       "      <td>HP Pavilion x360 Touchscreen 2-in-1 FHD 14\" (3...</td>\n",
       "      <td>723</td>\n",
       "      <td>1,53,097</td>\n",
       "    </tr>\n",
       "    <tr>\n",
       "      <th>9</th>\n",
       "      <td>Mi Notebook Horizon Edition 14 Intel Core i7-1...</td>\n",
       "      <td>3</td>\n",
       "      <td>69,990</td>\n",
       "    </tr>\n",
       "  </tbody>\n",
       "</table>\n",
       "</div>"
      ],
      "text/plain": [
       "                                               Title Ratings     Price\n",
       "0  Lenovo ThinkPad E15 (2021) Intel Core i7 11th ...       3    84,990\n",
       "1  Lenovo ThinkPad X390 Intel Core i7 10th Gen 13...     723  1,29,803\n",
       "2  HP 14 10th Gen Intel Core i5 Processor 14\" (35...     153    59,999\n",
       "3  Acer Travelmate TMP214-52 14-inch Laptop (10th...       7    61,990\n",
       "4                                                               56,710\n",
       "5  Acer Nitro 5 Intel Core i7-11th Generation 144...       1          \n",
       "6  HP Pavilion x360 (2021) 14\" (35.56cms) FHD Tou...      14    84,990\n",
       "7  Lenovo ThinkPad X13 (2021) Intel Core i7 10th ...     115    77,878\n",
       "8  HP Pavilion x360 Touchscreen 2-in-1 FHD 14\" (3...     723  1,53,097\n",
       "9  Mi Notebook Horizon Edition 14 Intel Core i7-1...       3    69,990"
      ]
     },
     "execution_count": 256,
     "metadata": {},
     "output_type": "execute_result"
    }
   ],
   "source": [
    "Laptop=pd.DataFrame({})\n",
    "Laptop[\"Title\"]=Title[:10]\n",
    "Laptop[\"Ratings\"]=Ratings[:10]\n",
    "Laptop[\"Price\"]=Price[:10]\n",
    "Laptop[:10]"
   ]
  },
  {
   "cell_type": "markdown",
   "metadata": {},
   "source": [
    "# Scraping laptop from Amazon i9"
   ]
  },
  {
   "cell_type": "code",
   "execution_count": 257,
   "metadata": {},
   "outputs": [],
   "source": [
    "driver=webdriver.Chrome(\"chromedriver.exe\")"
   ]
  },
  {
   "cell_type": "code",
   "execution_count": 258,
   "metadata": {},
   "outputs": [
    {
     "name": "stdout",
     "output_type": "stream",
     "text": [
      "Enter the product you want to search:Laptop i9\n"
     ]
    }
   ],
   "source": [
    "url= \"https://www.amazon.in/\"\n",
    "driver.get(url)\n",
    "user_inp=input(\"Enter the product you want to search:\")"
   ]
  },
  {
   "cell_type": "code",
   "execution_count": 259,
   "metadata": {},
   "outputs": [],
   "source": [
    "search_bar=driver.find_element_by_id(\"twotabsearchtextbox\")\n",
    "search_bar.clear()\n",
    "search_bar.send_keys(user_inp)"
   ]
  },
  {
   "cell_type": "code",
   "execution_count": 260,
   "metadata": {},
   "outputs": [],
   "source": [
    "search_btn=driver.find_element_by_id(\"nav-search-submit-button\")\n",
    "search_btn.click()"
   ]
  },
  {
   "cell_type": "code",
   "execution_count": 238,
   "metadata": {},
   "outputs": [],
   "source": [
    "Title=[]\n",
    "Ratings=[]\n",
    "Price=[]"
   ]
  },
  {
   "cell_type": "code",
   "execution_count": 261,
   "metadata": {},
   "outputs": [
    {
     "data": {
      "text/plain": [
       "['Lenovo ThinkPad E15 (2021) Intel Core i7 11th Gen 15.6\" FHD IPS Thin and Light Laptop (16GB RAM/512GB SSD/Windows 10/MS Office/Fingerprint Reader/Black/Aluminium Surface/ 1.7 kg), 20TDS0A100',\n",
       " 'Lenovo ThinkPad X390 Intel Core i7 10th Gen 13.3\" FHD (1920x1080) IPS Thin and Light Laptop (8GB RAM / 512GB SSD/ Windows 10 Professional 64/ Black/ 1.29Kg), 20SCS01J00',\n",
       " 'HP 14 10th Gen Intel Core i5 Processor 14\" (35.56cms) FHD Laptop with Built-in 4G LTE (8GB/256GB SSD + 1TB HDD/Windows 10/MS Office 2019/Natural Silver/1.51kg) 14s-er0003TU',\n",
       " 'Acer Travelmate TMP214-52 14-inch Laptop (10th Gen Core i5-10210U/8GB/1TB HDD + 256GB SSD/Window 10 Home 64Bit/Intel UHD Graphics), Black',\n",
       " '',\n",
       " 'Acer Nitro 5 Intel Core i7-11th Generation 144 Hz Refresh Rate 15.6-inch (39.62 cms) Gaming Laptop (8GB Ram/1TB SSD/Win10/GTX 1650 Graphics/Obsidian Black/2.2 Kgs), AN515-56 + Xbox Game Pass for PC',\n",
       " 'HP Pavilion x360 (2021) 14\" (35.56cms) FHD Touchscreen Laptop, 11th Gen Core i7, 8 GB RAM, 512GB SSD, 2-in-1 Convertible, Windows 10, MS Office, Finger Print Reader (14-dw1040TU)',\n",
       " 'Lenovo ThinkPad X13 (2021) Intel Core i7 10th Gen 13.3-inch Full HD Laptop (16GB RAM/ 512GB SSD/ Windows 10 Professional/ Black/ 1.29 kg), 20T2S0TR00',\n",
       " 'HP Pavilion x360 Touchscreen 2-in-1 FHD 14\" (35.56cms) Laptop (10th Gen Core i7-10510U/8GB/512GB SSD/Windows 10 Home/MS Office/Mineral Silver/1.58 kg), 14-dh1180tu',\n",
       " 'Mi Notebook Horizon Edition 14 Intel Core i7-10510U 10th Gen 14-inch (35.56 cms) Thin and Light Laptop(8GB/512GB SSD/Windows 10/Nvidia MX350 2GB Graphics/Grey/1.35Kg), XMA1904-AF+Webcam']"
      ]
     },
     "execution_count": 261,
     "metadata": {},
     "output_type": "execute_result"
    }
   ],
   "source": [
    "for j in driver.find_elements_by_xpath(\"//h2[@class= 'a-size-mini a-spacing-none a-color-base s-line-clamp-2']\"):\n",
    "        Title.append(j.text)\n",
    "Title[:10]"
   ]
  },
  {
   "cell_type": "code",
   "execution_count": 262,
   "metadata": {},
   "outputs": [
    {
     "data": {
      "text/plain": [
       "['3', '723', '153', '7', '', '1', '14', '115', '723', '3']"
      ]
     },
     "execution_count": 262,
     "metadata": {},
     "output_type": "execute_result"
    }
   ],
   "source": [
    "for j in driver.find_elements_by_xpath(\"//span[@class= 'a-size-base']\"):\n",
    "        Ratings.append(j.text)\n",
    "Ratings[:10]"
   ]
  },
  {
   "cell_type": "code",
   "execution_count": 263,
   "metadata": {},
   "outputs": [
    {
     "data": {
      "text/plain": [
       "['84,990',\n",
       " '1,29,803',\n",
       " '59,999',\n",
       " '61,990',\n",
       " '56,710',\n",
       " '',\n",
       " '84,990',\n",
       " '77,878',\n",
       " '1,53,097',\n",
       " '69,990']"
      ]
     },
     "execution_count": 263,
     "metadata": {},
     "output_type": "execute_result"
    }
   ],
   "source": [
    "for j in driver.find_elements_by_xpath(\"//span[@class= 'a-price-whole']\"):\n",
    "        Price.append(j.text)\n",
    "Price[:10]"
   ]
  },
  {
   "cell_type": "code",
   "execution_count": 264,
   "metadata": {},
   "outputs": [
    {
     "name": "stdout",
     "output_type": "stream",
     "text": [
      "50 67 50\n"
     ]
    }
   ],
   "source": [
    "print(len(Title),len(Ratings),len(Price))"
   ]
  },
  {
   "cell_type": "code",
   "execution_count": 265,
   "metadata": {},
   "outputs": [
    {
     "data": {
      "text/html": [
       "<div>\n",
       "<style scoped>\n",
       "    .dataframe tbody tr th:only-of-type {\n",
       "        vertical-align: middle;\n",
       "    }\n",
       "\n",
       "    .dataframe tbody tr th {\n",
       "        vertical-align: top;\n",
       "    }\n",
       "\n",
       "    .dataframe thead th {\n",
       "        text-align: right;\n",
       "    }\n",
       "</style>\n",
       "<table border=\"1\" class=\"dataframe\">\n",
       "  <thead>\n",
       "    <tr style=\"text-align: right;\">\n",
       "      <th></th>\n",
       "      <th>Title</th>\n",
       "      <th>Ratings</th>\n",
       "      <th>Price</th>\n",
       "    </tr>\n",
       "  </thead>\n",
       "  <tbody>\n",
       "    <tr>\n",
       "      <th>0</th>\n",
       "      <td>Lenovo ThinkPad E15 (2021) Intel Core i7 11th ...</td>\n",
       "      <td>3</td>\n",
       "      <td>84,990</td>\n",
       "    </tr>\n",
       "    <tr>\n",
       "      <th>1</th>\n",
       "      <td>Lenovo ThinkPad X390 Intel Core i7 10th Gen 13...</td>\n",
       "      <td>723</td>\n",
       "      <td>1,29,803</td>\n",
       "    </tr>\n",
       "    <tr>\n",
       "      <th>2</th>\n",
       "      <td>HP 14 10th Gen Intel Core i5 Processor 14\" (35...</td>\n",
       "      <td>153</td>\n",
       "      <td>59,999</td>\n",
       "    </tr>\n",
       "    <tr>\n",
       "      <th>3</th>\n",
       "      <td>Acer Travelmate TMP214-52 14-inch Laptop (10th...</td>\n",
       "      <td>7</td>\n",
       "      <td>61,990</td>\n",
       "    </tr>\n",
       "    <tr>\n",
       "      <th>4</th>\n",
       "      <td></td>\n",
       "      <td></td>\n",
       "      <td>56,710</td>\n",
       "    </tr>\n",
       "    <tr>\n",
       "      <th>5</th>\n",
       "      <td>Acer Nitro 5 Intel Core i7-11th Generation 144...</td>\n",
       "      <td>1</td>\n",
       "      <td></td>\n",
       "    </tr>\n",
       "    <tr>\n",
       "      <th>6</th>\n",
       "      <td>HP Pavilion x360 (2021) 14\" (35.56cms) FHD Tou...</td>\n",
       "      <td>14</td>\n",
       "      <td>84,990</td>\n",
       "    </tr>\n",
       "    <tr>\n",
       "      <th>7</th>\n",
       "      <td>Lenovo ThinkPad X13 (2021) Intel Core i7 10th ...</td>\n",
       "      <td>115</td>\n",
       "      <td>77,878</td>\n",
       "    </tr>\n",
       "    <tr>\n",
       "      <th>8</th>\n",
       "      <td>HP Pavilion x360 Touchscreen 2-in-1 FHD 14\" (3...</td>\n",
       "      <td>723</td>\n",
       "      <td>1,53,097</td>\n",
       "    </tr>\n",
       "    <tr>\n",
       "      <th>9</th>\n",
       "      <td>Mi Notebook Horizon Edition 14 Intel Core i7-1...</td>\n",
       "      <td>3</td>\n",
       "      <td>69,990</td>\n",
       "    </tr>\n",
       "  </tbody>\n",
       "</table>\n",
       "</div>"
      ],
      "text/plain": [
       "                                               Title Ratings     Price\n",
       "0  Lenovo ThinkPad E15 (2021) Intel Core i7 11th ...       3    84,990\n",
       "1  Lenovo ThinkPad X390 Intel Core i7 10th Gen 13...     723  1,29,803\n",
       "2  HP 14 10th Gen Intel Core i5 Processor 14\" (35...     153    59,999\n",
       "3  Acer Travelmate TMP214-52 14-inch Laptop (10th...       7    61,990\n",
       "4                                                               56,710\n",
       "5  Acer Nitro 5 Intel Core i7-11th Generation 144...       1          \n",
       "6  HP Pavilion x360 (2021) 14\" (35.56cms) FHD Tou...      14    84,990\n",
       "7  Lenovo ThinkPad X13 (2021) Intel Core i7 10th ...     115    77,878\n",
       "8  HP Pavilion x360 Touchscreen 2-in-1 FHD 14\" (3...     723  1,53,097\n",
       "9  Mi Notebook Horizon Edition 14 Intel Core i7-1...       3    69,990"
      ]
     },
     "execution_count": 265,
     "metadata": {},
     "output_type": "execute_result"
    }
   ],
   "source": [
    "Laptop=pd.DataFrame({})\n",
    "Laptop[\"Title\"]=Title[:10]\n",
    "Laptop[\"Ratings\"]=Ratings[:10]\n",
    "Laptop[\"Price\"]=Price[:10]\n",
    "Laptop[:10]"
   ]
  },
  {
   "cell_type": "code",
   "execution_count": null,
   "metadata": {},
   "outputs": [],
   "source": []
  }
 ],
 "metadata": {
  "kernelspec": {
   "display_name": "Python 3",
   "language": "python",
   "name": "python3"
  },
  "language_info": {
   "codemirror_mode": {
    "name": "ipython",
    "version": 3
   },
   "file_extension": ".py",
   "mimetype": "text/x-python",
   "name": "python",
   "nbconvert_exporter": "python",
   "pygments_lexer": "ipython3",
   "version": "3.8.5"
  }
 },
 "nbformat": 4,
 "nbformat_minor": 4
}
